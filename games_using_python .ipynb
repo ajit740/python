{
 "cells": [
  {
   "cell_type": "markdown",
   "id": "ccac3b3c",
   "metadata": {},
   "source": [
    "# WAP to print a coint toss  using Random "
   ]
  },
  {
   "cell_type": "code",
   "execution_count": 1,
   "id": "80706af1",
   "metadata": {},
   "outputs": [],
   "source": [
    "import random "
   ]
  },
  {
   "cell_type": "code",
   "execution_count": 8,
   "id": "8a7c5199",
   "metadata": {},
   "outputs": [
    {
     "name": "stdout",
     "output_type": "stream",
     "text": [
      "you got an output tail\n"
     ]
    }
   ],
   "source": [
    "def coin_toss():\n",
    "    result=random.choice([\"head\",\"tail\"])\n",
    "    return result\n",
    "# result=coin_toss()\n",
    "print(\"you got an output\",result)"
   ]
  },
  {
   "cell_type": "code",
   "execution_count": 14,
   "id": "eae3e74e",
   "metadata": {},
   "outputs": [
    {
     "name": "stdout",
     "output_type": "stream",
     "text": [
      "enter your choice head or Tail  head\n",
      "the toss output=: tail\n",
      "you lost the toss\n"
     ]
    }
   ],
   "source": [
    "def coin_toss():\n",
    "    result=random.choice([\"head\",\"tail\"])\n",
    "    return result\n",
    "def main():\n",
    "    user_choice=input(\"enter your choice head or Tail  \")\n",
    "    toss_result=coin_toss()\n",
    "    print(\"the toss output=:\",toss_result)\n",
    "    \n",
    "    if user_choice==toss_result:\n",
    "        print(\"you won the toss \")\n",
    "    else:\n",
    "        print(\"you lost the toss\")\n",
    "        \n",
    "if __name__==\"__main__\":\n",
    "    main()\n",
    "    "
   ]
  },
  {
   "cell_type": "markdown",
   "id": "c9f1a3ec",
   "metadata": {},
   "source": [
    "# Wap to print a dice semulator\n"
   ]
  },
  {
   "cell_type": "code",
   "execution_count": null,
   "id": "b3c48e66",
   "metadata": {},
   "outputs": [],
   "source": [
    "def dice():\n",
    "    return random.randint(1,6)\n",
    "\n",
    "def main():\n",
    "    print(\"welcome to dice game \")\n",
    "#     while True:\n",
    "        input(\"please hit enter button to roll the dice \")\n",
    "        result=dice()\n",
    "        print(\"you got a number \",result)\n",
    "        play_again=input(\"do you want to play again yes or no \").lower()\n",
    "        if play_again!=\"yes\":\n",
    "            print(\"thanks for playing\")\n",
    "            break\n",
    "if __name__==\"__main__\":\n",
    "    main()\n",
    "            \n",
    "    "
   ]
  },
  {
   "cell_type": "markdown",
   "id": "5c3f0745",
   "metadata": {},
   "source": [
    "# Wap to create a stone paper sessior"
   ]
  },
  {
   "cell_type": "code",
   "execution_count": 1,
   "id": "eb4aad68",
   "metadata": {},
   "outputs": [
    {
     "name": "stdout",
     "output_type": "stream",
     "text": [
      "welcome to the stone paper scissor game \n",
      "enter your choice (stone/paper/scissor)stone\n",
      "you choose  stone\n",
      "computer choose  scissor\n",
      " you won the game\n",
      "do you want to play again yes or no  yes\n",
      "enter your choice (stone/paper/scissor)paper\n",
      "you choose  paper\n",
      "computer choose  stone\n",
      " you won the game\n",
      "do you want to play again yes or no  stone\n",
      "thanks for playing\n"
     ]
    }
   ],
   "source": [
    "import random\n",
    "def user_input():\n",
    "    user_choice=input(\"enter your choice (stone/paper/scissor)\").lower()\n",
    "    while user_choice not in [\"stone\",\"paper\",\"scissor\"]:\n",
    "        print(\"invalid choice please choose again\")\n",
    "        user_choice=input(\"enter your choice (stone/paper/scissor)\").lower()\n",
    "    return user_choice\n",
    "    \n",
    "def computer_input():\n",
    "    return random.choice([\"stone\",\"paper\",\"scissor\"])\n",
    "\n",
    "def winner(user_choice,computer_choice):\n",
    "    if user_choice==computer_choice:\n",
    "        return \"match is tie\"\n",
    "    elif((user_choice==\"stone\" and computer_choice==\"scissor\") or (user_choice==\"paper\" and computer_choice==\"stone\") or (user_choice==\"scissor\" and computer_choice==\"paper\")):\n",
    "        return \" you won the game\"\n",
    "    else:\n",
    "        return \"sorry you lost\"\n",
    "    \n",
    "def main():\n",
    "    print(\"welcome to the stone paper scissor game \")\n",
    "    while True:\n",
    "        user_choice=user_input()\n",
    "        computer_choice=computer_input()\n",
    "        print(\"you choose \" , user_choice)\n",
    "        print(\"computer choose \",computer_choice)\n",
    "        print(winner(user_choice,computer_choice))\n",
    "        play_again=input(\"do you want to play again yes or no  \").lower()\n",
    "        if play_again!=\"yes\":\n",
    "            print(\"thanks for playing\")\n",
    "            break\n",
    "            \n",
    "if __name__==\"__main__\":\n",
    "    main()\n",
    "            \n",
    "\n",
    "\n",
    "        \n",
    "        \n",
    "    "
   ]
  },
  {
   "cell_type": "code",
   "execution_count": null,
   "id": "6ceaf1ae",
   "metadata": {},
   "outputs": [],
   "source": []
  }
 ],
 "metadata": {
  "kernelspec": {
   "display_name": "Python 3 (ipykernel)",
   "language": "python",
   "name": "python3"
  },
  "language_info": {
   "codemirror_mode": {
    "name": "ipython",
    "version": 3
   },
   "file_extension": ".py",
   "mimetype": "text/x-python",
   "name": "python",
   "nbconvert_exporter": "python",
   "pygments_lexer": "ipython3",
   "version": "3.9.7"
  }
 },
 "nbformat": 4,
 "nbformat_minor": 5
}
