{
 "cells": [
  {
   "cell_type": "markdown",
   "id": "d1e6f689",
   "metadata": {},
   "source": [
    "# what do you mean by file handling in python programming"
   ]
  },
  {
   "cell_type": "markdown",
   "id": "40461f0c",
   "metadata": {},
   "source": [
    "- File handling in Python refers to the process of working with files on your computer's storage system. Python provides built-in functions and modules that allow you to create, read, write, and manipulate files.\n",
    "\n",
    "\n",
    "1. Opening a File: To work with a file, you first need to open it using the open() function. It takes two parameters: the file path and the mode. Modes include:\n",
    "\n",
    "\n",
    "- 'r': read mode (default)\n",
    "\n",
    "- 'w': write mode (truncate the file if it exists)\n",
    "\n",
    "- 'a': append mode (keep existing content and add new content to the end)\n",
    "\n",
    "- 'x': exclusive creation mode (creates a new file and fails if it already exists)\n",
    "\n",
    "- 'b': binary mode (e.g., 'rb' or 'wb')\n",
    "\n",
    "\n",
    "- Reading from a File: After opening a file in read mode, you can read its content using methods like read(), readline(), or readlines().\n",
    "\n",
    "\n",
    "- Writing to a File: When a file is opened in write mode, you can write data to it using the write() method. You can also use the writelines() method to write a list of lines to the file.\n"
   ]
  },
  {
   "cell_type": "code",
   "execution_count": 1,
   "id": "d2c8e755",
   "metadata": {},
   "outputs": [],
   "source": [
    "\n",
    "#reading a file with open method\n",
    "file=open(r\"C:\\Users\\Ajit\\Downloads\\bank\\new1.txt\",\"r\")"
   ]
  },
  {
   "cell_type": "code",
   "execution_count": 2,
   "id": "1f750d0c",
   "metadata": {},
   "outputs": [
    {
     "data": {
      "text/plain": [
       "<_io.TextIOWrapper name='C:\\\\Users\\\\Ajit\\\\Downloads\\\\bank\\\\new1.txt' mode='r' encoding='cp1252'>"
      ]
     },
     "execution_count": 2,
     "metadata": {},
     "output_type": "execute_result"
    }
   ],
   "source": [
    "file"
   ]
  },
  {
   "cell_type": "code",
   "execution_count": 3,
   "id": "7dea03f2",
   "metadata": {},
   "outputs": [
    {
     "name": "stdout",
     "output_type": "stream",
     "text": [
      "my name is ajit rawat \n",
      " i am from sonipat haryana\n",
      " i am from sonipat haryana\n"
     ]
    }
   ],
   "source": [
    "content=file.read()\n",
    "print(content)\n",
    "file.close()"
   ]
  },
  {
   "cell_type": "code",
   "execution_count": 4,
   "id": "c8661402",
   "metadata": {},
   "outputs": [],
   "source": [
    "file.close()"
   ]
  },
  {
   "cell_type": "code",
   "execution_count": 5,
   "id": "9044e17a",
   "metadata": {},
   "outputs": [
    {
     "data": {
      "text/plain": [
       "<_io.TextIOWrapper name='C:\\\\Users\\\\Ajit\\\\Downloads\\\\bank\\\\new1.txt' mode='r' encoding='cp1252'>"
      ]
     },
     "execution_count": 5,
     "metadata": {},
     "output_type": "execute_result"
    }
   ],
   "source": [
    "file"
   ]
  },
  {
   "cell_type": "code",
   "execution_count": 6,
   "id": "79b325c9",
   "metadata": {},
   "outputs": [
    {
     "name": "stdout",
     "output_type": "stream",
     "text": [
      "my name is ajit rawat \n",
      " i am from sonipat haryana\n",
      " i am from sonipat haryana\n"
     ]
    }
   ],
   "source": [
    "print(content)"
   ]
  },
  {
   "cell_type": "code",
   "execution_count": 7,
   "id": "d64f28da",
   "metadata": {},
   "outputs": [
    {
     "name": "stdout",
     "output_type": "stream",
     "text": [
      "my name is ajit rawat \n",
      " i am from sonipat haryana\n",
      " i am from sonipat haryana\n"
     ]
    }
   ],
   "source": [
    "#file=open(r\"C:\\Users\\Ajit\\Downloads\\bank\\new1.txt\",\"r\")\n",
    "with open(r\"C:\\Users\\Ajit\\Downloads\\bank\\new1.txt\",\"r\") as file:\n",
    "    content=file.read()\n",
    "    print(content)"
   ]
  },
  {
   "cell_type": "code",
   "execution_count": 8,
   "id": "eaf48781",
   "metadata": {},
   "outputs": [],
   "source": [
    "#append method\n",
    "with open(r\"C:\\Users\\Ajit\\Downloads\\bank\\new1.txt\",\"a\") as file:\n",
    "    file.write(\"\\n i am from sonipat haryana\")\n",
    "   "
   ]
  },
  {
   "cell_type": "code",
   "execution_count": 9,
   "id": "5376e83c",
   "metadata": {},
   "outputs": [
    {
     "name": "stdout",
     "output_type": "stream",
     "text": [
      "my name is ajit rawat \n",
      " i am from sonipat haryana\n",
      " i am from sonipat haryana\n",
      " i am from sonipat haryana\n"
     ]
    }
   ],
   "source": [
    "#see the new content of file after append method\n",
    "with open(r\"C:\\Users\\Ajit\\Downloads\\bank\\new1.txt\",\"r\") as file:\n",
    "    content=file.read()\n",
    "    print(content)"
   ]
  },
  {
   "cell_type": "code",
   "execution_count": 10,
   "id": "c095e82f",
   "metadata": {},
   "outputs": [],
   "source": [
    "#write method this method over write the content of your file\n",
    "with open(r\"C:\\Users\\Ajit\\Downloads\\bank\\new1.txt\",\"w\") as file:\n",
    "    file.write(\"hello i am ajit\")\n",
    "    \n",
    "    "
   ]
  },
  {
   "cell_type": "code",
   "execution_count": 13,
   "id": "e64c0ab9",
   "metadata": {},
   "outputs": [
    {
     "name": "stdout",
     "output_type": "stream",
     "text": [
      "hello i am ajit\n"
     ]
    }
   ],
   "source": [
    "#here we see the over write content by using read method\n",
    "with open(r\"C:\\Users\\Ajit\\Downloads\\bank\\new1.txt\",\"r\") as file:\n",
    "    content=file.read()\n",
    "    print(content)\n",
    "    "
   ]
  },
  {
   "cell_type": "code",
   "execution_count": 17,
   "id": "a2c046da",
   "metadata": {},
   "outputs": [
    {
     "name": "stdout",
     "output_type": "stream",
     "text": [
      "hello i am ajit\n"
     ]
    }
   ],
   "source": [
    "with open(r\"C:\\Users\\Ajit\\Downloads\\bank\\new1.txt\",\"r\") as file:\n",
    "    content=file.read()\n",
    "    print(content)\n",
    "    \n",
    "   "
   ]
  },
  {
   "cell_type": "code",
   "execution_count": 18,
   "id": "2fd19fc4",
   "metadata": {},
   "outputs": [
    {
     "name": "stdout",
     "output_type": "stream",
     "text": [
      "True\n"
     ]
    }
   ],
   "source": [
    "#checking file status open or closed\n",
    "print(file.closed)"
   ]
  },
  {
   "cell_type": "code",
   "execution_count": 19,
   "id": "715c3ea2",
   "metadata": {},
   "outputs": [
    {
     "name": "stdout",
     "output_type": "stream",
     "text": [
      "hello i am ajit\n"
     ]
    }
   ],
   "source": [
    "file=open(r\"C:\\Users\\Ajit\\Downloads\\bank\\new1.txt\",\"r\")\n",
    "content=file.read()\n",
    "print(content)"
   ]
  },
  {
   "cell_type": "code",
   "execution_count": 20,
   "id": "f2ce501d",
   "metadata": {},
   "outputs": [
    {
     "name": "stdout",
     "output_type": "stream",
     "text": [
      "False\n"
     ]
    }
   ],
   "source": [
    "print(file.closed)"
   ]
  },
  {
   "cell_type": "code",
   "execution_count": 28,
   "id": "c918e275",
   "metadata": {},
   "outputs": [],
   "source": [
    "with open(r\"C:\\Users\\Ajit\\Downloads\\bank\\new1.txt\",\"a\") as file:\n",
    "    file.write(\" \\n i am from sonipat\")"
   ]
  },
  {
   "cell_type": "code",
   "execution_count": null,
   "id": "09076417",
   "metadata": {},
   "outputs": [],
   "source": []
  },
  {
   "cell_type": "code",
   "execution_count": 29,
   "id": "09bf68fb",
   "metadata": {},
   "outputs": [
    {
     "name": "stdout",
     "output_type": "stream",
     "text": [
      "hello i am ajiti am from sonipat/n i am from sonipat\n",
      "i am from sonipat\n"
     ]
    }
   ],
   "source": [
    "\n",
    "#readline() method\n",
    "with open(r\"C:\\Users\\Ajit\\Downloads\\bank\\new1.txt\",\"r\") as file:\n",
    "    lines=file.readlines()\n",
    "\n",
    "for line in lines:\n",
    "    print(line.strip())# The line.strip() function in Python is used to remove \n",
    "        #any leading and trailing whitespace characters (such as spaces, tabs, newline characters, etc.)\n",
    "        #from a string."
   ]
  },
  {
   "cell_type": "code",
   "execution_count": 30,
   "id": "f325ffde",
   "metadata": {},
   "outputs": [
    {
     "name": "stdout",
     "output_type": "stream",
     "text": [
      "hello i am ajiti am from sonipat/n i am from sonipat\n",
      "i am from sonipat\n"
     ]
    }
   ],
   "source": [
    "#readlines() method\n",
    "with open(r\"C:\\Users\\Ajit\\Downloads\\bank\\new1.txt\",\"r\") as file:\n",
    "    lines=file.readlines()\n",
    "\n",
    "for line in lines:\n",
    "    print(line.strip())"
   ]
  },
  {
   "cell_type": "code",
   "execution_count": 31,
   "id": "fc4a2c76",
   "metadata": {},
   "outputs": [],
   "source": [
    "with open(r\"C:\\Users\\Ajit\\Downloads\\bank\\new1.txt\",\"w\") as file:\n",
    "    file.write(\"hello i am ajit\")"
   ]
  },
  {
   "cell_type": "code",
   "execution_count": 32,
   "id": "86a72d0b",
   "metadata": {},
   "outputs": [],
   "source": [
    "with open(r\"C:\\Users\\Ajit\\Downloads\\bank\\new1.txt\",\"a\") as file:\n",
    "    file.write(\" \\n i am from sonipat\")"
   ]
  },
  {
   "cell_type": "code",
   "execution_count": 35,
   "id": "46251670",
   "metadata": {},
   "outputs": [
    {
     "name": "stdout",
     "output_type": "stream",
     "text": [
      "hello i am ajit\n",
      "i am from sonipat\n"
     ]
    }
   ],
   "source": [
    "with open(r\"C:\\Users\\Ajit\\Downloads\\bank\\new1.txt\",\"r\") as file:\n",
    "    lines=file.readlines()\n",
    "\n",
    "for line in lines:\n",
    "    print(line.strip())"
   ]
  },
  {
   "cell_type": "code",
   "execution_count": 40,
   "id": "879e399e",
   "metadata": {},
   "outputs": [],
   "source": [
    "with open(r\"C:\\Users\\Ajit\\Downloads\\bank\\new1.txt\",\"a\") as file:\n",
    "    file.write(\"hello\")\n",
    "               \n",
    "    "
   ]
  },
  {
   "cell_type": "code",
   "execution_count": 41,
   "id": "367cabc4",
   "metadata": {},
   "outputs": [
    {
     "name": "stdout",
     "output_type": "stream",
     "text": [
      "h\n",
      "e\n",
      "l\n",
      "l\n",
      "o\n",
      "\n",
      "i\n",
      "\n",
      "a\n",
      "m\n",
      "\n",
      "a\n",
      "j\n",
      "i\n",
      "t\n",
      "\n",
      "i\n",
      "\n",
      "a\n",
      "m\n",
      "\n",
      "f\n",
      "r\n",
      "o\n",
      "m\n",
      "\n",
      "s\n",
      "o\n",
      "n\n",
      "i\n",
      "p\n",
      "a\n",
      "t\n",
      "\n",
      "h\n",
      "a\n",
      "r\n",
      "y\n",
      "n\n",
      "a\n",
      "\n",
      "h\n",
      "e\n",
      "l\n",
      "l\n",
      "o\n",
      "\n",
      "w\n",
      "o\n",
      "r\n",
      "l\n",
      "d\n",
      "h\n",
      "e\n",
      "l\n",
      "l\n",
      "o\n"
     ]
    }
   ],
   "source": [
    "#reading a file line by line \n",
    "with open(r\"C:\\Users\\Ajit\\Downloads\\bank\\new1.txt\",\"r\") as file:\n",
    "    lines=file.readline()\n",
    "\n",
    "for line in lines:\n",
    "    print(line.strip())"
   ]
  },
  {
   "cell_type": "code",
   "execution_count": 42,
   "id": "31a795cb",
   "metadata": {},
   "outputs": [],
   "source": [
    "#remove file\n",
    "import os\n",
    "os.remove(r\"C:\\Users\\Ajit\\Downloads\\bank\\new1.txt\")"
   ]
  },
  {
   "cell_type": "code",
   "execution_count": 3,
   "id": "6d46c463",
   "metadata": {},
   "outputs": [],
   "source": [
    "#rename a file\n",
    "import os\n",
    "os.rename(r\"C:\\Users\\Ajit\\Downloads\\bank\\ajit123.txt\",r\"C:\\Users\\Ajit\\Downloads\\bank\\hello.txt\")"
   ]
  },
  {
   "cell_type": "code",
   "execution_count": null,
   "id": "1c433ad4",
   "metadata": {},
   "outputs": [],
   "source": []
  }
 ],
 "metadata": {
  "kernelspec": {
   "display_name": "Python 3 (ipykernel)",
   "language": "python",
   "name": "python3"
  },
  "language_info": {
   "codemirror_mode": {
    "name": "ipython",
    "version": 3
   },
   "file_extension": ".py",
   "mimetype": "text/x-python",
   "name": "python",
   "nbconvert_exporter": "python",
   "pygments_lexer": "ipython3",
   "version": "3.9.7"
  }
 },
 "nbformat": 4,
 "nbformat_minor": 5
}
