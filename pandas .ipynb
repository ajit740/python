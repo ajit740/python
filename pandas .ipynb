{
 "cells": [
  {
   "cell_type": "markdown",
   "id": "924b020f",
   "metadata": {},
   "source": [
    "# explain pandas in python"
   ]
  },
  {
   "cell_type": "markdown",
   "id": "f63959cb",
   "metadata": {},
   "source": [
    "Pandas is a powerful and popular library in Python used for data manipulation and analysis. It provides easy-to-use data structures and tools for working with structured data, primarily in the form of two key data structures:\n",
    "\n",
    "DataFrame: A DataFrame is like a spreadsheet or a table with rows and columns. Each column can have a different data type (like integers, strings, floats) and is essentially a Pandas Series. DataFrames allow you to store and manipulate data in a way that is easy to query, filter, and analyze.\n",
    "\n",
    "Series: A Series is a one-dimensional array-like object containing a sequence of values and an associated array of data labels, called its index.\n",
    "\n",
    "\n",
    "Pandas is fantastic for:\n",
    "\n",
    "Data Cleaning: It helps handle missing data, reshape datasets, and perform transformations.\n",
    "\n",
    "Data Exploration: It allows quick summarization and exploration of datasets through descriptive statistics and aggregations.\n",
    "\n",
    "Data Manipulation: It supports operations like merging and joining datasets, as well as slicing, indexing, and filtering data.\n",
    "\n",
    "Data Analysis: It facilitates grouping data, applying functions, and performing complex operations efficiently."
   ]
  },
  {
   "cell_type": "markdown",
   "id": "0996f7e1",
   "metadata": {},
   "source": [
    "# how to read a csv file "
   ]
  },
  {
   "cell_type": "code",
   "execution_count": 1,
   "id": "1c153a72",
   "metadata": {},
   "outputs": [],
   "source": [
    "import pandas as pd\n",
    "import numpy  as np"
   ]
  },
  {
   "cell_type": "code",
   "execution_count": 2,
   "id": "088e1208",
   "metadata": {},
   "outputs": [],
   "source": [
    "df=pd.read_excel(r\"C:\\Users\\Ajit\\Documents/Book1.xls\")"
   ]
  },
  {
   "cell_type": "markdown",
   "id": "a1dd4170",
   "metadata": {},
   "source": [
    "# Data Exploration"
   ]
  },
  {
   "cell_type": "code",
   "execution_count": 3,
   "id": "8cd46b20",
   "metadata": {},
   "outputs": [
    {
     "data": {
      "text/html": [
       "<div>\n",
       "<style scoped>\n",
       "    .dataframe tbody tr th:only-of-type {\n",
       "        vertical-align: middle;\n",
       "    }\n",
       "\n",
       "    .dataframe tbody tr th {\n",
       "        vertical-align: top;\n",
       "    }\n",
       "\n",
       "    .dataframe thead th {\n",
       "        text-align: right;\n",
       "    }\n",
       "</style>\n",
       "<table border=\"1\" class=\"dataframe\">\n",
       "  <thead>\n",
       "    <tr style=\"text-align: right;\">\n",
       "      <th></th>\n",
       "      <th>id</th>\n",
       "      <th>name</th>\n",
       "      <th>city</th>\n",
       "      <th>salary</th>\n",
       "    </tr>\n",
       "  </thead>\n",
       "  <tbody>\n",
       "    <tr>\n",
       "      <th>0</th>\n",
       "      <td>1</td>\n",
       "      <td>ajit</td>\n",
       "      <td>sonipat</td>\n",
       "      <td>32000</td>\n",
       "    </tr>\n",
       "    <tr>\n",
       "      <th>1</th>\n",
       "      <td>2</td>\n",
       "      <td>aman</td>\n",
       "      <td>panipat</td>\n",
       "      <td>23445</td>\n",
       "    </tr>\n",
       "    <tr>\n",
       "      <th>2</th>\n",
       "      <td>3</td>\n",
       "      <td>ruchika</td>\n",
       "      <td>delhi</td>\n",
       "      <td>45000</td>\n",
       "    </tr>\n",
       "    <tr>\n",
       "      <th>3</th>\n",
       "      <td>4</td>\n",
       "      <td>ritika</td>\n",
       "      <td>jaipur</td>\n",
       "      <td>54000</td>\n",
       "    </tr>\n",
       "    <tr>\n",
       "      <th>4</th>\n",
       "      <td>55</td>\n",
       "      <td>anshuman</td>\n",
       "      <td>gurgaon</td>\n",
       "      <td>57000</td>\n",
       "    </tr>\n",
       "    <tr>\n",
       "      <th>5</th>\n",
       "      <td>7</td>\n",
       "      <td>shruti</td>\n",
       "      <td>roorki</td>\n",
       "      <td>17000</td>\n",
       "    </tr>\n",
       "    <tr>\n",
       "      <th>6</th>\n",
       "      <td>8</td>\n",
       "      <td>akash</td>\n",
       "      <td>ajmer</td>\n",
       "      <td>32777</td>\n",
       "    </tr>\n",
       "    <tr>\n",
       "      <th>7</th>\n",
       "      <td>9</td>\n",
       "      <td>mihir</td>\n",
       "      <td>bangalore</td>\n",
       "      <td>15000</td>\n",
       "    </tr>\n",
       "    <tr>\n",
       "      <th>8</th>\n",
       "      <td>12</td>\n",
       "      <td>naitik</td>\n",
       "      <td>merrat</td>\n",
       "      <td>18000</td>\n",
       "    </tr>\n",
       "  </tbody>\n",
       "</table>\n",
       "</div>"
      ],
      "text/plain": [
       "   id      name       city  salary\n",
       "0   1      ajit    sonipat   32000\n",
       "1   2      aman    panipat   23445\n",
       "2   3   ruchika      delhi   45000\n",
       "3   4   ritika      jaipur   54000\n",
       "4  55  anshuman    gurgaon   57000\n",
       "5   7    shruti     roorki   17000\n",
       "6   8     akash      ajmer   32777\n",
       "7   9     mihir  bangalore   15000\n",
       "8  12    naitik     merrat   18000"
      ]
     },
     "execution_count": 3,
     "metadata": {},
     "output_type": "execute_result"
    }
   ],
   "source": [
    "df"
   ]
  },
  {
   "cell_type": "code",
   "execution_count": 4,
   "id": "ee730017",
   "metadata": {},
   "outputs": [
    {
     "name": "stdout",
     "output_type": "stream",
     "text": [
      "   id      name     city  salary\n",
      "0   1      ajit  sonipat   32000\n",
      "1   2      aman  panipat   23445\n",
      "2   3   ruchika    delhi   45000\n",
      "3   4   ritika    jaipur   54000\n",
      "4  55  anshuman  gurgaon   57000\n"
     ]
    }
   ],
   "source": [
    "# Getting the first few rows of the DataFrame\n",
    "print(df.head())"
   ]
  },
  {
   "cell_type": "code",
   "execution_count": 5,
   "id": "5b672c88",
   "metadata": {},
   "outputs": [
    {
     "name": "stdout",
     "output_type": "stream",
     "text": [
      "   id      name       city  salary\n",
      "4  55  anshuman    gurgaon   57000\n",
      "5   7    shruti     roorki   17000\n",
      "6   8     akash      ajmer   32777\n",
      "7   9     mihir  bangalore   15000\n",
      "8  12    naitik     merrat   18000\n"
     ]
    }
   ],
   "source": [
    "# Getting the last few rows of the DataFrame\n",
    "print(df.tail())"
   ]
  },
  {
   "cell_type": "code",
   "execution_count": 6,
   "id": "b57912d8",
   "metadata": {},
   "outputs": [
    {
     "name": "stdout",
     "output_type": "stream",
     "text": [
      "   id    name    city  salary\n",
      "5   7  shruti  roorki   17000\n"
     ]
    }
   ],
   "source": [
    "print(df.sample())#print random data "
   ]
  },
  {
   "cell_type": "code",
   "execution_count": 7,
   "id": "dc74c6b7",
   "metadata": {},
   "outputs": [
    {
     "name": "stdout",
     "output_type": "stream",
     "text": [
      "              id        salary\n",
      "count   9.000000      9.000000\n",
      "mean   11.222222  32691.333333\n",
      "std    16.806084  16037.028551\n",
      "min     1.000000  15000.000000\n",
      "25%     3.000000  18000.000000\n",
      "50%     7.000000  32000.000000\n",
      "75%     9.000000  45000.000000\n",
      "max    55.000000  57000.000000\n"
     ]
    }
   ],
   "source": [
    "# Displaying basic statistics of numeric columns\n",
    "print(df.describe())"
   ]
  },
  {
   "cell_type": "code",
   "execution_count": 8,
   "id": "8dfb4ec2",
   "metadata": {},
   "outputs": [
    {
     "name": "stdout",
     "output_type": "stream",
     "text": [
      "<class 'pandas.core.frame.DataFrame'>\n",
      "RangeIndex: 9 entries, 0 to 8\n",
      "Data columns (total 4 columns):\n",
      " #   Column  Non-Null Count  Dtype \n",
      "---  ------  --------------  ----- \n",
      " 0   id      9 non-null      int64 \n",
      " 1   name    9 non-null      object\n",
      " 2   city    9 non-null      object\n",
      " 3   salary  9 non-null      int64 \n",
      "dtypes: int64(2), object(2)\n",
      "memory usage: 416.0+ bytes\n"
     ]
    }
   ],
   "source": [
    "df.info()"
   ]
  },
  {
   "cell_type": "code",
   "execution_count": 9,
   "id": "f6061a86",
   "metadata": {},
   "outputs": [
    {
     "data": {
      "text/plain": [
       "Index(['id', 'name', 'city', 'salary'], dtype='object')"
      ]
     },
     "execution_count": 9,
     "metadata": {},
     "output_type": "execute_result"
    }
   ],
   "source": [
    "df.columns"
   ]
  },
  {
   "cell_type": "code",
   "execution_count": 10,
   "id": "751794e4",
   "metadata": {},
   "outputs": [
    {
     "data": {
      "text/plain": [
       "(9, 4)"
      ]
     },
     "execution_count": 10,
     "metadata": {},
     "output_type": "execute_result"
    }
   ],
   "source": [
    "df.shape"
   ]
  },
  {
   "cell_type": "code",
   "execution_count": null,
   "id": "208bd558",
   "metadata": {},
   "outputs": [],
   "source": []
  },
  {
   "cell_type": "code",
   "execution_count": 11,
   "id": "a9d39467",
   "metadata": {},
   "outputs": [
    {
     "name": "stdout",
     "output_type": "stream",
     "text": [
      "      id   name   city  salary\n",
      "0  False  False  False   False\n",
      "1  False  False  False   False\n",
      "2  False  False  False   False\n",
      "3  False  False  False   False\n",
      "4  False  False  False   False\n",
      "5  False  False  False   False\n",
      "6  False  False  False   False\n",
      "7  False  False  False   False\n",
      "8  False  False  False   False\n"
     ]
    }
   ],
   "source": [
    "# Checking for missing values\n",
    "print(df.isnull())"
   ]
  },
  {
   "cell_type": "code",
   "execution_count": 12,
   "id": "be70d96b",
   "metadata": {},
   "outputs": [
    {
     "name": "stdout",
     "output_type": "stream",
     "text": [
      "id        0\n",
      "name      0\n",
      "city      0\n",
      "salary    0\n",
      "dtype: int64\n"
     ]
    }
   ],
   "source": [
    "# Checking for missing values\n",
    "print(df.isnull().sum())"
   ]
  },
  {
   "cell_type": "markdown",
   "id": "64437fa7",
   "metadata": {},
   "source": [
    "# Data Selection and Filtering\n"
   ]
  },
  {
   "cell_type": "code",
   "execution_count": 13,
   "id": "ef4fca15",
   "metadata": {},
   "outputs": [
    {
     "name": "stdout",
     "output_type": "stream",
     "text": [
      "0        ajit\n",
      "1        aman\n",
      "2     ruchika\n",
      "3     ritika \n",
      "4    anshuman\n",
      "5      shruti\n",
      "6       akash\n",
      "7       mihir\n",
      "8      naitik\n",
      "Name: name, dtype: object\n"
     ]
    }
   ],
   "source": [
    "    # Selecting specific columns\n",
    "print(df['name'])  # Prints the 'Name' column"
   ]
  },
  {
   "cell_type": "code",
   "execution_count": 14,
   "id": "56dec2e1",
   "metadata": {},
   "outputs": [
    {
     "name": "stdout",
     "output_type": "stream",
     "text": [
      "   id      name     city  salary\n",
      "0   1      ajit  sonipat   32000\n",
      "1   2      aman  panipat   23445\n",
      "2   3   ruchika    delhi   45000\n",
      "3   4   ritika    jaipur   54000\n",
      "4  55  anshuman  gurgaon   57000\n",
      "5   7    shruti   roorki   17000\n",
      "6   8     akash    ajmer   32777\n",
      "8  12    naitik   merrat   18000\n"
     ]
    }
   ],
   "source": [
    "# Filtering rows based on a condition\n",
    "print(df[df['salary'] > 15000])  # Prints rows where salary>15000\n"
   ]
  },
  {
   "cell_type": "code",
   "execution_count": 15,
   "id": "d812e306",
   "metadata": {},
   "outputs": [
    {
     "name": "stdout",
     "output_type": "stream",
     "text": [
      "32691.333333333332\n"
     ]
    }
   ],
   "source": [
    "# Applying functions\n",
    "print(df['salary'].mean())  # Calculates the mean salary\n"
   ]
  },
  {
   "cell_type": "code",
   "execution_count": 16,
   "id": "cb62746f",
   "metadata": {},
   "outputs": [
    {
     "name": "stdout",
     "output_type": "stream",
     "text": [
      "city\n",
      "ajmer        32777.0\n",
      "bangalore    15000.0\n",
      "delhi        45000.0\n",
      "gurgaon      57000.0\n",
      "jaipur       54000.0\n",
      "merrat       18000.0\n",
      "panipat      23445.0\n",
      "roorki       17000.0\n",
      "sonipat      32000.0\n",
      "Name: salary, dtype: float64\n"
     ]
    }
   ],
   "source": [
    "# Grouping data\n",
    "grouped = df.groupby('city')\n",
    "print(grouped['salary'].mean())  # Calculates the mean salary"
   ]
  },
  {
   "cell_type": "code",
   "execution_count": 17,
   "id": "f3ab7a35",
   "metadata": {},
   "outputs": [
    {
     "name": "stdout",
     "output_type": "stream",
     "text": [
      "   id     name   city  salary\n",
      "2   3  ruchika  delhi   45000\n"
     ]
    }
   ],
   "source": [
    "# Filtering based on multiple conditions\n",
    "print(df[(df['salary'] >25000) & (df['city'] == 'delhi')])"
   ]
  },
  {
   "cell_type": "markdown",
   "id": "c4daa68e",
   "metadata": {},
   "source": [
    "# Data Manipulation"
   ]
  },
  {
   "cell_type": "code",
   "execution_count": 18,
   "id": "0ffee5e3",
   "metadata": {},
   "outputs": [],
   "source": [
    "# Adding a new column\n",
    "df['Senior'] = df['salary'] > 29000"
   ]
  },
  {
   "cell_type": "code",
   "execution_count": 19,
   "id": "a132e10b",
   "metadata": {},
   "outputs": [
    {
     "data": {
      "text/html": [
       "<div>\n",
       "<style scoped>\n",
       "    .dataframe tbody tr th:only-of-type {\n",
       "        vertical-align: middle;\n",
       "    }\n",
       "\n",
       "    .dataframe tbody tr th {\n",
       "        vertical-align: top;\n",
       "    }\n",
       "\n",
       "    .dataframe thead th {\n",
       "        text-align: right;\n",
       "    }\n",
       "</style>\n",
       "<table border=\"1\" class=\"dataframe\">\n",
       "  <thead>\n",
       "    <tr style=\"text-align: right;\">\n",
       "      <th></th>\n",
       "      <th>id</th>\n",
       "      <th>name</th>\n",
       "      <th>city</th>\n",
       "      <th>salary</th>\n",
       "      <th>Senior</th>\n",
       "    </tr>\n",
       "  </thead>\n",
       "  <tbody>\n",
       "    <tr>\n",
       "      <th>0</th>\n",
       "      <td>1</td>\n",
       "      <td>ajit</td>\n",
       "      <td>sonipat</td>\n",
       "      <td>32000</td>\n",
       "      <td>True</td>\n",
       "    </tr>\n",
       "    <tr>\n",
       "      <th>1</th>\n",
       "      <td>2</td>\n",
       "      <td>aman</td>\n",
       "      <td>panipat</td>\n",
       "      <td>23445</td>\n",
       "      <td>False</td>\n",
       "    </tr>\n",
       "    <tr>\n",
       "      <th>2</th>\n",
       "      <td>3</td>\n",
       "      <td>ruchika</td>\n",
       "      <td>delhi</td>\n",
       "      <td>45000</td>\n",
       "      <td>True</td>\n",
       "    </tr>\n",
       "    <tr>\n",
       "      <th>3</th>\n",
       "      <td>4</td>\n",
       "      <td>ritika</td>\n",
       "      <td>jaipur</td>\n",
       "      <td>54000</td>\n",
       "      <td>True</td>\n",
       "    </tr>\n",
       "    <tr>\n",
       "      <th>4</th>\n",
       "      <td>55</td>\n",
       "      <td>anshuman</td>\n",
       "      <td>gurgaon</td>\n",
       "      <td>57000</td>\n",
       "      <td>True</td>\n",
       "    </tr>\n",
       "    <tr>\n",
       "      <th>5</th>\n",
       "      <td>7</td>\n",
       "      <td>shruti</td>\n",
       "      <td>roorki</td>\n",
       "      <td>17000</td>\n",
       "      <td>False</td>\n",
       "    </tr>\n",
       "    <tr>\n",
       "      <th>6</th>\n",
       "      <td>8</td>\n",
       "      <td>akash</td>\n",
       "      <td>ajmer</td>\n",
       "      <td>32777</td>\n",
       "      <td>True</td>\n",
       "    </tr>\n",
       "    <tr>\n",
       "      <th>7</th>\n",
       "      <td>9</td>\n",
       "      <td>mihir</td>\n",
       "      <td>bangalore</td>\n",
       "      <td>15000</td>\n",
       "      <td>False</td>\n",
       "    </tr>\n",
       "    <tr>\n",
       "      <th>8</th>\n",
       "      <td>12</td>\n",
       "      <td>naitik</td>\n",
       "      <td>merrat</td>\n",
       "      <td>18000</td>\n",
       "      <td>False</td>\n",
       "    </tr>\n",
       "  </tbody>\n",
       "</table>\n",
       "</div>"
      ],
      "text/plain": [
       "   id      name       city  salary  Senior\n",
       "0   1      ajit    sonipat   32000    True\n",
       "1   2      aman    panipat   23445   False\n",
       "2   3   ruchika      delhi   45000    True\n",
       "3   4   ritika      jaipur   54000    True\n",
       "4  55  anshuman    gurgaon   57000    True\n",
       "5   7    shruti     roorki   17000   False\n",
       "6   8     akash      ajmer   32777    True\n",
       "7   9     mihir  bangalore   15000   False\n",
       "8  12    naitik     merrat   18000   False"
      ]
     },
     "execution_count": 19,
     "metadata": {},
     "output_type": "execute_result"
    }
   ],
   "source": [
    "df"
   ]
  },
  {
   "cell_type": "markdown",
   "id": "917522d8",
   "metadata": {},
   "source": [
    "# Handling Missing Data"
   ]
  },
  {
   "cell_type": "code",
   "execution_count": 20,
   "id": "a088c2d1",
   "metadata": {},
   "outputs": [
    {
     "data": {
      "text/html": [
       "<div>\n",
       "<style scoped>\n",
       "    .dataframe tbody tr th:only-of-type {\n",
       "        vertical-align: middle;\n",
       "    }\n",
       "\n",
       "    .dataframe tbody tr th {\n",
       "        vertical-align: top;\n",
       "    }\n",
       "\n",
       "    .dataframe thead th {\n",
       "        text-align: right;\n",
       "    }\n",
       "</style>\n",
       "<table border=\"1\" class=\"dataframe\">\n",
       "  <thead>\n",
       "    <tr style=\"text-align: right;\">\n",
       "      <th></th>\n",
       "      <th>id</th>\n",
       "      <th>name</th>\n",
       "      <th>city</th>\n",
       "      <th>salary</th>\n",
       "      <th>Senior</th>\n",
       "    </tr>\n",
       "  </thead>\n",
       "  <tbody>\n",
       "    <tr>\n",
       "      <th>0</th>\n",
       "      <td>1</td>\n",
       "      <td>ajit</td>\n",
       "      <td>sonipat</td>\n",
       "      <td>32000</td>\n",
       "      <td>True</td>\n",
       "    </tr>\n",
       "    <tr>\n",
       "      <th>1</th>\n",
       "      <td>2</td>\n",
       "      <td>aman</td>\n",
       "      <td>panipat</td>\n",
       "      <td>23445</td>\n",
       "      <td>False</td>\n",
       "    </tr>\n",
       "    <tr>\n",
       "      <th>2</th>\n",
       "      <td>3</td>\n",
       "      <td>ruchika</td>\n",
       "      <td>delhi</td>\n",
       "      <td>45000</td>\n",
       "      <td>True</td>\n",
       "    </tr>\n",
       "    <tr>\n",
       "      <th>3</th>\n",
       "      <td>4</td>\n",
       "      <td>ritika</td>\n",
       "      <td>jaipur</td>\n",
       "      <td>54000</td>\n",
       "      <td>True</td>\n",
       "    </tr>\n",
       "    <tr>\n",
       "      <th>4</th>\n",
       "      <td>55</td>\n",
       "      <td>anshuman</td>\n",
       "      <td>gurgaon</td>\n",
       "      <td>57000</td>\n",
       "      <td>True</td>\n",
       "    </tr>\n",
       "    <tr>\n",
       "      <th>5</th>\n",
       "      <td>7</td>\n",
       "      <td>shruti</td>\n",
       "      <td>roorki</td>\n",
       "      <td>17000</td>\n",
       "      <td>False</td>\n",
       "    </tr>\n",
       "    <tr>\n",
       "      <th>6</th>\n",
       "      <td>8</td>\n",
       "      <td>akash</td>\n",
       "      <td>ajmer</td>\n",
       "      <td>32777</td>\n",
       "      <td>True</td>\n",
       "    </tr>\n",
       "    <tr>\n",
       "      <th>7</th>\n",
       "      <td>9</td>\n",
       "      <td>mihir</td>\n",
       "      <td>bangalore</td>\n",
       "      <td>15000</td>\n",
       "      <td>False</td>\n",
       "    </tr>\n",
       "    <tr>\n",
       "      <th>8</th>\n",
       "      <td>12</td>\n",
       "      <td>naitik</td>\n",
       "      <td>merrat</td>\n",
       "      <td>18000</td>\n",
       "      <td>False</td>\n",
       "    </tr>\n",
       "  </tbody>\n",
       "</table>\n",
       "</div>"
      ],
      "text/plain": [
       "   id      name       city  salary  Senior\n",
       "0   1      ajit    sonipat   32000    True\n",
       "1   2      aman    panipat   23445   False\n",
       "2   3   ruchika      delhi   45000    True\n",
       "3   4   ritika      jaipur   54000    True\n",
       "4  55  anshuman    gurgaon   57000    True\n",
       "5   7    shruti     roorki   17000   False\n",
       "6   8     akash      ajmer   32777    True\n",
       "7   9     mihir  bangalore   15000   False\n",
       "8  12    naitik     merrat   18000   False"
      ]
     },
     "execution_count": 20,
     "metadata": {},
     "output_type": "execute_result"
    }
   ],
   "source": [
    "# Dropping rows with any missing values\n",
    "df.dropna()"
   ]
  },
  {
   "cell_type": "code",
   "execution_count": 21,
   "id": "e5827b4e",
   "metadata": {},
   "outputs": [
    {
     "data": {
      "text/html": [
       "<div>\n",
       "<style scoped>\n",
       "    .dataframe tbody tr th:only-of-type {\n",
       "        vertical-align: middle;\n",
       "    }\n",
       "\n",
       "    .dataframe tbody tr th {\n",
       "        vertical-align: top;\n",
       "    }\n",
       "\n",
       "    .dataframe thead th {\n",
       "        text-align: right;\n",
       "    }\n",
       "</style>\n",
       "<table border=\"1\" class=\"dataframe\">\n",
       "  <thead>\n",
       "    <tr style=\"text-align: right;\">\n",
       "      <th></th>\n",
       "      <th>id</th>\n",
       "      <th>name</th>\n",
       "      <th>city</th>\n",
       "      <th>salary</th>\n",
       "      <th>Senior</th>\n",
       "    </tr>\n",
       "  </thead>\n",
       "  <tbody>\n",
       "    <tr>\n",
       "      <th>0</th>\n",
       "      <td>1</td>\n",
       "      <td>ajit</td>\n",
       "      <td>sonipat</td>\n",
       "      <td>32000</td>\n",
       "      <td>True</td>\n",
       "    </tr>\n",
       "    <tr>\n",
       "      <th>1</th>\n",
       "      <td>2</td>\n",
       "      <td>aman</td>\n",
       "      <td>panipat</td>\n",
       "      <td>23445</td>\n",
       "      <td>False</td>\n",
       "    </tr>\n",
       "    <tr>\n",
       "      <th>2</th>\n",
       "      <td>3</td>\n",
       "      <td>ruchika</td>\n",
       "      <td>delhi</td>\n",
       "      <td>45000</td>\n",
       "      <td>True</td>\n",
       "    </tr>\n",
       "    <tr>\n",
       "      <th>3</th>\n",
       "      <td>4</td>\n",
       "      <td>ritika</td>\n",
       "      <td>jaipur</td>\n",
       "      <td>54000</td>\n",
       "      <td>True</td>\n",
       "    </tr>\n",
       "    <tr>\n",
       "      <th>4</th>\n",
       "      <td>55</td>\n",
       "      <td>anshuman</td>\n",
       "      <td>gurgaon</td>\n",
       "      <td>57000</td>\n",
       "      <td>True</td>\n",
       "    </tr>\n",
       "    <tr>\n",
       "      <th>5</th>\n",
       "      <td>7</td>\n",
       "      <td>shruti</td>\n",
       "      <td>roorki</td>\n",
       "      <td>17000</td>\n",
       "      <td>False</td>\n",
       "    </tr>\n",
       "    <tr>\n",
       "      <th>6</th>\n",
       "      <td>8</td>\n",
       "      <td>akash</td>\n",
       "      <td>ajmer</td>\n",
       "      <td>32777</td>\n",
       "      <td>True</td>\n",
       "    </tr>\n",
       "    <tr>\n",
       "      <th>7</th>\n",
       "      <td>9</td>\n",
       "      <td>mihir</td>\n",
       "      <td>bangalore</td>\n",
       "      <td>15000</td>\n",
       "      <td>False</td>\n",
       "    </tr>\n",
       "    <tr>\n",
       "      <th>8</th>\n",
       "      <td>12</td>\n",
       "      <td>naitik</td>\n",
       "      <td>merrat</td>\n",
       "      <td>18000</td>\n",
       "      <td>False</td>\n",
       "    </tr>\n",
       "  </tbody>\n",
       "</table>\n",
       "</div>"
      ],
      "text/plain": [
       "   id      name       city  salary  Senior\n",
       "0   1      ajit    sonipat   32000    True\n",
       "1   2      aman    panipat   23445   False\n",
       "2   3   ruchika      delhi   45000    True\n",
       "3   4   ritika      jaipur   54000    True\n",
       "4  55  anshuman    gurgaon   57000    True\n",
       "5   7    shruti     roorki   17000   False\n",
       "6   8     akash      ajmer   32777    True\n",
       "7   9     mihir  bangalore   15000   False\n",
       "8  12    naitik     merrat   18000   False"
      ]
     },
     "execution_count": 21,
     "metadata": {},
     "output_type": "execute_result"
    }
   ],
   "source": [
    "# Filling missing values with a specific value\n",
    "df.fillna(0)"
   ]
  },
  {
   "cell_type": "code",
   "execution_count": 22,
   "id": "2d776e06",
   "metadata": {},
   "outputs": [
    {
     "data": {
      "text/plain": [
       "<AxesSubplot:ylabel='Frequency'>"
      ]
     },
     "execution_count": 22,
     "metadata": {},
     "output_type": "execute_result"
    },
    {
     "data": {
      "image/png": "[encoded data removed]",
      "text/plain": [
       "<Figure size 432x288 with 1 Axes>"
      ]
     },
     "metadata": {
      "needs_background": "light"
     },
     "output_type": "display_data"
    }
   ],
   "source": [
    "# Plotting a histogram\n",
    "df[(kind='hist'salary'].plot')"
   ]
  },
  {
   "cell_type": "code",
   "execution_count": 24,
   "id": "c19c7adf",
   "metadata": {},
   "outputs": [
    {
     "data": {
      "text/plain": [
       "<AxesSubplot:xlabel='name', ylabel='salary'>"
      ]
     },
     "execution_count": 24,
     "metadata": {},
     "output_type": "execute_result"
    },
    {
     "data": {
      "image/png": "[encoded data removed]",
      "text/plain": [
       "<Figure size 432x288 with 1 Axes>"
      ]
     },
     "metadata": {
      "needs_background": "light"
     },
     "output_type": "display_data"
    }
   ],
   "source": [
    "# Creating a scatter plot\n",
    "df.plot.scatter(x='name', y='salary')"
   ]
  },
  {
   "cell_type": "code",
   "execution_count": 27,
   "id": "c3e1be2d",
   "metadata": {},
   "outputs": [
    {
     "data": {
      "text/plain": [
       "<AxesSubplot:xlabel='city'>"
      ]
     },
     "execution_count": 27,
     "metadata": {},
     "output_type": "execute_result"
    },
    {
     "data": {
      "image/png": "[encoded data removed]",
      "text/plain": [
       "<Figure size 432x288 with 1 Axes>"
      ]
     },
     "metadata": {
      "needs_background": "light"
     },
     "output_type": "display_data"
    }
   ],
   "source": [
    "# Creating a line plot\n",
    "df.plot(x='city', y='salary', kind='line')"
   ]
  },
  {
   "cell_type": "code",
   "execution_count": 28,
   "id": "45dac432",
   "metadata": {},
   "outputs": [
    {
     "data": {
      "text/plain": [
       "<AxesSubplot:xlabel='name'>"
      ]
     },
     "execution_count": 28,
     "metadata": {},
     "output_type": "execute_result"
    },
    {
     "data": {
      "image/png": "[encoded data removed]",
      "text/plain": [
       "<Figure size 432x288 with 1 Axes>"
      ]
     },
     "metadata": {
      "needs_background": "light"
     },
     "output_type": "display_data"
    }
   ],
   "source": [
    "# Creating a bar plot\n",
    "df.plot(x='name', y='salary', kind=     )\n"
   ]
  },
  {
   "cell_type": "code",
   "execution_count": null,
   "id": "053947fe",
   "metadata": {},
   "outputs": [],
   "source": []
  }
 ],
 "metadata": {
  "kernelspec": {
   "display_name": "Python 3 (ipykernel)",
   "language": "python",
   "name": "python3"
  },
  "language_info": {
   "codemirror_mode": {
    "name": "ipython",
    "version": 3
   },
   "file_extension": ".py",
   "mimetype": "text/x-python",
   "name": "python",
   "nbconvert_exporter": "python",
   "pygments_lexer": "ipython3",
   "version": "3.9.7"
  }
 },
 "nbformat": 4,
 "nbformat_minor": 5
}
