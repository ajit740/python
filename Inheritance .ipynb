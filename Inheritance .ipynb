{
 "cells": [
  {
   "cell_type": "markdown",
   "id": "b4441bea",
   "metadata": {},
   "source": [
    "# what is Inheritance"
   ]
  },
  {
   "cell_type": "markdown",
   "id": "145f2cac",
   "metadata": {},
   "source": [
    "1. Inheritance is a fundamental concept in object-oriented programming (OOP) that allows new classes to be created based on existing classes\n",
    "\n",
    "\n",
    "2. It enables the new class (the subclass or child class) to inherit attributes and behaviors (methods) from another class (the superclass or parent class)."
   ]
  },
  {
   "cell_type": "markdown",
   "id": "4f518077",
   "metadata": {},
   "source": [
    "# Key Aspects of Inheritance"
   ]
  },
  {
   "cell_type": "markdown",
   "id": "5aa3b0d7",
   "metadata": {},
   "source": [
    "1. Code Reusability: Inheritance promotes code reuse. Instead of rewriting code for similar attributes or methods across multiple classes, common functionalities can be defined in a parent class and reused by multiple child classes.\n",
    "\n",
    "\n",
    "2. Class Hierarchy: Inheritance establishes a hierarchical relationship between classes, creating a tree-like structure where subclasses inherit from their parent classes. A superclass can have multiple subclasses, but each subclass generally has only one immediate superclass.\n",
    "\n",
    "\n",
    "3. Access to Superclass Features: Child classes inherit all non-private attributes and methods (those without a leading double underscore __) from their parent class. This includes variables, methods, and other attributes."
   ]
  },
  {
   "cell_type": "markdown",
   "id": "88898109",
   "metadata": {},
   "source": [
    "# Types of Inheritance"
   ]
  },
  {
   "cell_type": "markdown",
   "id": "cb4680e6",
   "metadata": {},
   "source": [
    "1. Single Inheritance: A subclass inherits from only one superclass.\n",
    "\n",
    "\n",
    "2. Multiple Inheritance: A subclass inherits from more than one superclass. Python supports this, but it requires careful handling due to potential conflicts and the complexity it introduces.\n",
    "\n",
    "\n",
    "3. Multilevel Inheritance: This occurs when a subclass becomes the superclass for another class, creating a chain of inheritance.\n",
    "\n",
    "\n",
    "4. Hierarchical Inheritance: Multiple subclasses inherit from a single superclass.\n",
    "\n",
    "\n",
    "5. Hybrid Inheritance: This is a combination of multiple types of inheritance. For instance, combining single and multiple inheritance."
   ]
  },
  {
   "cell_type": "markdown",
   "id": "c12ed2b7",
   "metadata": {},
   "source": [
    "# Access Modifiers"
   ]
  },
  {
   "cell_type": "markdown",
   "id": "35ce702f",
   "metadata": {},
   "source": [
    "In Python, attributes and methods can have different access levels:\n",
    "\n",
    "1. Public: Accessible from anywhere.\n",
    "\n",
    "2. Protected: Accessible within the class and its subclasses (prefixing an attribute or method with a single underscore _).\n",
    "\n",
    "3. Private: Accessible only within the class (prefixing an attribute or method with a double underscore __)."
   ]
  },
  {
   "cell_type": "code",
   "execution_count": 4,
   "id": "82f48e7e",
   "metadata": {},
   "outputs": [
    {
     "name": "stdout",
     "output_type": "stream",
     "text": [
      "i am driving a car\n",
      "verna\n",
      "i am driving a bike\n"
     ]
    }
   ],
   "source": [
    "class Vehicle:\n",
    "    def __init__(self,brand):\n",
    "        self.brand=brand\n",
    "        \n",
    "    def drive(self):\n",
    "        pass\n",
    "    \n",
    "class Car(Vehicle):\n",
    "    def drive(self):\n",
    "        return \"i am driving a car\"\n",
    "\n",
    "class Bike(Vehicle):\n",
    "    def drive(self):\n",
    "        return \"i am driving a bike\"\n",
    "\n",
    "car=Car(\"verna\")\n",
    "print(car.drive())\n",
    "print(car.brand)\n",
    "\n",
    "bike=Bike(\"bullet\")\n",
    "print(bike.drive())\n",
    "    "
   ]
  },
  {
   "cell_type": "code",
   "execution_count": 8,
   "id": "45e42422",
   "metadata": {},
   "outputs": [
    {
     "name": "stdout",
     "output_type": "stream",
     "text": [
      "i am a dog\n",
      "i am a cat\n"
     ]
    }
   ],
   "source": [
    "class Animal:\n",
    "    def __init__(self,species):\n",
    "        self.species=species\n",
    "        \n",
    "    def sound(self):\n",
    "        pass\n",
    "\n",
    "class Dog(Animal):\n",
    "    def sound(self):\n",
    "        return \"i am a dog\"\n",
    "    \n",
    "class Cat(Animal):\n",
    "    def sound(self):\n",
    "        return \"i am a cat\"\n",
    "\n",
    "dog=Dog(\"tommy\")\n",
    "print(dog.sound())\n",
    "\n",
    "cat=Cat(\"xyz\")\n",
    "print(cat.sound())"
   ]
  },
  {
   "cell_type": "code",
   "execution_count": 9,
   "id": "eec588c9",
   "metadata": {},
   "outputs": [
    {
     "name": "stdout",
     "output_type": "stream",
     "text": [
      "ajit\n",
      "24\n"
     ]
    }
   ],
   "source": [
    "class Parent:\n",
    "    def __init__(self,name):\n",
    "        self.name=name\n",
    "        \n",
    "class Child(Parent):\n",
    "    def __init__(self,name,age):\n",
    "        super().__init__(name)\n",
    "        self.age=age\n",
    "        \n",
    "child=Child(\"ajit\",24)\n",
    "print(child.name)\n",
    "print(child.age)\n",
    "        "
   ]
  },
  {
   "cell_type": "code",
   "execution_count": 14,
   "id": "c1afcd61",
   "metadata": {},
   "outputs": [
    {
     "name": "stdout",
     "output_type": "stream",
     "text": [
      "name  ajit,salary  50000\n",
      "name  aakash,salary  550000,department  Software engg.\n"
     ]
    }
   ],
   "source": [
    "class Employee:\n",
    "    def __init__(self,name,salary):\n",
    "        self.name=name\n",
    "        self.salary=salary\n",
    "        \n",
    "    def display(self):\n",
    "        return f\"name  {self.name},salary  {self.salary}\"\n",
    "    \n",
    "class Manager(Employee):\n",
    "    def __init__(self,name,salary,dept):\n",
    "        super().__init__(name,salary)\n",
    "        self.dept=dept\n",
    "        \n",
    "    def display(self):\n",
    "        return f\"name  {self.name},salary  {self.salary},department  {self.dept}\"\n",
    "    \n",
    "    \n",
    "employee=Employee(\"ajit\"  ,50000)\n",
    "print(employee.display())\n",
    "\n",
    "\n",
    "manager=Manager(\"aakash\"  ,550000,  \"Software engg.\")\n",
    "print(manager.display())\n",
    "\n"
   ]
  },
  {
   "cell_type": "markdown",
   "id": "6755f4ff",
   "metadata": {},
   "source": [
    "# Access modifier examples"
   ]
  },
  {
   "cell_type": "code",
   "execution_count": 4,
   "id": "a2d9a941",
   "metadata": {},
   "outputs": [
    {
     "name": "stdout",
     "output_type": "stream",
     "text": [
      "10\n",
      "i am public method\n"
     ]
    }
   ],
   "source": [
    "#public\n",
    "\n",
    "class My_class:\n",
    "    def __init__(self):\n",
    "        self.public_var=10\n",
    "    \n",
    "    def public_method(self):\n",
    "        return \"i am public method\"\n",
    "    \n",
    "obj=My_class()\n",
    "print(obj.public_var)\n",
    "print(obj.public_method())"
   ]
  },
  {
   "cell_type": "code",
   "execution_count": 11,
   "id": "b880427d",
   "metadata": {},
   "outputs": [],
   "source": [
    "#private\n",
    "class my_class:\n",
    "    def __init__(self):\n",
    "        self.__private=20\n",
    "        \n",
    "    def __private_method(self):\n",
    "        return \"i am private method\"\n",
    "    \n",
    "obj=my_class()\n",
    "# print(obj.__private_var)\n",
    "# print(obj.__private_method())"
   ]
  },
  {
   "cell_type": "code",
   "execution_count": 13,
   "id": "dc5614eb",
   "metadata": {},
   "outputs": [
    {
     "name": "stdout",
     "output_type": "stream",
     "text": [
      "30\n"
     ]
    }
   ],
   "source": [
    "#protected\n",
    "\n",
    "class my_class:\n",
    "    def __init__(self):\n",
    "        self._protected_var=30\n",
    "    \n",
    "    def _protected_method(self):\n",
    "        return \"i am protected method\"\n",
    "    \n",
    "class subclass(my_class):\n",
    "    def display_protected(self):\n",
    "        return self._protected_var\n",
    "    \n",
    "obj=subclass()\n",
    "print(obj.display_protected())"
   ]
  },
  {
   "cell_type": "code",
   "execution_count": 18,
   "id": "fc1ee220",
   "metadata": {},
   "outputs": [
    {
     "name": "stdout",
     "output_type": "stream",
     "text": [
      "account number= 123456789\n",
      "deposite500. new balance: 50500\n",
      "incorrect pin please check again\n"
     ]
    }
   ],
   "source": [
    "class Bank_account:\n",
    "    def __init__(self,account_nbr,balance):\n",
    "        self.account_nbr=account_nbr#public\n",
    "        self._balance=balance#protected\n",
    "        self.__pin=1234#private\n",
    "        \n",
    "    def deposite(self,amount):\n",
    "        self._balance += amount\n",
    "        print(f\"deposite{amount}. new balance: {self._balance}\")\n",
    "        \n",
    "    def withdraw(self,amount,pin):\n",
    "        if pin==self.__pin:\n",
    "            if amount<=self._balance:\n",
    "                self._balance-=amount\n",
    "                print(f\"withdraw amount= {amount}. new balance= {self._balance}\")\n",
    "            else:\n",
    "                print(\"you are out of budegt\")\n",
    "        else:\n",
    "            print(\"incorrect pin please check again\")\n",
    "\n",
    "            \n",
    "account=Bank_account(\"123456789\",50000)\n",
    "print(f\"account number= {account.account_nbr}\")\n",
    "      \n",
    "#performing transactions\n",
    "account.deposite(500)\n",
    "# account.withdraw(1000,1234)\n",
    "account.withdraw(1000,12345)\n",
    "\n",
    "      \n",
    "        \n",
    "        "
   ]
  },
  {
   "cell_type": "code",
   "execution_count": 21,
   "id": "dc22a6c9",
   "metadata": {},
   "outputs": [
    {
     "name": "stdout",
     "output_type": "stream",
     "text": [
      "make of the car maruti\n",
      "model of the car brezza\n",
      "make : maruti\n",
      "model: brezza\n",
      "year: 2021\n"
     ]
    }
   ],
   "source": [
    "class Car:\n",
    "    def __init__(self,make,model,year):\n",
    "        self.make=make #public\n",
    "        self._model=model #protected\n",
    "        self.__year=year #private\n",
    "        \n",
    "    def get_model(self):\n",
    "        return self.model\n",
    "    \n",
    "    def display(self):\n",
    "        print(f\"make : {self.make}\")\n",
    "        print(f\"model: {self._model}\")\n",
    "        print(f\"year: {self.__year}\")\n",
    "        \n",
    "my_car=Car(\"maruti\",\"brezza\",2021)\n",
    "\n",
    "print(f\"make of the car {my_car.make}\")\n",
    "print(f\"model of the car {my_car._model}\")\n",
    "\n",
    "my_car.display()"
   ]
  },
  {
   "cell_type": "code",
   "execution_count": null,
   "id": "8f179c32",
   "metadata": {},
   "outputs": [],
   "source": []
  }
 ],
 "metadata": {
  "kernelspec": {
   "display_name": "Python 3 (ipykernel)",
   "language": "python",
   "name": "python3"
  },
  "language_info": {
   "codemirror_mode": {
    "name": "ipython",
    "version": 3
   },
   "file_extension": ".py",
   "mimetype": "text/x-python",
   "name": "python",
   "nbconvert_exporter": "python",
   "pygments_lexer": "ipython3",
   "version": "3.9.7"
  }
 },
 "nbformat": 4,
 "nbformat_minor": 5
}
