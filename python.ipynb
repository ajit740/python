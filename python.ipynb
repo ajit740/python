{
 "cells": [
  {
   "cell_type": "code",
   "execution_count": 1,
   "id": "80453374",
   "metadata": {},
   "outputs": [],
   "source": [
    "# set is a data collection\n",
    "x={23,23,2,3,2,3,'ajay','aman',True}"
   ]
  },
  {
   "cell_type": "code",
   "execution_count": 2,
   "id": "37f35227",
   "metadata": {},
   "outputs": [
    {
     "data": {
      "text/plain": [
       "set"
      ]
     },
     "execution_count": 2,
     "metadata": {},
     "output_type": "execute_result"
    }
   ],
   "source": [
    "type(x)"
   ]
  },
  {
   "cell_type": "code",
   "execution_count": 3,
   "id": "9333965b",
   "metadata": {},
   "outputs": [
    {
     "data": {
      "text/plain": [
       "{2, 23, 3, True, 'ajay', 'aman'}"
      ]
     },
     "execution_count": 3,
     "metadata": {},
     "output_type": "execute_result"
    }
   ],
   "source": [
    "x"
   ]
  },
  {
   "cell_type": "code",
   "execution_count": 4,
   "id": "26166dab",
   "metadata": {},
   "outputs": [],
   "source": [
    "# single element\n",
    "# empty set\n",
    "y={23}"
   ]
  },
  {
   "cell_type": "code",
   "execution_count": 5,
   "id": "667d81b5",
   "metadata": {},
   "outputs": [],
   "source": [
    "# wap to add two nbr wth of funct\n",
    "def add():\n",
    "    x=int(input(\"enter x\"))\n",
    "    y=int(input(\"enter y\"))\n",
    "    print(x+y)\n",
    "    "
   ]
  },
  {
   "cell_type": "code",
   "execution_count": 6,
   "id": "ba4f4618",
   "metadata": {},
   "outputs": [
    {
     "name": "stdout",
     "output_type": "stream",
     "text": [
      "enter x56\n",
      "enter y65\n",
      "121\n"
     ]
    }
   ],
   "source": [
    " add()"
   ]
  },
  {
   "cell_type": "code",
   "execution_count": 7,
   "id": "5fc30395",
   "metadata": {},
   "outputs": [
    {
     "data": {
      "text/plain": [
       "6"
      ]
     },
     "execution_count": 7,
     "metadata": {},
     "output_type": "execute_result"
    }
   ],
   "source": [
    "def add():\n",
    "    a=3\n",
    "    b=3\n",
    "    res=a+b;\n",
    "    return(res)\n",
    "add()"
   ]
  },
  {
   "cell_type": "markdown",
   "id": "0d918fbb",
   "metadata": {},
   "source": [
    "# wap to determine the sal of an employe where the employe takes more then 12 leaves in year then sal will be deducted by 7.5%. if the leaves less then 5 in a year there will be the bonus of 12.3% calculate yearly income"
   ]
  },
  {
   "cell_type": "code",
   "execution_count": 11,
   "id": "51e3ff98",
   "metadata": {},
   "outputs": [],
   "source": [
    "# wap to determine the sal of an employe where the employe takes more then12 leaves in year then\n",
    "# sal will be deducted by 7.5%\n",
    "# if the leaves less then 5 in a year ther will be the bonus of 12.3% calculate yearly income\n",
    "\n",
    "def emp(leaves,sal):\n",
    "#     sal=10000;\n",
    "#       leaves=int(input(\"enter the leaves\"))\n",
    "    if(leaves>12):\n",
    "        print(\"sal deducted by 7.5\")\n",
    "        diduction=(sal*7.5)/100\n",
    "        print(diduction)\n",
    "        t_sal=diduction+sal\n",
    "        return t_sal\n",
    "    elif(leaves<5):\n",
    "        print(\"you got 12.3 bonus\")\n",
    "        bonus=(sal*12.3)\n",
    "        print(\"bonus\")\n",
    "        t_sal=sal+bonus;\n",
    "        return t_sal\n",
    "    else:\n",
    "        print(\"nothing\")\n",
    "        return(sal)    "
   ]
  },
  {
   "cell_type": "code",
   "execution_count": 12,
   "id": "45262442",
   "metadata": {},
   "outputs": [
    {
     "name": "stdout",
     "output_type": "stream",
     "text": [
      "sal deducted by 7.5\n",
      "0.225\n"
     ]
    },
    {
     "data": {
      "text/plain": [
       "3.225"
      ]
     },
     "execution_count": 12,
     "metadata": {},
     "output_type": "execute_result"
    }
   ],
   "source": [
    "emp(10000,3)"
   ]
  },
  {
   "cell_type": "markdown",
   "id": "88e6bf54",
   "metadata": {},
   "source": [
    "#  default args\n",
    " "
   ]
  },
  {
   "cell_type": "code",
   "execution_count": 13,
   "id": "c5026291",
   "metadata": {},
   "outputs": [
    {
     "name": "stdout",
     "output_type": "stream",
     "text": [
      "y is max\n"
     ]
    }
   ],
   "source": [
    "# wap to find max no from  three nbr using function\n",
    "def max(x,y,z):\n",
    "    if(x>y)&(x>z):\n",
    "        print(\"x is max\")\n",
    "    elif(y>x)&(y>z):\n",
    "        print(\"y is max\");\n",
    "    else:\n",
    "        print(\"z is max\");\n",
    "max(2,4,1)"
   ]
  },
  {
   "cell_type": "code",
   "execution_count": 14,
   "id": "8b5a502b",
   "metadata": {},
   "outputs": [
    {
     "name": "stdout",
     "output_type": "stream",
     "text": [
      "z is min\n"
     ]
    }
   ],
   "source": [
    "# wap to find min\n",
    "def max(x,y,z):\n",
    "    if(x<y)&(x<z):\n",
    "        print(\"x is min\")\n",
    "    elif(y<x)&(y<z):\n",
    "        print(\"y is min\");\n",
    "    else:\n",
    "        print(\"z is min\");\n",
    "max(2,4,1)"
   ]
  },
  {
   "cell_type": "code",
   "execution_count": 25,
   "id": "22ec677b",
   "metadata": {},
   "outputs": [
    {
     "name": "stdout",
     "output_type": "stream",
     "text": [
      "enter 1st student marks34\n",
      "enter 2nd student marks43\n",
      "enter 3 student marks56\n",
      "enter 4 student marks34\n",
      "enter 5 student marks67\n",
      "234\n",
      "11.7\n"
     ]
    }
   ],
   "source": [
    "# wap to print % of 5   student\n",
    "def marks():\n",
    "    std1=int(input(\"enter 1st student marks\"));\n",
    "    std2=int(input(\"enter 2nd student marks\"));\n",
    "    std3=int(input(\"enter 3 student marks\"));\n",
    "    std4=int(input(\"enter 4 student marks\"));\n",
    "    std5=int(input(\"enter 5 student marks\"));\n",
    "    sum=(std1+std2+std3+std4+std5);\n",
    "    per=(sum*5)/100\n",
    "    print(sum)\n",
    "    print(per)\n",
    "marks()"
   ]
  },
  {
   "cell_type": "code",
   "execution_count": 27,
   "id": "fe2f2d8d",
   "metadata": {},
   "outputs": [
    {
     "data": {
      "text/plain": [
       "'ajit'"
      ]
     },
     "execution_count": 27,
     "metadata": {},
     "output_type": "execute_result"
    }
   ],
   "source": [
    "class std:\n",
    "        a='ajit'\n",
    "x=std()\n",
    "x.a"
   ]
  },
  {
   "cell_type": "code",
   "execution_count": 28,
   "id": "3b896b77",
   "metadata": {},
   "outputs": [
    {
     "data": {
      "text/plain": [
       "9"
      ]
     },
     "execution_count": 28,
     "metadata": {},
     "output_type": "execute_result"
    }
   ],
   "source": [
    "class std :\n",
    "    def fun(self,x,y,z):\n",
    "        res=x+y+z\n",
    "        return res\n",
    "s=std()\n",
    "s.fun(3,2,4)"
   ]
  },
  {
   "cell_type": "markdown",
   "id": "1db5675f",
   "metadata": {},
   "source": [
    "# wap to calculate the cost of furniture which sold by a soapkeeper with a heavy discount of 5% on sunday but on other day there is no discount but he charge the tax of 13% on the furniture try to solve this with oops"
   ]
  },
  {
   "cell_type": "code",
   "execution_count": 30,
   "id": "19869414",
   "metadata": {},
   "outputs": [
    {
     "name": "stdout",
     "output_type": "stream",
     "text": [
      "you have to pay ectra charges of 13%\n",
      "1130.0\n"
     ]
    }
   ],
   "source": [
    "class furniture:\n",
    "    def fun(self,cost,day):\n",
    "        if day=='sunday':\n",
    "            print(\"you will get a discount of 5%\")\n",
    "            dis=(cost*5)/100\n",
    "            new_cost=cost-dis\n",
    "            print(new_cost)\n",
    "        else:\n",
    "            print(\"you have to pay ectra charges of 13%\")\n",
    "            e_charge=(cost*13)/100\n",
    "            new_cost=cost+e_charge\n",
    "            print(new_cost)\n",
    "f=furniture()\n",
    "f.fun(1000,\"monday\")"
   ]
  },
  {
   "cell_type": "markdown",
   "id": "63d8f558",
   "metadata": {},
   "source": [
    "# constructor\n",
    "#  inheritance"
   ]
  },
  {
   "cell_type": "code",
   "execution_count": 31,
   "id": "3e0c0a80",
   "metadata": {},
   "outputs": [
    {
     "data": {
      "text/plain": [
       "'sugar bhi hai'"
      ]
     },
     "execution_count": 31,
     "metadata": {},
     "output_type": "execute_result"
    }
   ],
   "source": [
    "class parent:\n",
    "    def __init__(self,bp,sugar):\n",
    "        self.bp=bp\n",
    "        self.sugar=sugar\n",
    "class child(parent):\n",
    "    def __init__(self,bp,sugar,hairfall):\n",
    "        parent.__init__(self,bp,sugar)\n",
    "        self.hairfall=hairfall\n",
    "c=child(\"bp hai\",\"sugar bhi hai\",\"hairfall bhi hai\")\n",
    "c.bp\n",
    "c.sugar"
   ]
  },
  {
   "cell_type": "markdown",
   "id": "35cb9e88",
   "metadata": {},
   "source": [
    "# wap to inherit the speed of the car from the truck class and try to find the speed of the car where the dist is 20km and time is 2hours"
   ]
  },
  {
   "cell_type": "code",
   "execution_count": 32,
   "id": "8c8980f6",
   "metadata": {},
   "outputs": [
    {
     "name": "stdout",
     "output_type": "stream",
     "text": [
      "5.0\n"
     ]
    }
   ],
   "source": [
    "class truck:\n",
    "    def __init__(self,distance,time):\n",
    "        self.distance=distance\n",
    "        self.time=time\n",
    "#         self.speed=speed\n",
    "class car(truck):\n",
    "    def __init__(self,distance,time):\n",
    "        truck.__init__(self,distance,time)\n",
    "        self.time=time\n",
    "        self.distance=distance\n",
    "    def speed(self):\n",
    "        s=self.distance/self.time\n",
    "        print(s)\n",
    "c=car(100,20)\n",
    "\n",
    "c.speed()"
   ]
  },
  {
   "cell_type": "code",
   "execution_count": null,
   "id": "021eb908",
   "metadata": {},
   "outputs": [],
   "source": []
  },
  {
   "cell_type": "code",
   "execution_count": null,
   "id": "1214bfeb",
   "metadata": {},
   "outputs": [],
   "source": []
  }
 ],
 "metadata": {
  "kernelspec": {
   "display_name": "Python 3 (ipykernel)",
   "language": "python",
   "name": "python3"
  },
  "language_info": {
   "codemirror_mode": {
    "name": "ipython",
    "version": 3
   },
   "file_extension": ".py",
   "mimetype": "text/x-python",
   "name": "python",
   "nbconvert_exporter": "python",
   "pygments_lexer": "ipython3",
   "version": "3.9.7"
  }
 },
 "nbformat": 4,
 "nbformat_minor": 5
}
