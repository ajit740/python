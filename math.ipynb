{
 "cells": [
  {
   "cell_type": "code",
   "execution_count": 1,
   "id": "533ba214",
   "metadata": {},
   "outputs": [],
   "source": [
    "import math"
   ]
  },
  {
   "cell_type": "code",
   "execution_count": 2,
   "id": "8c94e19b",
   "metadata": {},
   "outputs": [
    {
     "name": "stdout",
     "output_type": "stream",
     "text": [
      "enter the radius5\n",
      "area of circle 78.53981633974483\n"
     ]
    }
   ],
   "source": [
    "#area of circle using math\n",
    "import math\n",
    "radius=int(input(\"enter the radius\"))\n",
    "area=math.pi*math.pow(radius,2)\n",
    "print(\"area of circle\",area)"
   ]
  },
  {
   "cell_type": "code",
   "execution_count": 4,
   "id": "22c0fd4d",
   "metadata": {},
   "outputs": [
    {
     "name": "stdout",
     "output_type": "stream",
     "text": [
      "enter any number5\n",
      "factorial os any number= 120\n"
     ]
    }
   ],
   "source": [
    "#factorial of any number using math\n",
    "number=int(input(\"enter any number\"))\n",
    "factorial=math.factorial(number)\n",
    "print(\"factorial os any number=\",factorial)"
   ]
  },
  {
   "cell_type": "code",
   "execution_count": 6,
   "id": "8c5d76d9",
   "metadata": {},
   "outputs": [
    {
     "name": "stdout",
     "output_type": "stream",
     "text": [
      "enter any number 16\n",
      "the square root of any number= 4.0\n"
     ]
    }
   ],
   "source": [
    "#wap to print square root of any number\n",
    "number=int(input('enter any number '))\n",
    "sqroot=math.sqrt(number)\n",
    "print(\"the square root of any number=\",sqroot)"
   ]
  },
  {
   "cell_type": "code",
   "execution_count": 7,
   "id": "185cdcd0",
   "metadata": {},
   "outputs": [
    {
     "name": "stdout",
     "output_type": "stream",
     "text": [
      "enter any number 10\n",
      "the square root of any number= 2.302585092994046\n"
     ]
    }
   ],
   "source": [
    "#wap to print logrithm of any number\n",
    "number=int(input('enter any number '))\n",
    "logrithm=math.log(number)\n",
    "print(\"the logrithm of any number=\",logrithm)"
   ]
  },
  {
   "cell_type": "code",
   "execution_count": 9,
   "id": "12951064",
   "metadata": {},
   "outputs": [
    {
     "name": "stdout",
     "output_type": "stream",
     "text": [
      "enter your side one5\n",
      "enter your side one3\n",
      "hyponenus of the right angle triangle= 5.830951894845301\n"
     ]
    }
   ],
   "source": [
    "#wap to calculate hypotenuse of right angle triangle\n",
    "side1=int(input(\"enter your side one\"))\n",
    "side2=int(input(\"enter your side one\"))\n",
    "hypo=math.sqrt(math.pow(side1,2)+math.pow(side2,2))\n",
    "print(\"hyponenus of the right angle triangle=\",hypo)"
   ]
  },
  {
   "cell_type": "code",
   "execution_count": 11,
   "id": "81adc88e",
   "metadata": {},
   "outputs": [
    {
     "name": "stdout",
     "output_type": "stream",
     "text": [
      "enter the digree120\n",
      "120 digrees in radians 2.0943951023931953\n"
     ]
    }
   ],
   "source": [
    "#wap to convert digree to radian\n",
    "digree=int(input(\"enter the digree\"))\n",
    "radian=math.radians(digree)\n",
    "print(digree,\"digrees in radians\",radian)"
   ]
  },
  {
   "cell_type": "code",
   "execution_count": 14,
   "id": "22ba4801",
   "metadata": {},
   "outputs": [
    {
     "name": "stdout",
     "output_type": "stream",
     "text": [
      "enter any number55\n",
      "enter any number5\n",
      "gcd of number 1 and number two= 5\n"
     ]
    }
   ],
   "source": [
    "#wap to calculator GCD(greatest common divisor) of two number\n",
    "numb1=int(input(\"enter any number\"))\n",
    "numb2=int(input(\"enter any number\"))\n",
    "gcd=math.gcd(numb1,numb2)\n",
    "print(\"gcd of number 1 and number two=\", gcd)"
   ]
  },
  {
   "cell_type": "code",
   "execution_count": 16,
   "id": "67d7f128",
   "metadata": {},
   "outputs": [
    {
     "name": "stdout",
     "output_type": "stream",
     "text": [
      "enter any number5\n",
      "the exponetial value of number1= 148.4131591025766\n"
     ]
    }
   ],
   "source": [
    "numb1=int(input(\"enter any number\"))\n",
    "expon=math.exp(numb1)\n",
    "print(\"the exponetial value of number1=\",expon)"
   ]
  },
  {
   "cell_type": "code",
   "execution_count": 17,
   "id": "402fcccf",
   "metadata": {},
   "outputs": [
    {
     "name": "stdout",
     "output_type": "stream",
     "text": [
      "enter any number10\n",
      "the exponetial value of number1= -0.5440211108893698\n"
     ]
    }
   ],
   "source": [
    "numb1=int(input(\"enter any number\"))\n",
    "expon=math.sin(numb1)\n",
    "print(\"the exponetial value of number1=\",expon)"
   ]
  },
  {
   "cell_type": "code",
   "execution_count": 26,
   "id": "e4b22f20",
   "metadata": {},
   "outputs": [
    {
     "name": "stdout",
     "output_type": "stream",
     "text": [
      "0.49999999999999994\n",
      "0.7071067811865476\n",
      "1.7320508075688767\n"
     ]
    }
   ],
   "source": [
    "#wap to check any value of trignometric angles  \n",
    "angle=math.radians(30)\n",
    "s=math.radians(45)\n",
    "m=math.radians(60)\n",
    "sin_value=math.sin(angle)\n",
    "cos_value=math.cos(s)\n",
    "tan_value=math.tan(m)\n",
    "\n",
    "print(sin_value)\n",
    "print(cos_value)\n",
    "print(tan_value)"
   ]
  },
  {
   "cell_type": "code",
   "execution_count": 30,
   "id": "3cfcf90e",
   "metadata": {},
   "outputs": [
    {
     "name": "stdout",
     "output_type": "stream",
     "text": [
      "determinent of this metrix=\n",
      "0.0\n"
     ]
    }
   ],
   "source": [
    "import numpy as np\n",
    "metrix=np.array([[1,2,3],[2,3,5],[1,1,2]])\n",
    "deter=np.linalg.det(metrix)\n",
    "print(\"determinent of this metrix=\")\n",
    "print(deter)"
   ]
  },
  {
   "cell_type": "code",
   "execution_count": null,
   "id": "f297ff9c",
   "metadata": {},
   "outputs": [],
   "source": []
  }
 ],
 "metadata": {
  "kernelspec": {
   "display_name": "Python 3 (ipykernel)",
   "language": "python",
   "name": "python3"
  },
  "language_info": {
   "codemirror_mode": {
    "name": "ipython",
    "version": 3
   },
   "file_extension": ".py",
   "mimetype": "text/x-python",
   "name": "python",
   "nbconvert_exporter": "python",
   "pygments_lexer": "ipython3",
   "version": "3.9.7"
  }
 },
 "nbformat": 4,
 "nbformat_minor": 5
}
