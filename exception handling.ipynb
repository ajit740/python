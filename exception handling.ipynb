{
 "cells": [
  {
   "cell_type": "markdown",
   "id": "a71b5293",
   "metadata": {},
   "source": [
    "# what is exception handling\n"
   ]
  },
  {
   "cell_type": "markdown",
   "id": "90205016",
   "metadata": {},
   "source": [
    "1. Exception handling is a programming concept used to manage and respond to errors or exceptional situations that may occur during the execution of a program.\n",
    "\n",
    "2. These exceptions can range from simple issues like dividing by zero to more complex scenarios like trying to access a file that doesn't exist.\n",
    "\n",
    "The basic structure of exception handling typically involves:\n",
    "\n",
    "1. Try: The block of code where potential exceptions may occur is placed within a try block. The code inside this block is monitored for exceptions.\n",
    "\n",
    "2. Catch: If an exception occurs within the try block, it is caught or captured by a corresponding catch block. Here, the type of exception is specified, and actions to handle the exception (such as displaying an error message or taking corrective actions) are defined.\n",
    "\n",
    "3. Finally (optional): This block, if included, is executed whether an exception occurs or not. It's commonly used for cleanup tasks like closing files or releasing resources.\n",
    "\n"
   ]
  },
  {
   "cell_type": "markdown",
   "id": "d1866a1c",
   "metadata": {},
   "source": [
    "# division by zero"
   ]
  },
  {
   "cell_type": "code",
   "execution_count": 7,
   "id": "d81aa3ec",
   "metadata": {},
   "outputs": [
    {
     "name": "stdout",
     "output_type": "stream",
     "text": [
      "enter any value0\n",
      "Error: Division by zero!\n"
     ]
    }
   ],
   "source": [
    "try:\n",
    "    num=int(input(\"enter any value\"))\n",
    "    result = 10 / num  # This will raise a ZeroDivisionError\n",
    "    print(result)\n",
    "except ZeroDivisionError:\n",
    "    print(\"Error: Division by zero!\")\n"
   ]
  },
  {
   "cell_type": "code",
   "execution_count": 9,
   "id": "e732d750",
   "metadata": {},
   "outputs": [
    {
     "name": "stdout",
     "output_type": "stream",
     "text": [
      "Enter a number: p\n",
      "Error: Please enter a valid number!\n"
     ]
    }
   ],
   "source": [
    "try:\n",
    "    user_input = int(input(\"Enter a number: \"))  # Trying to convert user input to an integer\n",
    "    print(\"Squared value:\", user_input ** 2)\n",
    "except ValueError:\n",
    "    print(\"Error: Please enter a valid number!\")\n"
   ]
  },
  {
   "cell_type": "markdown",
   "id": "44e5dc68",
   "metadata": {},
   "source": [
    "# Handling Multiple Exceptions:"
   ]
  },
  {
   "cell_type": "code",
   "execution_count": 15,
   "id": "f0e7b56b",
   "metadata": {},
   "outputs": [
    {
     "name": "stdout",
     "output_type": "stream",
     "text": [
      "Enter a number: p\n",
      "Error: Please enter a valid number.\n"
     ]
    }
   ],
   "source": [
    "try:\n",
    "    num = int(input(\"Enter a number: \"))\n",
    "    result = 100 / num\n",
    "    print(\"Result:\", result)\n",
    "except ValueError:\n",
    "    print(\"Error: Please enter a valid number.\")\n",
    "except ZeroDivisionError:\n",
    "    print(\"Error: Cannot divide by zero.\")\n"
   ]
  },
  {
   "cell_type": "code",
   "execution_count": 4,
   "id": "7af20d19",
   "metadata": {},
   "outputs": [
    {
     "name": "stdout",
     "output_type": "stream",
     "text": [
      "Error: Division by zero!\n"
     ]
    }
   ],
   "source": [
    "try:\n",
    "    result = 10 / 0  # This will raise a ZeroDivisionError\n",
    "    print(result)\n",
    "except ZeroDivisionError:\n",
    "    print(\"Error: Division by zero!\")"
   ]
  },
  {
   "cell_type": "code",
   "execution_count": 8,
   "id": "8a932182",
   "metadata": {},
   "outputs": [
    {
     "name": "stdout",
     "output_type": "stream",
     "text": [
      "index out of range\n"
     ]
    }
   ],
   "source": [
    "try:\n",
    "    list=[1,2,3,4]\n",
    "    value=list[9]\n",
    "    print(value)\n",
    "except IndexError:\n",
    "    print(\"index out of range\")"
   ]
  },
  {
   "cell_type": "code",
   "execution_count": 14,
   "id": "1566e47f",
   "metadata": {},
   "outputs": [
    {
     "name": "stdout",
     "output_type": "stream",
     "text": [
      "enter any numberr\n",
      "please enter a valid number\n"
     ]
    }
   ],
   "source": [
    "try:\n",
    "    number=int(input(\"enter any number\"))\n",
    "    print(\"square of number\",number**2)\n",
    "except ValueError:\n",
    "    print(\"please enter a valid number\")"
   ]
  },
  {
   "cell_type": "code",
   "execution_count": 20,
   "id": "d6c21bec",
   "metadata": {},
   "outputs": [
    {
     "name": "stdout",
     "output_type": "stream",
     "text": [
      "enter any number7\n",
      "14.285714285714286\n"
     ]
    }
   ],
   "source": [
    "try:\n",
    "    num=int(input(\"enter any number\"))\n",
    "    result=100/num\n",
    "    print(result)\n",
    "except ValueError:\n",
    "    print(\"Error: please enter a valid input\")\n",
    "except ZeroDivisionError:\n",
    "    print(\"Error: Divison is not possible with zero\")"
   ]
  },
  {
   "cell_type": "markdown",
   "id": "291529ab",
   "metadata": {},
   "source": [
    "# finally block"
   ]
  },
  {
   "cell_type": "code",
   "execution_count": 34,
   "id": "fcc6d695",
   "metadata": {},
   "outputs": [
    {
     "name": "stdout",
     "output_type": "stream",
     "text": [
      "enter any value6\n",
      "1.6666666666666667\n",
      "final message \n"
     ]
    }
   ],
   "source": [
    "try:\n",
    "    value=int(input(\"enter any value\"))\n",
    "    result=10/value\n",
    "    print(result)\n",
    "except ZeroDivisionError:\n",
    "    print(\"invalid operation\")\n",
    "finally:\n",
    "    print(\"final message \")"
   ]
  },
  {
   "cell_type": "code",
   "execution_count": 38,
   "id": "2f102948",
   "metadata": {},
   "outputs": [
    {
     "name": "stdout",
     "output_type": "stream",
     "text": [
      "my name is ajay kumar\n",
      " this the my next file\n",
      "exicution completed\n"
     ]
    }
   ],
   "source": [
    "try:\n",
    "    file=open(r'C:\\Users\\Ajit\\Downloads\\bank\\ajit.txt' ,'r')\n",
    "    content=file.read()\n",
    "    print(content)\n",
    "except FileNotFoundError:\n",
    "    print(\"file is not found\")\n",
    "finally:\n",
    "    if 'file' in locals():\n",
    "        file.close()\n",
    "    print(\"exicution completed\")"
   ]
  },
  {
   "cell_type": "code",
   "execution_count": null,
   "id": "bf76e1da",
   "metadata": {},
   "outputs": [],
   "source": [
    "def divide(a,b):\n",
    "    try:\n",
    "        return a/b\n",
    "    except ZeroDivisionError:\n",
    "        print(\"division is not posssible by zero\")\n",
    "    finally:\n",
    "        print(\"finally block exicuted\")\n",
    "a=int(input(\"enter any value\"))\n",
    "b=int(input(\"enter any value\"))\n",
    "result=divide(a,b)\n",
    "print(result)"
   ]
  },
  {
   "cell_type": "code",
   "execution_count": null,
   "id": "a954aafc",
   "metadata": {},
   "outputs": [],
   "source": []
  }
 ],
 "metadata": {
  "kernelspec": {
   "display_name": "Python 3 (ipykernel)",
   "language": "python",
   "name": "python3"
  },
  "language_info": {
   "codemirror_mode": {
    "name": "ipython",
    "version": 3
   },
   "file_extension": ".py",
   "mimetype": "text/x-python",
   "name": "python",
   "nbconvert_exporter": "python",
   "pygments_lexer": "ipython3",
   "version": "3.9.7"
  }
 },
 "nbformat": 4,
 "nbformat_minor": 5
}
