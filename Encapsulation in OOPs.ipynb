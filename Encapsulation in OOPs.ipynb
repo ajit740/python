{
 "cells": [
  {
   "cell_type": "markdown",
   "id": "e64762d2",
   "metadata": {},
   "source": [
    "# What is Encapsulation "
   ]
  },
  {
   "cell_type": "markdown",
   "id": "44ed725a",
   "metadata": {},
   "source": [
    " 1. Encapsulation is like packaging functionality and the data it works on into a single box (a class). This box not only keeps everything organized but also puts a lock on it, allowing only certain parts to be accessed or modified.\n",
    " \n",
    " \n",
    " 2. It's a way to prevent accidental messing around with the internal details and ensures that things work as intended."
   ]
  },
  {
   "cell_type": "markdown",
   "id": "b9fc1481",
   "metadata": {},
   "source": [
    "#Example\n",
    "\n",
    "\n",
    "Packaging things together: Imagine you have a bunch of related information and actions. Encapsulation lets you put them together in a neat box, like a container. This container is a class in programming.\n",
    "\n",
    "Locking the box: This box has a lock on it. Some things inside can be seen and used by anyone (public), some can only be seen by a few (protected), and some are completely hidden (private)."
   ]
  },
  {
   "cell_type": "code",
   "execution_count": 4,
   "id": "95c41aca",
   "metadata": {},
   "outputs": [
    {
     "name": "stdout",
     "output_type": "stream",
     "text": [
      "maruti\n",
      "brezza\n",
      "2021\n",
      "tyota\n",
      "2002\n"
     ]
    }
   ],
   "source": [
    "class Car:\n",
    "    def __init__(self, make,model,year):\n",
    "        self.__make=make#private\n",
    "        self.__model=model#private\n",
    "        self.__year=year#private\n",
    "#getter method    \n",
    "    def get_make(self):\n",
    "        return self.__make\n",
    "    \n",
    "    def get_model(self):\n",
    "        return self.__model\n",
    "    \n",
    "    def get_year(self):\n",
    "        return self.__year\n",
    "    \n",
    "#setter method\n",
    "    def set_make(self,make):\n",
    "        self.__make=make\n",
    "    \n",
    "    def set_model(self,model):\n",
    "        self.__model=model\n",
    "        \n",
    "    def set_year(self,year):\n",
    "        self.__year=year\n",
    "        \n",
    "my_car=Car(\"maruti\",\"brezza\",2021)\n",
    "\n",
    "print(my_car.get_make())\n",
    "print(my_car.get_model())\n",
    "print(my_car.get_year())\n",
    "\n",
    "my_car.set_make(\"tyota\")\n",
    "my_car.set_year(2002)\n",
    "\n",
    "print(my_car.get_make())\n",
    "print(my_car.get_year())"
   ]
  },
  {
   "cell_type": "code",
   "execution_count": 10,
   "id": "0b03ecfa",
   "metadata": {},
   "outputs": [
    {
     "name": "stdout",
     "output_type": "stream",
     "text": [
      "ajit\n",
      "24\n",
      "india\n",
      "bharat\n",
      "20\n",
      "USA\n"
     ]
    }
   ],
   "source": [
    "class Person:\n",
    "    def __init__(self,name,age,country):\n",
    "        self.__name=name#private\n",
    "        self.__age=age #private\n",
    "        self.__country=country#private\n",
    "        \n",
    "#getter method\n",
    "    def get_name(self):\n",
    "        return self.__name\n",
    "    \n",
    "    def get_age(self):\n",
    "        return self.__age\n",
    "    \n",
    "    def get_country(self):\n",
    "        return self.__country\n",
    "    \n",
    "#setter method\n",
    "    def set_name(self,name):\n",
    "        self.__name=name\n",
    "    \n",
    "    def set_age(self,age):\n",
    "        if age>0:\n",
    "            self.__age=age\n",
    "        else:\n",
    "            print(\"invalid age\")\n",
    "            \n",
    "    def set_country(self,country):\n",
    "        self.__country=country\n",
    "    \n",
    "person=Person(\"ajit\",24,\"india\")\n",
    "\n",
    "print(person.get_name())\n",
    "print(person.get_age())\n",
    "print(person.get_country())\n",
    "\n",
    "person.set_name(\"bharat\")\n",
    "person.set_age(20)\n",
    "person.set_country(\"USA\")\n",
    "\n",
    "print(person.get_name())\n",
    "print(person.get_age())\n",
    "print(person.get_country())\n",
    "\n",
    "\n",
    "    \n",
    "        "
   ]
  },
  {
   "cell_type": "code",
   "execution_count": 5,
   "id": "8e4dc4b6",
   "metadata": {},
   "outputs": [
    {
     "name": "stdout",
     "output_type": "stream",
     "text": [
      "1000\n",
      "10000\n",
      "unsufficent balance\n",
      "10000\n"
     ]
    }
   ],
   "source": [
    "class BankAccount:\n",
    "    def __init__(self,balance):\n",
    "        self.__balance=balance #private\n",
    "        \n",
    "    @property\n",
    "    def balance(self):\n",
    "        return self.__balance\n",
    "    \n",
    "    @balance.setter\n",
    "    def balance(self,new_balance):\n",
    "        if new_balance>=0:\n",
    "            self.__balance=new_balance\n",
    "        else:\n",
    "            print(\"unsufficent balance\")\n",
    "            \n",
    "account=BankAccount(1000)\n",
    "print(account.balance)\n",
    "\n",
    "account.balance=10000\n",
    "print(account.balance)\n",
    "\n",
    "account.balance=-100\n",
    "\n",
    "print(account.balance)"
   ]
  },
  {
   "cell_type": "code",
   "execution_count": null,
   "id": "0e626e3e",
   "metadata": {},
   "outputs": [],
   "source": []
  }
 ],
 "metadata": {
  "kernelspec": {
   "display_name": "Python 3 (ipykernel)",
   "language": "python",
   "name": "python3"
  },
  "language_info": {
   "codemirror_mode": {
    "name": "ipython",
    "version": 3
   },
   "file_extension": ".py",
   "mimetype": "text/x-python",
   "name": "python",
   "nbconvert_exporter": "python",
   "pygments_lexer": "ipython3",
   "version": "3.9.7"
  }
 },
 "nbformat": 4,
 "nbformat_minor": 5
}
