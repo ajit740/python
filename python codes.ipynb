{
 "cells": [
  {
   "cell_type": "code",
   "execution_count": 1,
   "id": "16fef1a5",
   "metadata": {},
   "outputs": [],
   "source": [
    "import pandas as pd\n",
    "import numpy as np \n",
    "import seaborn as sns\n",
    "import matplotlib.pyplot as plt\n"
   ]
  },
  {
   "cell_type": "markdown",
   "id": "c5271a6d",
   "metadata": {},
   "source": [
    "# reverse of a string"
   ]
  },
  {
   "cell_type": "code",
   "execution_count": 17,
   "id": "ac791da8",
   "metadata": {},
   "outputs": [
    {
     "name": "stdout",
     "output_type": "stream",
     "text": [
      "dlrow olleh\n"
     ]
    }
   ],
   "source": [
    "def reverse(string):\n",
    "    string=string[::-1]\n",
    "    return string\n",
    "s=\"hello world\"\n",
    "print(reverse(s))"
   ]
  },
  {
   "cell_type": "markdown",
   "id": "ed4c2f69",
   "metadata": {},
   "source": [
    "# prime number or not"
   ]
  },
  {
   "cell_type": "code",
   "execution_count": 31,
   "id": "07312b45",
   "metadata": {},
   "outputs": [
    {
     "name": "stdout",
     "output_type": "stream",
     "text": [
      "number is prime\n",
      "number is prime\n",
      "number is prime\n"
     ]
    }
   ],
   "source": [
    "# n=int(input(\"enter the number\"))\n",
    "n=5\n",
    "flag=False\n",
    "if(n>1):\n",
    "    for i in range(2,n):\n",
    "        if(n%i==0):\n",
    "            Flag=True\n",
    "            break\n",
    "        if flag:\n",
    "            print(\"number is not prime\")\n",
    "        else:\n",
    "            print(\"number is prime\")\n",
    "            "
   ]
  },
  {
   "cell_type": "markdown",
   "id": "0c1e754d",
   "metadata": {},
   "source": [
    "# fibonacci series"
   ]
  },
  {
   "cell_type": "code",
   "execution_count": 34,
   "id": "2d59951c",
   "metadata": {},
   "outputs": [
    {
     "name": "stdout",
     "output_type": "stream",
     "text": [
      "fibonacci series: 0 012358132134\n"
     ]
    }
   ],
   "source": [
    "num=10\n",
    "n1,n2=0,1\n",
    "print(\"fibonacci series:\",n1,n1,end=\"\")\n",
    "for i in range(2,num):\n",
    "    n3=n1+n2\n",
    "    n1=n2\n",
    "    n2=n3\n",
    "    print(n3,end=\"\")\n",
    "\n",
    "print()"
   ]
  },
  {
   "cell_type": "markdown",
   "id": "0ec5f180",
   "metadata": {},
   "source": [
    "# how to sort a list of array"
   ]
  },
  {
   "cell_type": "code",
   "execution_count": 40,
   "id": "e359488b",
   "metadata": {},
   "outputs": [
    {
     "name": "stdout",
     "output_type": "stream",
     "text": [
      "[2, 14, 23, 24, 34, 53, 56, 56]\n"
     ]
    }
   ],
   "source": [
    "a=[23,2,14,53,56,34,24,56]\n",
    "a.sort()\n",
    "print(a)"
   ]
  },
  {
   "cell_type": "code",
   "execution_count": 44,
   "id": "996be818",
   "metadata": {},
   "outputs": [
    {
     "name": "stdout",
     "output_type": "stream",
     "text": [
      "sorted list ['a', 'e', 'i', 'o', 'u']\n"
     ]
    }
   ],
   "source": [
    "vowels=['i','a','e','o','u']\n",
    "vowels.sort()\n",
    "print(\"sorted list\",vowels)\n"
   ]
  },
  {
   "cell_type": "code",
   "execution_count": 45,
   "id": "046111c6",
   "metadata": {},
   "outputs": [
    {
     "name": "stdout",
     "output_type": "stream",
     "text": [
      "[56, 56, 53, 34, 24, 23, 14, 2]\n"
     ]
    }
   ],
   "source": [
    "a=[23,2,14,53,56,34,24,56]\n",
    "a.sort(reverse=True)\n",
    "print(a)"
   ]
  },
  {
   "cell_type": "markdown",
   "id": "9ada95d8",
   "metadata": {},
   "source": [
    "# pyramid pattern"
   ]
  },
  {
   "cell_type": "code",
   "execution_count": 51,
   "id": "e3d0b6c1",
   "metadata": {},
   "outputs": [
    {
     "name": "stdout",
     "output_type": "stream",
     "text": [
      "enter the number of rows5\n",
      "*\n",
      "\n",
      "**\n",
      "\n",
      "***\n",
      "\n",
      "****\n",
      "\n",
      "*****\n",
      "\n"
     ]
    }
   ],
   "source": [
    "rows=int(input(\"enter the number of rows\"))\n",
    "for i in range(rows):\n",
    "    for j in range(i+1):\n",
    "        print(\"*\",end=\"\")\n",
    "    print(\"\\n\")\n",
    "    "
   ]
  },
  {
   "cell_type": "code",
   "execution_count": 57,
   "id": "324db02f",
   "metadata": {},
   "outputs": [
    {
     "name": "stdout",
     "output_type": "stream",
     "text": [
      "enter the rows5\n",
      "1\n",
      "\n",
      "12\n",
      "\n",
      "123\n",
      "\n",
      "1234\n",
      "\n",
      "12345\n",
      "\n"
     ]
    }
   ],
   "source": [
    "rows=int(input(\"enter the rows\"))\n",
    "for i in range(rows):\n",
    "    for j in range(i+1):\n",
    "        print(j+1,end=\"\")\n",
    "    print(\"\\n\")"
   ]
  },
  {
   "cell_type": "code",
   "execution_count": 61,
   "id": "4def9dab",
   "metadata": {},
   "outputs": [
    {
     "name": "stdout",
     "output_type": "stream",
     "text": [
      "enter the rows5\n",
      "    * \n",
      "    * * * \n",
      "    * * * * * \n",
      "    * * * * * * * \n",
      "    * * * * * * * * * \n"
     ]
    }
   ],
   "source": [
    "rows=int(input(\"enter the rows\"))\n",
    "k=0\n",
    "for i in range(1,rows+1):\n",
    "    for space in range(1,(rows-1)+1):\n",
    "        print(end=\" \")\n",
    "        \n",
    "    while k!=(2*i-1):\n",
    "        print(\"* \",end=\"\")\n",
    "        k += 1\n",
    "    k=0\n",
    "    print()\n",
    "    "
   ]
  },
  {
   "cell_type": "markdown",
   "id": "c678dfab",
   "metadata": {},
   "source": [
    "# swap to two number"
   ]
  },
  {
   "cell_type": "code",
   "execution_count": 67,
   "id": "3be7bf7c",
   "metadata": {},
   "outputs": [
    {
     "name": "stdout",
     "output_type": "stream",
     "text": [
      "enter the value of a:\n",
      "10\n",
      "enter the value of b:\n",
      "20\n",
      "swap value of a: 20\n",
      "swap value of b: 54\n"
     ]
    }
   ],
   "source": [
    "# swap two number with using third variable\n",
    "a=int(input(\"enter the value of a:\\n\"))\n",
    "b=int(input(\"enter the value of b:\\n\"))\n",
    "\n",
    "\n",
    "a=b\n",
    "b=c\n",
    "c=a\n",
    "print(\"swap value of a:\",a)\n",
    "print(\"swap value of b:\",b)"
   ]
  },
  {
   "cell_type": "code",
   "execution_count": null,
   "id": "3be5680e",
   "metadata": {},
   "outputs": [],
   "source": [
    "# swap two number without using third variable\n",
    "a=int(input(\"enter the value of a:\\n\"))\n",
    "b=int(input(\"enter the value of b:\\n\"))\n",
    "\n",
    "a=a+b\n",
    "b=a-b\n",
    "a=a-b\n",
    "print(\"swap value of a:\",a)\n",
    "print(\"swap value of b:\",b)\n"
   ]
  },
  {
   "cell_type": "markdown",
   "id": "fdedcfa0",
   "metadata": {},
   "source": [
    "# how to add two list"
   ]
  },
  {
   "cell_type": "code",
   "execution_count": 3,
   "id": "c8bbefdd",
   "metadata": {},
   "outputs": [
    {
     "name": "stdout",
     "output_type": "stream",
     "text": [
      "[21, 34, 34, 33, 14, 13, 'ajit', 'akash', 'amit']\n"
     ]
    }
   ],
   "source": [
    "list1=[21,34,34,33,14,13]\n",
    "list2=['ajit','akash','amit']\n",
    "list3=list1+list2\n",
    "print(list3)"
   ]
  },
  {
   "cell_type": "markdown",
   "id": "2cb0c2a8",
   "metadata": {},
   "source": [
    "# convert a list into tuple"
   ]
  },
  {
   "cell_type": "code",
   "execution_count": 4,
   "id": "9a178698",
   "metadata": {},
   "outputs": [
    {
     "name": "stdout",
     "output_type": "stream",
     "text": [
      "(32, 43, 5, 6)\n"
     ]
    }
   ],
   "source": [
    "def convert(list):\n",
    "    return tuple(list)\n",
    "list=[32,43,5,6]\n",
    "print(convert(list))"
   ]
  },
  {
   "cell_type": "markdown",
   "id": "bee4fc25",
   "metadata": {},
   "source": [
    "# lambda function"
   ]
  },
  {
   "cell_type": "code",
   "execution_count": 14,
   "id": "dade8766",
   "metadata": {},
   "outputs": [
    {
     "name": "stdout",
     "output_type": "stream",
     "text": [
      "10\n"
     ]
    }
   ],
   "source": [
    "a=lambda x,y:x*y\n",
    "print (a(2,5))"
   ]
  },
  {
   "cell_type": "markdown",
   "id": "c443bfe4",
   "metadata": {},
   "source": [
    "# number is palindrome or not"
   ]
  },
  {
   "cell_type": "code",
   "execution_count": 16,
   "id": "0b2bfde1",
   "metadata": {},
   "outputs": [
    {
     "name": "stdout",
     "output_type": "stream",
     "text": [
      "enter any number30011\n",
      "number is not palindrome\n"
     ]
    }
   ],
   "source": [
    "n=int(input(\"enter any number\"))\n",
    "temp=n\n",
    "rev=0\n",
    "while(n>0):\n",
    "    digit=n%10\n",
    "    rev=rev*10+digit\n",
    "    n=n//10\n",
    "if(temp==rev):\n",
    "    print(\"number is palindrome\")\n",
    "else:\n",
    "    print(\"number is not palindrome\")"
   ]
  },
  {
   "cell_type": "code",
   "execution_count": null,
   "id": "700c0dd4",
   "metadata": {},
   "outputs": [],
   "source": []
  }
 ],
 "metadata": {
  "kernelspec": {
   "display_name": "Python 3 (ipykernel)",
   "language": "python",
   "name": "python3"
  },
  "language_info": {
   "codemirror_mode": {
    "name": "ipython",
    "version": 3
   },
   "file_extension": ".py",
   "mimetype": "text/x-python",
   "name": "python",
   "nbconvert_exporter": "python",
   "pygments_lexer": "ipython3",
   "version": "3.9.7"
  }
 },
 "nbformat": 4,
 "nbformat_minor": 5
}
