{
 "cells": [
  {
   "cell_type": "markdown",
   "id": "1b1164b3",
   "metadata": {},
   "source": [
    "# Explain functions inn Python"
   ]
  },
  {
   "cell_type": "markdown",
   "id": "24905c58",
   "metadata": {},
   "source": [
    "1. In Python, a function is a reusable block of code that performs a specific task. It takes input parameters, processes them, and often returns a result. \n",
    "\n",
    "2. Functions help organize code, promote reusability, and improve readability.\n",
    "\n",
    "3. You define a function using the def keyword, followed by the function name, parameters, and a colon. The function body is indented."
   ]
  },
  {
   "cell_type": "markdown",
   "id": "0a5add35",
   "metadata": {},
   "source": [
    "# Types of functions "
   ]
  },
  {
   "cell_type": "markdown",
   "id": "69a12527",
   "metadata": {},
   "source": [
    "- In Python, functions can be categorized into different types based on their characteristics. Here are some common types of functions:\n",
    "\n",
    "1. Built-in functions: These are functions that are provided by Python and are available for use without the need for additional declarations. Examples include print(), len(), and type().\n",
    "\n",
    "\n",
    "2. User-defined functions: These are functions created by the programmer using the def keyword. They allow you to encapsulate a block of code for reuse.\n",
    "\n",
    " \n",
    "3. Anonymous functions (Lambda functions): These are small, one-line functions defined using the lambda keyword. They are often used for short-term operations, such as within functions like map() or filter()."
   ]
  },
  {
   "cell_type": "code",
   "execution_count": 1,
   "id": "6defc577",
   "metadata": {},
   "outputs": [
    {
     "name": "stdout",
     "output_type": "stream",
     "text": [
      "hello world\n"
     ]
    }
   ],
   "source": [
    "def hello():# defining a function \n",
    "    \n",
    "    # body of a function \n",
    "    print(\"hello world\")\n",
    "\n",
    "#calling a function    \n",
    "hello()"
   ]
  },
  {
   "cell_type": "code",
   "execution_count": 2,
   "id": "ca0d3b8e",
   "metadata": {},
   "outputs": [
    {
     "name": "stdout",
     "output_type": "stream",
     "text": [
      "9\n"
     ]
    }
   ],
   "source": [
    "def add(a,b):\n",
    "    return a+b\n",
    "result=add(4,5)\n",
    "print(result)"
   ]
  },
  {
   "cell_type": "code",
   "execution_count": 8,
   "id": "6f44a618",
   "metadata": {},
   "outputs": [
    {
     "name": "stdout",
     "output_type": "stream",
     "text": [
      "enter  value of a6\n",
      "enter  value of b8\n"
     ]
    },
    {
     "data": {
      "text/plain": [
       "14"
      ]
     },
     "execution_count": 8,
     "metadata": {},
     "output_type": "execute_result"
    }
   ],
   "source": [
    "#addition using function\n",
    "def add(a,b):\n",
    "\n",
    "    return a+b\n",
    "\n",
    "a=int(input(\"enter  value of a\"))\n",
    "b=int(input(\"enter  value of b\"))\n",
    "add(a,b)"
   ]
  },
  {
   "cell_type": "code",
   "execution_count": 12,
   "id": "c41b6894",
   "metadata": {},
   "outputs": [
    {
     "name": "stdout",
     "output_type": "stream",
     "text": [
      "enter  value of a5\n",
      "enter  value of b6\n"
     ]
    },
    {
     "data": {
      "text/plain": [
       "11"
      ]
     },
     "execution_count": 12,
     "metadata": {},
     "output_type": "execute_result"
    }
   ],
   "source": [
    "#addition using function\n",
    "def add(a,b):\n",
    "\n",
    "    result=a+b\n",
    "    return result\n",
    "a=int(input(\"enter  value of a\"))\n",
    "b=int(input(\"enter  value of b\"))\n",
    "add(a,b)"
   ]
  },
  {
   "cell_type": "code",
   "execution_count": 11,
   "id": "2e44f587",
   "metadata": {},
   "outputs": [
    {
     "name": "stdout",
     "output_type": "stream",
     "text": [
      "enter  value of a6\n",
      "enter  value of b87\n",
      "b is greater\n"
     ]
    }
   ],
   "source": [
    "#finding which number is greater\n",
    "def greater(a,b):\n",
    "    if(a>b):\n",
    "        print(\" a is greater\")\n",
    "    else:\n",
    "        print(\"b is greater\")\n",
    "a=int(input(\"enter  value of a\"))\n",
    "b=int(input(\"enter  value of b\"))\n",
    "greater(a,b)"
   ]
  },
  {
   "cell_type": "code",
   "execution_count": 14,
   "id": "ae33a6b2",
   "metadata": {},
   "outputs": [
    {
     "name": "stdout",
     "output_type": "stream",
     "text": [
      "enter any number5\n"
     ]
    },
    {
     "data": {
      "text/plain": [
       "False"
      ]
     },
     "execution_count": 14,
     "metadata": {},
     "output_type": "execute_result"
    }
   ],
   "source": [
    "#print number is even or not using function\n",
    "def even(number):\n",
    "    return number%2==0\n",
    "number=int(input(\"enter any number\"))\n",
    "even(number)"
   ]
  },
  {
   "cell_type": "code",
   "execution_count": 5,
   "id": "023ec5ec",
   "metadata": {},
   "outputs": [
    {
     "name": "stdout",
     "output_type": "stream",
     "text": [
      "enter any number6\n",
      "factoriral of the given number= 720\n"
     ]
    }
   ],
   "source": [
    "#factorial using function\n",
    "def fact(number):\n",
    "    fact=1\n",
    "    while(number>0):\n",
    "        fact*=number\n",
    "        number-=1\n",
    "    print(\"factoriral of the given number=\",fact)\n",
    "number=int(input(\"enter any number\"))\n",
    "fact(number)"
   ]
  },
  {
   "cell_type": "code",
   "execution_count": 8,
   "id": "810b6c02",
   "metadata": {},
   "outputs": [
    {
     "name": "stdout",
     "output_type": "stream",
     "text": [
      "enter any suntenceto\n",
      "the word is palindrome False\n"
     ]
    }
   ],
   "source": [
    "#print palindrome number\n",
    "def palindrome(word):\n",
    "    return word==word[::-1]\n",
    "#word=input(\"enter any suntence\")\n",
    "c=palindrome(\"wow\")\n",
    "print(\"the word is palindrome\",c)\n"
   ]
  },
  {
   "cell_type": "code",
   "execution_count": 11,
   "id": "27c91018",
   "metadata": {},
   "outputs": [
    {
     "name": "stdout",
     "output_type": "stream",
     "text": [
      "enter any number5\n",
      "25\n"
     ]
    }
   ],
   "source": [
    "#lamda function of sqare any number\n",
    "square=lambda x:x**2\n",
    "x=int(input(\"enter any number\"))\n",
    "print(square(x))"
   ]
  },
  {
   "cell_type": "code",
   "execution_count": 13,
   "id": "5d8b05ed",
   "metadata": {},
   "outputs": [
    {
     "name": "stdout",
     "output_type": "stream",
     "text": [
      "enter any number6\n",
      "enter any number4\n",
      "the addition of x nd y 10\n"
     ]
    }
   ],
   "source": [
    "#addition of any number \n",
    "add=lambda x,y:x+y\n",
    "x=int(input(\"enter any number\"))\n",
    "y=int(input(\"enter any number\"))\n",
    "result=add(x,y)\n",
    "print(\"the addition of x nd y\",result)"
   ]
  },
  {
   "cell_type": "code",
   "execution_count": 17,
   "id": "e409afdf",
   "metadata": {},
   "outputs": [
    {
     "name": "stdout",
     "output_type": "stream",
     "text": [
      "[2, 6, 78, 6, 22]\n"
     ]
    }
   ],
   "source": [
    "#filter list using lambda function and print even number\n",
    "number=[2,3,5,6,78,9,9,6,3,22]\n",
    "even=list(filter(lambda x:x%2==0,number))\n",
    "print(even)"
   ]
  },
  {
   "cell_type": "code",
   "execution_count": 18,
   "id": "52630783",
   "metadata": {},
   "outputs": [
    {
     "name": "stdout",
     "output_type": "stream",
     "text": [
      "[3, 5, 9, 9, 3]\n"
     ]
    }
   ],
   "source": [
    "#filter list using lambda function and print odd number\n",
    "number=[2,3,5,6,78,9,9,6,3,22]\n",
    "odd=list(filter(lambda x:x%2!=0,number))\n",
    "print(odd)"
   ]
  },
  {
   "cell_type": "markdown",
   "id": "0b3f79cb",
   "metadata": {},
   "source": [
    "1. Write a program to print the Fibonacci series using a function.\n",
    "2. Write a program to print the sum of elements in a list using a function.\n",
    "3. Write a program to check if a key is present in a dictionary using a function.\n",
    "4. Write a program to print a simple pattern using a function."
   ]
  },
  {
   "cell_type": "code",
   "execution_count": 12,
   "id": "3f0dee25",
   "metadata": {},
   "outputs": [
    {
     "name": "stdout",
     "output_type": "stream",
     "text": [
      "enter the total count6\n",
      "the total count [0, 1, 1, 2, 3, 5]\n"
     ]
    }
   ],
   "source": [
    "#Write a program to print the Fibonacci series using a function.\n",
    "def fibonacci(n):\n",
    "    a,b=0,1\n",
    "    fib_series=[a,b]\n",
    "    for _ in range(2,n):\n",
    "        a,b=b,a+b\n",
    "        fib_series.append(b)\n",
    "    return fib_series\n",
    "n=int(input(\"enter the total count\"))\n",
    "print(\"the total count\",fibonacci(n))"
   ]
  },
  {
   "cell_type": "code",
   "execution_count": 2,
   "id": "374acd24",
   "metadata": {},
   "outputs": [
    {
     "name": "stdout",
     "output_type": "stream",
     "text": [
      "enter a number of list with a space 4 2 4 6 \n",
      " sum of elements in the list are: 16\n"
     ]
    }
   ],
   "source": [
    "#Write a program to print the sum of elements in a list using a function.\n",
    "def sum_of_elements(list):\n",
    "    return sum(list)\n",
    "list=input(\"enter a number of list with a space \")\n",
    "list=[int(num) for num in list.split()]\n",
    "print(f\" sum of elements in the list are: {sum_of_elements(list)}\")\n"
   ]
  },
  {
   "cell_type": "code",
   "execution_count": 12,
   "id": "04b43049",
   "metadata": {},
   "outputs": [
    {
     "name": "stdout",
     "output_type": "stream",
     "text": [
      "enter the key to searchsal\n",
      "sal present in the dictionary False\n"
     ]
    }
   ],
   "source": [
    "#Write a program to check if a key is present in a dictionary using a function.\n",
    "def key_is_present(dict,key):\n",
    "    return key in dict\n",
    "\n",
    "search=input(\"enter the key to search\")\n",
    "dict={\"name\": \"ajit\",\n",
    "     \"class\": 12,\n",
    "      \"age\": 24\n",
    "     }\n",
    "print(f\"{search} present in the dictionary {key_is_present(dict,search)}\")"
   ]
  },
  {
   "cell_type": "code",
   "execution_count": 6,
   "id": "1ba6bb14",
   "metadata": {},
   "outputs": [
    {
     "name": "stdout",
     "output_type": "stream",
     "text": [
      "enter any number of rows6\n",
      "\n",
      "*\n",
      "**\n",
      "***\n",
      "****\n",
      "*****\n"
     ]
    }
   ],
   "source": [
    "#Write a program to print a simple pattern using a function.\n",
    "def print_pattern(row):\n",
    "    for i in range(0,row):\n",
    "        print(\"*\" *i)\n",
    "row=int(input(\"enter any number of rows\"))\n",
    "print_pattern(row)"
   ]
  },
  {
   "cell_type": "code",
   "execution_count": 7,
   "id": "eab1385e",
   "metadata": {},
   "outputs": [
    {
     "name": "stdout",
     "output_type": "stream",
     "text": [
      "20\n",
      "10\n"
     ]
    }
   ],
   "source": []
  },
  {
   "cell_type": "code",
   "execution_count": null,
   "id": "c333b45d",
   "metadata": {},
   "outputs": [],
   "source": []
  }
 ],
 "metadata": {
  "kernelspec": {
   "display_name": "Python 3 (ipykernel)",
   "language": "python",
   "name": "python3"
  },
  "language_info": {
   "codemirror_mode": {
    "name": "ipython",
    "version": 3
   },
   "file_extension": ".py",
   "mimetype": "text/x-python",
   "name": "python",
   "nbconvert_exporter": "python",
   "pygments_lexer": "ipython3",
   "version": "3.9.7"
  }
 },
 "nbformat": 4,
 "nbformat_minor": 5
}
