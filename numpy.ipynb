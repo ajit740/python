{
 "cells": [
  {
   "cell_type": "markdown",
   "id": "9efc8821",
   "metadata": {},
   "source": [
    "# what is numpy in python programming"
   ]
  },
  {
   "cell_type": "markdown",
   "id": "de612c27",
   "metadata": {},
   "source": [
    "NumPy is a fundamental library for numerical computing in Python. It provides support for arrays, matrices, and a wide range of mathematical functions to operate on these arrays efficiently.\n",
    "\n",
    "Array Creation: You can create arrays using lists, tuples, or other array-like objects using numpy.array() or specialized functions like numpy.zeros(), numpy.ones(), numpy.arange(), numpy.linspace(), etc.\n",
    "\n",
    "Array Attributes: Arrays have attributes like shape (dimensions), size (total number of elements), data type, etc.\n",
    "\n",
    "Mathematical Operations:\n",
    "NumPy enables element-wise operations, making it easy to perform arithmetic, logical, and statistical operations on arrays without using loops. These operations are often much faster than their pure Python counterparts\n",
    "\n",
    "Array Indexing and Slicing:\n",
    "NumPy supports advanced indexing techniques such as integer array indexing, Boolean indexing, and slicing, allowing for efficient and powerful manipulation of array data.\n",
    "\n",
    " Linear Algebra Operations:\n",
    "NumPy provides various linear algebra functions to perform operations like matrix multiplication, matrix decomposition (e.g., Singular Value Decomposition, LU decomposition), matrix inversion, eigenvalues, etc\n",
    "\n",
    "Why Use NumPy?\n",
    "\n",
    "Performance: NumPy operations are implemented in C, making them much faster than pure Python operations on lists.\n",
    "\n",
    "Memory Efficiency: NumPy arrays use less memory compared to Python lists.\n",
    "\n",
    "Functionality: NumPy provides a wide range of mathematical functions and supports a variety of operations.\n"
   ]
  },
  {
   "cell_type": "markdown",
   "id": "f14338b0",
   "metadata": {},
   "source": [
    "# Creating an array"
   ]
  },
  {
   "cell_type": "code",
   "execution_count": 2,
   "id": "bcaf5611",
   "metadata": {},
   "outputs": [
    {
     "name": "stdout",
     "output_type": "stream",
     "text": [
      "[[1 2 3]\n",
      " [4 5 6]]\n"
     ]
    }
   ],
   "source": [
    "import numpy as np\n",
    "\n",
    "arr = np.array([[1, 2, 3], [4, 5, 6]])\n",
    "print(arr)"
   ]
  },
  {
   "cell_type": "code",
   "execution_count": 3,
   "id": "1843b881",
   "metadata": {},
   "outputs": [
    {
     "name": "stdout",
     "output_type": "stream",
     "text": [
      "Array 1:\n",
      "[[1 2 3]\n",
      " [4 5 6]]\n",
      "Array 2:\n",
      "[[0 1 2]\n",
      " [3 4 5]]\n"
     ]
    }
   ],
   "source": [
    "# Creating arrays\n",
    "arr1 = np.array([[1, 2, 3], [4, 5, 6]])\n",
    "arr2 = np.arange(6).reshape(2, 3)\n",
    "print(\"Array 1:\")\n",
    "print(arr1)\n",
    "print(\"Array 2:\")\n",
    "print(arr2)"
   ]
  },
  {
   "cell_type": "markdown",
   "id": "f221bbb0",
   "metadata": {},
   "source": [
    "# Mathematical operations"
   ]
  },
  {
   "cell_type": "code",
   "execution_count": 4,
   "id": "c87a9055",
   "metadata": {},
   "outputs": [
    {
     "name": "stdout",
     "output_type": "stream",
     "text": [
      "\n",
      "Mathematical Operations:\n",
      "Element-wise addition:\n",
      "[[ 1  3  5]\n",
      " [ 7  9 11]]\n"
     ]
    }
   ],
   "source": [
    "\n",
    "print(\"\\nMathematical Operations:\")\n",
    "print(\"Element-wise addition:\")\n",
    "print(arr1 + arr2)\n",
    "\n",
    "\n"
   ]
  },
  {
   "cell_type": "code",
   "execution_count": 5,
   "id": "30dc9f01",
   "metadata": {},
   "outputs": [
    {
     "name": "stdout",
     "output_type": "stream",
     "text": [
      "Element-wise multiplication:\n",
      "[[ 0  2  6]\n",
      " [12 20 30]]\n"
     ]
    }
   ],
   "source": [
    "print(\"Element-wise multiplication:\")\n",
    "print(arr1 * arr2)"
   ]
  },
  {
   "cell_type": "code",
   "execution_count": 6,
   "id": "868d203c",
   "metadata": {},
   "outputs": [
    {
     "name": "stdout",
     "output_type": "stream",
     "text": [
      "Dot product:\n"
     ]
    },
    {
     "ename": "ValueError",
     "evalue": "shapes (2,3) and (2,3) not aligned: 3 (dim 1) != 2 (dim 0)",
     "output_type": "error",
     "traceback": [
      "\u001b[1;31m---------------------------------------------------------------------------\u001b[0m",
      "\u001b[1;31mValueError\u001b[0m                                Traceback (most recent call last)",
      "\u001b[1;32m~\\AppData\\Local\\Temp/ipykernel_13360/4283080265.py\u001b[0m in \u001b[0;36m<module>\u001b[1;34m\u001b[0m\n\u001b[0;32m      1\u001b[0m \u001b[0mprint\u001b[0m\u001b[1;33m(\u001b[0m\u001b[1;34m\"Dot product:\"\u001b[0m\u001b[1;33m)\u001b[0m\u001b[1;33m\u001b[0m\u001b[1;33m\u001b[0m\u001b[0m\n\u001b[1;32m----> 2\u001b[1;33m \u001b[0mprint\u001b[0m\u001b[1;33m(\u001b[0m\u001b[0mnp\u001b[0m\u001b[1;33m.\u001b[0m\u001b[0mdot\u001b[0m\u001b[1;33m(\u001b[0m\u001b[0marr1\u001b[0m\u001b[1;33m,\u001b[0m \u001b[0marr2\u001b[0m\u001b[1;33m)\u001b[0m\u001b[1;33m)\u001b[0m  \u001b[1;31m# Transpose of arr2 for dot product\u001b[0m\u001b[1;33m\u001b[0m\u001b[1;33m\u001b[0m\u001b[0m\n\u001b[0m",
      "\u001b[1;32m<__array_function__ internals>\u001b[0m in \u001b[0;36mdot\u001b[1;34m(*args, **kwargs)\u001b[0m\n",
      "\u001b[1;31mValueError\u001b[0m: shapes (2,3) and (2,3) not aligned: 3 (dim 1) != 2 (dim 0)"
     ]
    }
   ],
   "source": [
    "print(\"Dot product:\")\n",
    "print(np.dot(arr1, arr2))  # Transpose of arr2 for dot product"
   ]
  },
  {
   "cell_type": "markdown",
   "id": "6d7b9d13",
   "metadata": {},
   "source": [
    "# aggregation opertaions"
   ]
  },
  {
   "cell_type": "code",
   "execution_count": 7,
   "id": "9f0617cd",
   "metadata": {},
   "outputs": [
    {
     "name": "stdout",
     "output_type": "stream",
     "text": [
      "some of array 16\n",
      "mean of array [2.66666667 6.33333333]\n",
      "maximum value in an array1 4\n",
      "standard deviation of array2 2.140872096444188\n"
     ]
    }
   ],
   "source": [
    "# Aggregation functions\n",
    "arr1=([[2,3,2],[3,2,4]])\n",
    "arr2=([[2,4,2],[5,6,8]])\n",
    "print(\"some of array\",np.sum(arr1))  # Sum of all elements in arr1\n",
    "\n",
    "print(\"mean of array\",np.mean(arr2, axis=1))  # Mean along axis 1 of arr2\n",
    "\n",
    "print(\"maximum value in an array1\",np.max(arr1))  # Maximum value in arr1\n",
    "\n",
    "print(\"standard deviation of array2\",np.std(arr2))  # Standard deviation of arr2\n"
   ]
  },
  {
   "cell_type": "code",
   "execution_count": 8,
   "id": "8fdebc4c",
   "metadata": {},
   "outputs": [
    {
     "name": "stdout",
     "output_type": "stream",
     "text": [
      "ModeResult(mode=array([[7, 2, 4]]), count=array([[1, 2, 2]]))\n"
     ]
    }
   ],
   "source": [
    "from scipy import stats\n",
    "arr1=([[7,2,4],[9,2,4]])\n",
    "mode=stats.mode(arr1)\n",
    "print(mode)"
   ]
  },
  {
   "cell_type": "markdown",
   "id": "b66f429b",
   "metadata": {},
   "source": [
    "# slicing operations in numpy"
   ]
  },
  {
   "cell_type": "code",
   "execution_count": 9,
   "id": "0daff761",
   "metadata": {},
   "outputs": [
    {
     "name": "stdout",
     "output_type": "stream",
     "text": [
      "[[2 3]\n",
      " [5 6]]\n"
     ]
    }
   ],
   "source": [
    "arr = np.array([[1, 2, 3], [4, 5, 6], [7, 8, 9]])\n",
    "\n",
    "# Slicing rows and columns\n",
    "print(arr[:2, 1:])  # Slicing the first two rows and the last two columns\n",
    "\n"
   ]
  },
  {
   "cell_type": "markdown",
   "id": "09407193",
   "metadata": {},
   "source": [
    "# linear algebra operation "
   ]
  },
  {
   "cell_type": "code",
   "execution_count": 10,
   "id": "b6e041a5",
   "metadata": {},
   "outputs": [
    {
     "name": "stdout",
     "output_type": "stream",
     "text": [
      "Matrix Multiplication:\n",
      "[[19 22]\n",
      " [43 50]]\n",
      "\n",
      "Matrix Transpose:\n",
      "[[1 3]\n",
      " [2 4]]\n"
     ]
    }
   ],
   "source": [
    "import numpy as np\n",
    "\n",
    "# Matrix multiplication\n",
    "matrix1 = np.array([[1, 2], [3, 4]])\n",
    "matrix2 = np.array([[5, 6], [7, 8]])\n",
    "\n",
    "result_matrix_mul = np.dot(matrix1, matrix2)  # Matrix multiplication\n",
    "print(\"Matrix Multiplication:\")\n",
    "print(result_matrix_mul)\n",
    "\n",
    "# Matrix transpose\n",
    "matrix_transpose = np.transpose(matrix1)  # Transpose of a matrix\n",
    "print(\"\\nMatrix Transpose:\")\n",
    "print(matrix_transpose)\n"
   ]
  },
  {
   "cell_type": "code",
   "execution_count": 11,
   "id": "3047dd65",
   "metadata": {},
   "outputs": [
    {
     "name": "stdout",
     "output_type": "stream",
     "text": [
      "ModeResult(mode=array([[7, 4, 5]]), count=array([[1, 2, 1]]))\n"
     ]
    }
   ],
   "source": [
    "from scipy import stats\n",
    "arr1=([[8,4,5],[7,4,6]])\n",
    "mode_value=stats.mode(arr1)\n",
    "print(mode_value)"
   ]
  },
  {
   "cell_type": "code",
   "execution_count": 12,
   "id": "b364a565",
   "metadata": {},
   "outputs": [
    {
     "name": "stdout",
     "output_type": "stream",
     "text": [
      "ModeResult(mode=array([4]), count=array([2]))\n"
     ]
    }
   ],
   "source": [
    "from scipy import stats\n",
    "import numpy as np\n",
    "\n",
    "arr1 = np.array([[3, 4, 5], [7, 4, 6]])  # Convert to NumPy array\n",
    "flattened_arr1 = arr1.flatten()  # Flatten the array\n",
    "\n",
    "mode_value = stats.mode(flattened_arr1)\n",
    "print(mode_value)\n"
   ]
  },
  {
   "cell_type": "code",
   "execution_count": 13,
   "id": "e160fca8",
   "metadata": {},
   "outputs": [
    {
     "name": "stdout",
     "output_type": "stream",
     "text": [
      "[[3 4]\n",
      " [4 5]\n",
      " [5 7]]\n"
     ]
    }
   ],
   "source": [
    "import numpy as np\n",
    "arr1=([[3,4,5],[4,5,7]])\n",
    "transpose=np.transpose(arr1)\n",
    "print(transpose)"
   ]
  },
  {
   "cell_type": "code",
   "execution_count": 14,
   "id": "d70c4f30",
   "metadata": {},
   "outputs": [
    {
     "name": "stdout",
     "output_type": "stream",
     "text": [
      "[6, 46, 7, 5, 43]\n"
     ]
    }
   ],
   "source": [
    "arr1=([4,5,6,46,7,5,43])\n",
    "slice=arr1[2:7]\n",
    "print(slice)"
   ]
  },
  {
   "cell_type": "code",
   "execution_count": 17,
   "id": "766bc7e2",
   "metadata": {},
   "outputs": [
    {
     "name": "stdout",
     "output_type": "stream",
     "text": [
      " Matrix multiplication [[19 22]\n",
      " [43 50]]\n",
      "Determinant of a matrix -2.0000000000000004\n",
      " Inverse of a matrix [[-4.   3. ]\n",
      " [ 3.5 -2.5]]\n"
     ]
    }
   ],
   "source": [
    "# Matrix operations\n",
    "matrix1 = np.array([[1, 2], [3, 4]])\n",
    "matrix2 = np.array([[5, 6], [7, 8]])\n",
    "\n",
    "matrix_product = np.dot(matrix1, matrix2)  # Matrix multiplication\n",
    "determinant = np.linalg.det(matrix1)  # Determinant of a matrix\n",
    "inverse_matrix = np.linalg.inv(matrix2)  # Inverse of a matrix\n",
    "print(\" Matrix multiplication\",matrix_product)\n",
    "print(\"Determinant of a matrix\",determinant)\n",
    "print(\" Inverse of a matrix\",inverse_matrix)"
   ]
  },
  {
   "cell_type": "code",
   "execution_count": null,
   "id": "03f5b3f0",
   "metadata": {},
   "outputs": [],
   "source": []
  }
 ],
 "metadata": {
  "kernelspec": {
   "display_name": "Python 3 (ipykernel)",
   "language": "python",
   "name": "python3"
  },
  "language_info": {
   "codemirror_mode": {
    "name": "ipython",
    "version": 3
   },
   "file_extension": ".py",
   "mimetype": "text/x-python",
   "name": "python",
   "nbconvert_exporter": "python",
   "pygments_lexer": "ipython3",
   "version": "3.9.7"
  }
 },
 "nbformat": 4,
 "nbformat_minor": 5
}
