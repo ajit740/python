{
 "cells": [
  {
   "cell_type": "markdown",
   "id": "6c2bb1c7",
   "metadata": {},
   "source": [
    "# what is Inheritance"
   ]
  },
  {
   "cell_type": "markdown",
   "id": "17280034",
   "metadata": {},
   "source": [
    "1. Inheritance is a fundamental concept in object-oriented programming (OOP) that allows new classes to be created based on existing classes\n",
    "\n",
    "\n",
    "2. It enables the new class (the subclass or child class) to inherit attributes and behaviors (methods) from another class (the superclass or parent class)."
   ]
  },
  {
   "cell_type": "markdown",
   "id": "e02b6941",
   "metadata": {},
   "source": [
    "# Key Aspects of Inheritance"
   ]
  },
  {
   "cell_type": "markdown",
   "id": "ecd48623",
   "metadata": {},
   "source": [
    "1. Code Reusability: Inheritance promotes code reuse. Instead of rewriting code for similar attributes or methods across multiple classes, common functionalities can be defined in a parent class and reused by multiple child classes.\n",
    "\n",
    "\n",
    "2. Class Hierarchy: Inheritance establishes a hierarchical relationship between classes, creating a tree-like structure where subclasses inherit from their parent classes. A superclass can have multiple subclasses, but each subclass generally has only one immediate superclass.\n",
    "\n",
    "\n",
    "3. Access to Superclass Features: Child classes inherit all non-private attributes and methods (those without a leading double underscore __) from their parent class. This includes variables, methods, and other attributes."
   ]
  },
  {
   "cell_type": "markdown",
   "id": "387823d4",
   "metadata": {},
   "source": [
    "# Types of Inheritance"
   ]
  },
  {
   "cell_type": "markdown",
   "id": "6429b1b4",
   "metadata": {},
   "source": [
    "1. Single Inheritance: A subclass inherits from only one superclass.\n",
    "\n",
    "\n",
    "2. Multiple Inheritance: A subclass inherits from more than one superclass. Python supports this, but it requires careful handling due to potential conflicts and the complexity it introduces.\n",
    "\n",
    "\n",
    "3. Multilevel Inheritance: This occurs when a subclass becomes the superclass for another class, creating a chain of inheritance.\n",
    "\n",
    "\n",
    "4. Hierarchical Inheritance: Multiple subclasses inherit from a single superclass.\n",
    "\n",
    "\n",
    "5. Hybrid Inheritance: This is a combination of multiple types of inheritance. For instance, combining single and multiple inheritance."
   ]
  },
  {
   "cell_type": "markdown",
   "id": "57afdb81",
   "metadata": {},
   "source": [
    "# Access Modifiers"
   ]
  },
  {
   "cell_type": "markdown",
   "id": "c1191e4c",
   "metadata": {},
   "source": [
    "In Python, attributes and methods can have different access levels:\n",
    "\n",
    "1. Public: Accessible from anywhere.\n",
    "\n",
    "\n",
    "2. Protected: Accessible within the class and its subclasses (prefixing an attribute or method with a single underscore _).\n",
    "\n",
    "\n",
    "3. Private: Accessible only within the class (prefixing an attribute or method with a double underscore __)."
   ]
  },
  {
   "cell_type": "code",
   "execution_count": 4,
   "id": "9730754e",
   "metadata": {},
   "outputs": [
    {
     "name": "stdout",
     "output_type": "stream",
     "text": [
      " I am driving a car of  Verna\n",
      " I am driving a bike of  bullet\n"
     ]
    }
   ],
   "source": [
    "class Vehicle:\n",
    "    def __init__(self,brand):\n",
    "        self.brand=brand\n",
    "        \n",
    "#     def drive(self):\n",
    "# pass\n",
    "#         return \"i am driving a car\"\n",
    "    \n",
    "class Car(Vehicle):\n",
    "    def drive(self):\n",
    "        return f\" I am driving a car of  {self.brand}\"\n",
    "\n",
    "    \n",
    "class Bike(Vehicle):\n",
    "    def drive(self):\n",
    "        return (f\" I am driving a bike of  {self.brand}\")\n",
    "    \n",
    "car=Car(\"Verna\")\n",
    "print(car.drive())\n",
    "# print(car.brand)\n",
    "\n",
    "bike=Bike(\"bullet\")\n",
    "print(bike.drive())\n",
    "\n",
    "    \n",
    "    "
   ]
  },
  {
   "cell_type": "code",
   "execution_count": 5,
   "id": "5e32b3d2",
   "metadata": {},
   "outputs": [
    {
     "name": "stdout",
     "output_type": "stream",
     "text": [
      "i am a dog\n",
      "i am a cat \n"
     ]
    }
   ],
   "source": [
    "class Animal:\n",
    "    def __init__(self,name):\n",
    "        self.name=name\n",
    "        \n",
    "#     def sound(self):\n",
    "#         pass\n",
    "\n",
    "class Dog(Animal):\n",
    "    def sound(self):\n",
    "        return \"i am a dog\"\n",
    "\n",
    "\n",
    "class Cat(Animal):\n",
    "    def sound(self):\n",
    "        return \"i am a cat \"\n",
    "       \n",
    "dog=Dog(\"tommy\")\n",
    "print(dog.sound())\n",
    "\n",
    "cat=Cat(\"puppy\")\n",
    "print(cat.sound())"
   ]
  },
  {
   "cell_type": "code",
   "execution_count": 19,
   "id": "4ad1487c",
   "metadata": {},
   "outputs": [
    {
     "name": "stdout",
     "output_type": "stream",
     "text": [
      "ajit\n",
      "20\n"
     ]
    }
   ],
   "source": [
    "class Parent:\n",
    "    def __init__(self,name):\n",
    "        self.name=name\n",
    "        \n",
    "class Child(Parent):\n",
    "    def __init__(self,name,age):\n",
    "        super().__init__(name)\n",
    "        self.age=age\n",
    "child=Child(\"ajit\",20)\n",
    "print(child.name)\n",
    "print(child.age)\n",
    "        "
   ]
  },
  {
   "cell_type": "code",
   "execution_count": 25,
   "id": "99086510",
   "metadata": {},
   "outputs": [
    {
     "name": "stdout",
     "output_type": "stream",
     "text": [
      "<class '__main__.Employee'>\n",
      " Name: akash salary: 30000 department: Hr \n"
     ]
    }
   ],
   "source": [
    "class Employee:\n",
    "    def __init__(self,name,salary):\n",
    "        self.name=name\n",
    "        self.salary=salary\n",
    "        \n",
    "    def display(self):\n",
    "        pass\n",
    "        return f\" Name: {self.name} salary: {self.salary}\"\n",
    "    \n",
    "class Manager(Employee):\n",
    "    def __init__(self,name,salary,dept):\n",
    "        super().__init__(name,salary)\n",
    "        self.dept=dept\n",
    "        \n",
    "    def display(self):\n",
    "        return f\" Name: {self.name} salary: {self.salary} department: {self.dept} \"\n",
    "    \n",
    "employee=Employee(\"ajit\",50000)\n",
    "print(employee)\n",
    "\n",
    "manager=Manager(\"akash\",30000,\"Hr\")\n",
    "print(manager.display())"
   ]
  },
  {
   "cell_type": "markdown",
   "id": "7001cf92",
   "metadata": {},
   "source": [
    "# Access modifier examples"
   ]
  },
  {
   "cell_type": "code",
   "execution_count": 12,
   "id": "73392fa5",
   "metadata": {},
   "outputs": [
    {
     "name": "stdout",
     "output_type": "stream",
     "text": [
      "100\n",
      "my name is ajit\n"
     ]
    }
   ],
   "source": [
    "#Public\n",
    "class My_class:\n",
    "    def __init__(self):\n",
    "        self.public_var=100\n",
    "        \n",
    "    def public(self):\n",
    "        return \"my name is ajit\"\n",
    "    \n",
    "obj=My_class()\n",
    "print(obj.public_var)\n",
    "print(obj.public())\n"
   ]
  },
  {
   "cell_type": "code",
   "execution_count": 16,
   "id": "9d7e4ec3",
   "metadata": {},
   "outputs": [
    {
     "ename": "AttributeError",
     "evalue": "'My_class' object has no attribute '__private'",
     "output_type": "error",
     "traceback": [
      "\u001b[1;31m---------------------------------------------------------------------------\u001b[0m",
      "\u001b[1;31mAttributeError\u001b[0m                            Traceback (most recent call last)",
      "\u001b[1;32m~\\AppData\\Local\\Temp/ipykernel_2340/3074931859.py\u001b[0m in \u001b[0;36m<module>\u001b[1;34m\u001b[0m\n\u001b[0;32m      7\u001b[0m \u001b[1;33m\u001b[0m\u001b[0m\n\u001b[0;32m      8\u001b[0m \u001b[0mobj\u001b[0m\u001b[1;33m=\u001b[0m\u001b[0mMy_class\u001b[0m\u001b[1;33m(\u001b[0m\u001b[1;33m)\u001b[0m\u001b[1;33m\u001b[0m\u001b[1;33m\u001b[0m\u001b[0m\n\u001b[1;32m----> 9\u001b[1;33m \u001b[0mprint\u001b[0m\u001b[1;33m(\u001b[0m\u001b[0mobj\u001b[0m\u001b[1;33m.\u001b[0m\u001b[0m__private\u001b[0m\u001b[1;33m)\u001b[0m\u001b[1;33m\u001b[0m\u001b[1;33m\u001b[0m\u001b[0m\n\u001b[0m",
      "\u001b[1;31mAttributeError\u001b[0m: 'My_class' object has no attribute '__private'"
     ]
    }
   ],
   "source": [
    "class My_class:\n",
    "    def __init__(self):\n",
    "        self.__private=100\n",
    "        \n",
    "    def private_method(self):\n",
    "        return \"my name is ajit \"\n",
    "    \n",
    "obj=My_class()\n",
    "print(obj.__private)"
   ]
  },
  {
   "cell_type": "code",
   "execution_count": 23,
   "id": "d1bb7a60",
   "metadata": {},
   "outputs": [
    {
     "name": "stdout",
     "output_type": "stream",
     "text": [
      "100\n",
      "my name is ajit \n"
     ]
    }
   ],
   "source": [
    "#private\n",
    "class My_class:\n",
    "    def __init__(self):\n",
    "        self.__private=100\n",
    "        \n",
    "    def __private_method(self):\n",
    "        return \"my name is ajit \"\n",
    "    \n",
    "obj=My_class()\n",
    "print(obj._My_class__private)\n",
    "print(obj._My_class__private_method())"
   ]
  },
  {
   "cell_type": "code",
   "execution_count": 8,
   "id": "6b94b892",
   "metadata": {},
   "outputs": [
    {
     "name": "stdout",
     "output_type": "stream",
     "text": [
      "100\n",
      "i am from sonipat\n"
     ]
    }
   ],
   "source": [
    "class My_class:\n",
    "    def __init__(self):\n",
    "        self._protected=100\n",
    "        \n",
    "    def _protected_method(self):\n",
    "        return \"i am from sonipat\"\n",
    "    \n",
    "class subclass(My_class):\n",
    "    def display(self):\n",
    "        return self._protected\n",
    "    \n",
    "obj=subclass()\n",
    "# print(obj._protected)\n",
    "# print(obj._protected_method())\n",
    "print(obj.display())\n",
    "print(obj._protected_method())"
   ]
  },
  {
   "cell_type": "code",
   "execution_count": 6,
   "id": "57fed1c5",
   "metadata": {},
   "outputs": [
    {
     "name": "stdout",
     "output_type": "stream",
     "text": [
      "enter your account number 1293455\n",
      "enter your initial balance 1500\n",
      "please set your ATM pin 12345\n",
      "your account details are : 1293455\n",
      "enter your amount to deposite 1000\n",
      "deposited amount 1000.0 and new amount=2500.0\n",
      "enter amount to withdraw 5000\n",
      "your account balance is too low please add some money \n"
     ]
    }
   ],
   "source": [
    "class Bank_account:\n",
    "    def __init__(self,account_nbr,balance):\n",
    "        self.account_nbr=account_nbr#public\n",
    "        self._balance=balance#protected\n",
    "        self.__pin=pin#private\n",
    "        \n",
    "    def deposite(self,amount):\n",
    "        self._balance+=amount\n",
    "        print(f\"deposited amount {amount} and new amount={self._balance}\")\n",
    "        \n",
    "    def withdraw(self,amount,pin):\n",
    "        if pin==self.__pin:\n",
    "            if amount<=self._balance:\n",
    "                self._balance-=amount\n",
    "                print(f\"the withdrawal amount= {amount} and new amount= {self._balance}\")\n",
    "            else:\n",
    "                print(\"your account balance is too low please add some money \")\n",
    "        else:\n",
    "            print(\"wrong atm pin please check again\")\n",
    "            \n",
    "\n",
    "account_nbr=int(input(\"enter your account number \"))\n",
    "balance=float(input(\"enter your initial balance \"))\n",
    "pin=int(input (\"please set your ATM pin \"))\n",
    "\n",
    "account=Bank_account(account_nbr,balance)\n",
    "print(f\"your account details are : {account_nbr}\")\n",
    "\n",
    "deposite_amount=float(input(\"enter your amount to deposite \"))\n",
    "account.deposite(deposite_amount)\n",
    "\n",
    "withdraw_amount=float(input(\"enter amount to withdraw \"))\n",
    "account.withdraw(withdraw_amount,pin)\n",
    "\n",
    "            \n",
    "        \n",
    "        "
   ]
  },
  {
   "cell_type": "markdown",
   "id": "9109043f",
   "metadata": {},
   "source": [
    "# single level inheritance"
   ]
  },
  {
   "cell_type": "code",
   "execution_count": 1,
   "id": "50c001c2",
   "metadata": {},
   "outputs": [
    {
     "name": "stdout",
     "output_type": "stream",
     "text": [
      "hello how are you\n",
      "i am a fog\n"
     ]
    }
   ],
   "source": [
    "class Animal:\n",
    "    def hello(self):\n",
    "        print(\"hello how are you\")\n",
    "        \n",
    "class Dog(Animal):\n",
    "    def hi(self):\n",
    "        print(\"i am a fog\")\n",
    "        \n",
    "dog=Dog()\n",
    "dog.hello()\n",
    "dog.hi()"
   ]
  },
  {
   "cell_type": "markdown",
   "id": "e84343f9",
   "metadata": {},
   "source": [
    "# multiple inheritance"
   ]
  },
  {
   "cell_type": "code",
   "execution_count": 7,
   "id": "c2955a42",
   "metadata": {},
   "outputs": [
    {
     "name": "stdout",
     "output_type": "stream",
     "text": [
      "a am mother\n",
      "i am a child\n"
     ]
    }
   ],
   "source": [
    "class Father:\n",
    "    def skills(self):\n",
    "        print(\"i am father\")\n",
    "\n",
    "class Mother:\n",
    "    def Knowledge(self):\n",
    "        print(\"a am mother\")\n",
    "        \n",
    "class Child(Father,Mother):\n",
    "    def hobbies(self):\n",
    "        print(\"i am a child\")\n",
    "\n",
    "child=Child()\n",
    "# child.skills()\n",
    "child.Knowledge()\n",
    "child.hobbies()"
   ]
  },
  {
   "cell_type": "markdown",
   "id": "bd99aa48",
   "metadata": {},
   "source": [
    "# multilevel inheritance\n"
   ]
  },
  {
   "cell_type": "code",
   "execution_count": 11,
   "id": "1883c8cc",
   "metadata": {},
   "outputs": [
    {
     "name": "stdout",
     "output_type": "stream",
     "text": [
      "i am ajit \n",
      "i am a father\n",
      "i am child\n"
     ]
    }
   ],
   "source": [
    "class Grandfather:\n",
    "    def display(self):\n",
    "        print(\"i am ajit \")\n",
    "        \n",
    "class Father(Grandfather):\n",
    "    def show(self):\n",
    "        print(\"i am a father\")\n",
    "        \n",
    "class Child(Father):\n",
    "    def hello(self):\n",
    "        print(\"i am child\")\n",
    "        \n",
    "child=Child()\n",
    "child.display()\n",
    "child.show()\n",
    "child.hello()"
   ]
  },
  {
   "cell_type": "markdown",
   "id": "94b3fb6c",
   "metadata": {},
   "source": [
    "# hierarchical inheritance"
   ]
  },
  {
   "cell_type": "code",
   "execution_count": 16,
   "id": "f2c40762",
   "metadata": {},
   "outputs": [
    {
     "name": "stdout",
     "output_type": "stream",
     "text": [
      "i am a child 2\n",
      "i am child3\n"
     ]
    }
   ],
   "source": [
    "class Parents:\n",
    "    def child1(self):\n",
    "        print(\"i am child 1\")\n",
    "        \n",
    "class Child1(Parents):\n",
    "    def child2(self):\n",
    "        print(\"i am a child 2\")\n",
    "        \n",
    "class Child2(Child1):\n",
    "    def child3(self):\n",
    "        print(\"i am child3\")\n",
    "        \n",
    "        \n",
    "child=Child2()\n",
    "child.child2()\n",
    "child.child3()"
   ]
  },
  {
   "cell_type": "code",
   "execution_count": 17,
   "id": "57765bb2",
   "metadata": {},
   "outputs": [
    {
     "name": "stdout",
     "output_type": "stream",
     "text": [
      "animal is eating\n",
      "hello how are you\n",
      "animal is eating\n",
      "hi how are you\n"
     ]
    }
   ],
   "source": [
    "class Animal:\n",
    "    def eat(self):\n",
    "        print(\"animal is eating\")\n",
    "        \n",
    "class Dog(Animal):\n",
    "    def Hello(self):\n",
    "        print(\"hello how are you\")\n",
    "        \n",
    "class Cat(Animal):\n",
    "    def Hi(self):\n",
    "        print(\"hi how are you\")\n",
    "        \n",
    "dog=Dog()\n",
    "dog.eat()\n",
    "dog.Hello()\n",
    "\n",
    "\n",
    "cat=Cat()\n",
    "cat.eat()\n",
    "cat.Hi()\n",
    "\n"
   ]
  },
  {
   "cell_type": "code",
   "execution_count": null,
   "id": "bc440a51",
   "metadata": {},
   "outputs": [],
   "source": []
  }
 ],
 "metadata": {
  "kernelspec": {
   "display_name": "Python 3 (ipykernel)",
   "language": "python",
   "name": "python3"
  },
  "language_info": {
   "codemirror_mode": {
    "name": "ipython",
    "version": 3
   },
   "file_extension": ".py",
   "mimetype": "text/x-python",
   "name": "python",
   "nbconvert_exporter": "python",
   "pygments_lexer": "ipython3",
   "version": "3.9.7"
  }
 },
 "nbformat": 4,
 "nbformat_minor": 5
}
