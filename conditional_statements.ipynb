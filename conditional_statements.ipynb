{
 "cells": [
  {
   "cell_type": "markdown",
   "id": "d25a139b",
   "metadata": {},
   "source": [
    "# Explain conditional statements\n",
    "\n"
   ]
  },
  {
   "cell_type": "markdown",
   "id": "87a60c92",
   "metadata": {},
   "source": [
    "1. Conditional statements in Python are used to control the flow of a program based on certain conditions. \n",
    "\n",
    "2. They allow you to execute different blocks of code depending on whether a specified condition evaluates to True or False.\n",
    "\n",
    "3. The primary conditional statements in Python are if, elif (short for \"else if\"), and else."
   ]
  },
  {
   "cell_type": "markdown",
   "id": "523fb6b3",
   "metadata": {},
   "source": [
    "# Types:"
   ]
  },
  {
   "cell_type": "markdown",
   "id": "0dc08c3d",
   "metadata": {},
   "source": [
    "1. if Statement:\n",
    "   The if statement is used to execute a block of code only if a specified condition is true.\n",
    "\n",
    "\n",
    "2. if-else Statement:\n",
    "   The if-else statement extends the if statement by providing an alternative block of code to  n    execute when the condition is fals\n",
    "\n",
    "\n",
    "3. if-elif-else Statement:\n",
    "   The if-elif-else statement allows you to check multiple conditions in sequence. If the first      condition is false, it moves on to the next elif (else if) condition, and so on. The else        block is executed if none of the conditions is true.\n",
    "\n",
    "\n",
    "4. Nested Conditional Statements:\n",
    "   You can also nest conditional statements within each other to handle more complex logic."
   ]
  },
  {
   "cell_type": "code",
   "execution_count": 1,
   "id": "73d350bf",
   "metadata": {},
   "outputs": [
    {
     "name": "stdout",
     "output_type": "stream",
     "text": [
      "b is greater\n"
     ]
    }
   ],
   "source": [
    "#wap to print which number is greater \n",
    "a=10\n",
    "b=20\n",
    "if(a>b):\n",
    "    print(\"a is greater\")\n",
    "else:\n",
    "    print(\"b is greater\")"
   ]
  },
  {
   "cell_type": "code",
   "execution_count": 3,
   "id": "c2890cb1",
   "metadata": {},
   "outputs": [
    {
     "name": "stdout",
     "output_type": "stream",
     "text": [
      "enter any number5\n",
      "number is odd\n"
     ]
    }
   ],
   "source": [
    "#wap to print even or odd number\n",
    "number=int(input(\"enter any number\"))\n",
    "if(number%2==0):\n",
    "    print(\"number is even number \")\n",
    "else:\n",
    "    print(\"number is odd\")"
   ]
  },
  {
   "cell_type": "code",
   "execution_count": 5,
   "id": "87dd0f97",
   "metadata": {},
   "outputs": [
    {
     "name": "stdout",
     "output_type": "stream",
     "text": [
      "enter any number6\n",
      "number is positive \n"
     ]
    }
   ],
   "source": [
    "#wap to print number is positive or negative \n",
    "number=int(input(\"enter any number\"))\n",
    "if(number>0):\n",
    "    print(\"number is positive \")\n",
    "else:\n",
    "    print(\"number is negative\")"
   ]
  },
  {
   "cell_type": "code",
   "execution_count": 7,
   "id": "35371155",
   "metadata": {},
   "outputs": [
    {
     "name": "stdout",
     "output_type": "stream",
     "text": [
      "enter any number0\n",
      "number is zero\n"
     ]
    }
   ],
   "source": [
    "#wap to print number is positive negative and zero\n",
    "number=int(input(\"enter any number\"))\n",
    "if(number>0):\n",
    "    print(\"number is positive \")\n",
    "elif(number<0):\n",
    "    print(\"number is negative\")\n",
    "else:\n",
    "    print(\"number is zero\")"
   ]
  },
  {
   "cell_type": "code",
   "execution_count": 12,
   "id": "ec116c5a",
   "metadata": {},
   "outputs": [
    {
     "name": "stdout",
     "output_type": "stream",
     "text": [
      "enter your marks87\n",
      "you are in B grade\n"
     ]
    }
   ],
   "source": [
    "#wap to print grade according to your marks \n",
    "# marks>90---->A grade\n",
    "# marks>80---->B grade\n",
    "# marks>70---->C grade\n",
    "# marks>60---->D grade\n",
    "# other fail\n",
    "\n",
    "marks=int(input(\"enter your marks\"))\n",
    "if(marks>=90):\n",
    "    print(\"you are in A grade\")\n",
    "elif(marks>=80):\n",
    "    print(\"you are in B grade\")\n",
    "elif(marks>=70):\n",
    "    print(\"you are in C grade\")\n",
    "elif(marks>=60):\n",
    "    print(\"you are in D grade\")\n",
    "else:\n",
    "    print(\"sorry you are fail try again \")"
   ]
  },
  {
   "cell_type": "code",
   "execution_count": 19,
   "id": "76a5e24c",
   "metadata": {},
   "outputs": [
    {
     "name": "stdout",
     "output_type": "stream",
     "text": [
      "enter the value of a10\n",
      "enter the value of b10\n",
      "enter the value of c10\n",
      "you have enter same numbers\n"
     ]
    }
   ],
   "source": [
    "#wap to print which value is greater \n",
    "a=int(input('enter the value of a'))\n",
    "b=int(input('enter the value of b'))\n",
    "c=int(input('enter the value of c'))\n",
    "if(a>b and a>c):\n",
    "    #print(\"A is greater\")\n",
    "    print(f\"A is greater{a}\")\n",
    "elif(b>a and b>c):\n",
    "    print(\"B is greater\",b)\n",
    "elif(c>a and c>b):\n",
    "    print(\"C is greater\")\n",
    "else:\n",
    "    print(\"you have enter same numbers\")\n"
   ]
  },
  {
   "cell_type": "code",
   "execution_count": 2,
   "id": "dc28e460",
   "metadata": {},
   "outputs": [
    {
     "name": "stdout",
     "output_type": "stream",
     "text": [
      "enter your user nameajit\n",
      "enter your password 12345\n",
      "invalid login\n"
     ]
    }
   ],
   "source": [
    "#wap to check login and password \n",
    "username=input(\"enter your user name\")\n",
    "password=input(\"enter your password \")\n",
    "if username==\"ajit\" and password==\"1234\":\n",
    "    print(\"login successfully\")\n",
    "else:\n",
    "    print(\"invalid login\")"
   ]
  },
  {
   "cell_type": "code",
   "execution_count": 9,
   "id": "e7f75f47",
   "metadata": {},
   "outputs": [
    {
     "name": "stdout",
     "output_type": "stream",
     "text": [
      "20\n",
      "10\n"
     ]
    }
   ],
   "source": [
    "#wap to swap two values wiithout using third varible\n",
    "\n",
    "a=10\n",
    "b=20\n",
    "a,b=b,a\n",
    "print(a)\n",
    "print(b)\n"
   ]
  },
  {
   "cell_type": "code",
   "execution_count": null,
   "id": "f44441ac",
   "metadata": {},
   "outputs": [
    {
     "name": "stdout",
     "output_type": "stream",
     "text": [
      "enter the value of number175\n",
      "enter the value of number354\n",
      "enter the operation you want to perform  +,-,*,/-\n",
      "subtration of number1 and number2 =  21.0\n",
      "do you want to repeat ans yes or noYES\n"
     ]
    }
   ],
   "source": [
    "#wap to print calculator using conditional statements \n",
    "while True:\n",
    "    number1=float(input(\"enter the value of number1\"))\n",
    "    number2=float(input(\"enter the value of number3\"))\n",
    "    op=input(\"enter the operation you want to perform  +,-,*,/\")\n",
    "    if(op=='+'):\n",
    "        result=number1+number2\n",
    "        print(\"addition of number1 and number2= \",result)\n",
    "    elif(op=='-'):\n",
    "        result=number1-number2\n",
    "        print(\"subtration of number1 and number2 = \",result)\n",
    "    elif(op=='*'):\n",
    "        result=number1*number2\n",
    "        print(\"multiplication  of number1 and number2=  \",result)\n",
    "    elif(op=='/'):\n",
    "        if(number2==0):\n",
    "            print(\"division is not possible by zero\")\n",
    "        else:\n",
    "            result=number1/number2\n",
    "            print(\"division of number1 and number2 =\",result)\n",
    "    else:\n",
    "        print(\"invalid operation\")\n",
    "    repeat=input(\"do you want to repeat ans yes or no\")\n",
    "    if(repeat.lower()!=\"yes\"):\n",
    "        break"
   ]
  },
  {
   "cell_type": "markdown",
   "id": "22cbeb4e",
   "metadata": {},
   "source": [
    "# wap to calculate discount on your perchase by considering the following conditions. If you perchase a amount of 5000 rupess you are not elegible for any type of discount and if the total perchase amount is >5000 and less then 10000 then there will be a discount of 10% and if you perchase amount>10000 and less then 15000 then you got a 15% discount and if you perchase a tottal of 20000 rupes you are elegible for 20% discount"
   ]
  },
  {
   "cell_type": "code",
   "execution_count": 6,
   "id": "ff7e2c8e",
   "metadata": {},
   "outputs": [
    {
     "name": "stdout",
     "output_type": "stream",
     "text": [
      "enter your total amount of perchase12000\n",
      "you are elegible for 15% of discount\n",
      "the total discounted amount= 1800.0\n",
      "THE NEW amount after discount of 15% 10200.0\n"
     ]
    }
   ],
   "source": [
    "# total_perchase-----5000---no discount\n",
    "# total_perchase----->5000 and less 10000---->10%\n",
    "# total_perchase-----10000 and less 15000-----15%\n",
    "# total_perchase-----20000 and so on ----20%\n",
    "amount=int(input(\"enter your total amount of perchase\"))\n",
    "if(amount<=5000):\n",
    "    print(\"you are not elegible for any discount\")\n",
    "elif(amount>5000 and amount<10000):\n",
    "    print(\"you are elegible for 10% of discount\")\n",
    "    discount=amount*0.10\n",
    "    print(\"the total discounted amount=\",discount)\n",
    "    new_amount=amount-discount\n",
    "    print(\"THE NEW amount after discount of 10%\",new_amount)\n",
    "elif(amount>10000 and amount<15000):\n",
    "    print(\"you are elegible for 15% of discount\")\n",
    "    discount=amount*0.15\n",
    "    print(\"the total discounted amount=\",discount)\n",
    "    new_amount=amount-discount\n",
    "    print(\"THE NEW amount after discount of 15%\",new_amount)\n",
    "elif(amount>=15000 and amount<20000):\n",
    "    print(\"you are elegible for 20% of discount\")\n",
    "    discount=amount*0.20\n",
    "    print(\"the total discounted amount=\",discount)\n",
    "    new_amount=amount-discount\n",
    "    print(\"THE NEW amount after discount of 20%\",new_amount)\n",
    "else:\n",
    "    print(\"you are elegible for 22% of discount\")\n",
    "    discount=amount*0.22\n",
    "    print(\"the total discounted amount=\",discount)\n",
    "    new_amount=amount-discount\n",
    "    print(\"THE NEW amount after discount of 20%\",new_amount)\n",
    "    "
   ]
  },
  {
   "cell_type": "markdown",
   "id": "afb6fda7",
   "metadata": {},
   "source": [
    "# wap to calculate cost of a furniture which is sold on sunday with a heavy discount on sunday of 15% but on other day there will be a charge of 10% calculate the final cost"
   ]
  },
  {
   "cell_type": "code",
   "execution_count": 9,
   "id": "c26023e2",
   "metadata": {},
   "outputs": [
    {
     "name": "stdout",
     "output_type": "stream",
     "text": [
      "enter your day sunday\n",
      "enter your total perchase amount26464\n",
      "you got a discount of 15%\n",
      "the discounted amount = 3969.6\n",
      "the new discounted amount= 22494.4\n"
     ]
    }
   ],
   "source": [
    "day=input(\"enter your day \")\n",
    "perchase_amount=int(input(\"enter your total perchase amount\"))\n",
    "if(day=='sunday'):\n",
    "    print(\"you got a discount of 15%\")\n",
    "    discount=perchase_amount*0.15\n",
    "    print(\"the discounted amount =\",discount)\n",
    "    new_amount=perchase_amount-discount\n",
    "    print(\"the new discounted amount=\",new_amount)\n",
    "else:\n",
    "    print(\"you have to pay a charge of 10%\")\n",
    "    charge=perchase_amount*0.10\n",
    "    print(\"the total 15% charge= \",charge)\n",
    "    new_amount=perchase_amount+charge\n",
    "    print(\"the total amount after 10% charge\",new_amount)\n",
    "    "
   ]
  },
  {
   "cell_type": "markdown",
   "id": "645cc2f3",
   "metadata": {},
   "source": [
    "# wap to calculate no of leave of an employ if the leaves <=5 in  year then give a bonus of 15% and if the leaves are more the 10 then deduct his salary by 20%"
   ]
  },
  {
   "cell_type": "code",
   "execution_count": 15,
   "id": "9340a0cc",
   "metadata": {},
   "outputs": [
    {
     "name": "stdout",
     "output_type": "stream",
     "text": [
      "enter your total annual leaves 12\n",
      "enter your salary36464\n",
      "you will be charge a tax of 10%\n",
      "the total deducted amount 3646.4\n",
      "salry after deduction 32817.6\n"
     ]
    }
   ],
   "source": [
    "leaves=int(input(\"enter your total annual leaves \"))\n",
    "salary=int(input(\"enter your salary\"))\n",
    "if(leaves<=5):\n",
    "    print(\"you got a bonus of 15%\")\n",
    "    bonus=salary*0.15\n",
    "    print(\"the total bonus amount\",bonus)\n",
    "    new_salary=salary+bonus\n",
    "    print(\"salry after bonus\",new_salary)\n",
    "elif(leaves>=10):\n",
    "    print(\"you will be charge a tax of 10%\")\n",
    "    deduct=salary*0.10\n",
    "    print(\"the total deducted amount\",deduct)\n",
    "    new_salary=salary-deduct\n",
    "    print(\"salry after deduction\",new_salary)\n",
    "else:\n",
    "    print(\"you got nothing! please try again later\")\n"
   ]
  },
  {
   "cell_type": "code",
   "execution_count": null,
   "id": "bc384bf1",
   "metadata": {},
   "outputs": [],
   "source": []
  }
 ],
 "metadata": {
  "kernelspec": {
   "display_name": "Python 3 (ipykernel)",
   "language": "python",
   "name": "python3"
  },
  "language_info": {
   "codemirror_mode": {
    "name": "ipython",
    "version": 3
   },
   "file_extension": ".py",
   "mimetype": "text/x-python",
   "name": "python",
   "nbconvert_exporter": "python",
   "pygments_lexer": "ipython3",
   "version": "3.9.7"
  }
 },
 "nbformat": 4,
 "nbformat_minor": 5
}
