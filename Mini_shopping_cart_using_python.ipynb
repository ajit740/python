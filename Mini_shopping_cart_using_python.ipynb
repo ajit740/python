{
 "cells": [
  {
   "cell_type": "code",
   "execution_count": 1,
   "id": "cb94ef80",
   "metadata": {},
   "outputs": [
    {
     "name": "stdout",
     "output_type": "stream",
     "text": [
      "what do you want to do. (Add or remove---or Quit). add\n",
      "please give name of your item sugar, bread, rubber, rice, colddrink\n",
      "Quantity: 4kg\n",
      "what do you want to do. (Add or remove---or Quit). add\n",
      "please give name of your item milk\n",
      "Quantity: 4kg\n",
      "what do you want to do. (Add or remove---or Quit). remove\n",
      "remove your data iem?: [y/n] y\n",
      "Your list has been removed.\n",
      "{}\n",
      "what do you want to do. (Add or remove---or Quit). quite\n",
      "wrong choice please choose from given \"(Add or remove/Quit)\"\n",
      "what do you want to do. (Add or remove---or Quit). quit\n",
      "{}\n"
     ]
    },
    {
     "data": {
      "text/plain": [
       "{}"
      ]
     },
     "execution_count": 1,
     "metadata": {},
     "output_type": "execute_result"
    }
   ],
   "source": [
    "def quantity():\n",
    "     name = input(\"Quantity: \")\n",
    "     return name\n",
    "def Add():\n",
    "     add = input(\"please give name of your item \")\n",
    "     return add\n",
    "def details():\n",
    "     data = {}\n",
    "\n",
    "     while True:\n",
    "         result = input(\"what do you want to do. (Add or remove---or Quit). \")\n",
    "\n",
    "         if result.lower() == 'add':\n",
    "             data[quantity()] = Add()                     \n",
    "\n",
    "         elif result.lower() == 'remove':\n",
    "             dLi = input(\"remove your data iem?: [y/n] \").lower()\n",
    "             if dLi in [\"y\", \"yes\"]:\n",
    "                 data = {}\n",
    "                 print(\"Your list has been removed.\")\n",
    "                 print(data)\n",
    "             elif dLi in [\"n\", \"no\"]:\n",
    "                 print(\"failed.\")\n",
    "         elif result.lower() == 'quit':\n",
    "             break\n",
    "         else:\n",
    "             print('wrong choice please choose from given \"(Add or remove/Quit)\"')\n",
    "     print(data)\n",
    "     return data\n",
    "\n",
    "details()"
   ]
  },
  {
   "cell_type": "code",
   "execution_count": null,
   "id": "12aa151d",
   "metadata": {},
   "outputs": [],
   "source": []
  }
 ],
 "metadata": {
  "kernelspec": {
   "display_name": "Python 3 (ipykernel)",
   "language": "python",
   "name": "python3"
  },
  "language_info": {
   "codemirror_mode": {
    "name": "ipython",
    "version": 3
   },
   "file_extension": ".py",
   "mimetype": "text/x-python",
   "name": "python",
   "nbconvert_exporter": "python",
   "pygments_lexer": "ipython3",
   "version": "3.9.7"
  }
 },
 "nbformat": 4,
 "nbformat_minor": 5
}
