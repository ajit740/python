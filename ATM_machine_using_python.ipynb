{
 "cells": [
  {
   "cell_type": "markdown",
   "id": "cd7f1488",
   "metadata": {},
   "source": [
    "# Make a ATM machine using python programming\n"
   ]
  },
  {
   "cell_type": "code",
   "execution_count": 11,
   "id": "92c789e7",
   "metadata": {},
   "outputs": [
    {
     "name": "stdout",
     "output_type": "stream",
     "text": [
      "Hello ! welcome to the ATM machine\n",
      "enter your account number 982332323\n",
      "enter you atm pin1234\n",
      "enter correct account number and pin\n"
     ]
    }
   ],
   "source": [
    "account_number=[8053856536,982332323,8595849485,475857438,758574847]\n",
    "pin=[1234,5454,5677,3434,5467]\n",
    "account_balance=[1000,2000,3000,4000,5000]\n",
    "\n",
    "#print a hello msg\n",
    "print(\"Hello ! welcome to the ATM machine\")\n",
    "enter_account_number=int(input(\"enter your account number \"))\n",
    "enter_pin=int(input(\"enter you atm pin\"))\n",
    "\n",
    "if enter_account_number in account_number and enter_pin ==pin[account_number.index(enter_account_number)]:\n",
    "    account_index=account_number.index(enter_account_number)\n",
    "    \n",
    "    #diplay menu\n",
    "    print(\"\\n menu options\")\n",
    "    print(\"1. withdraw\")\n",
    "    print(\"2. deposite\")\n",
    "    print(\"3. check balance\")\n",
    "    \n",
    "    \n",
    "    choice=int(input(\"enter the operation you want to perform 1,2,3,4\"))\n",
    "    if choice==1:\n",
    "        withdraw_amount=float(input(\"enter the amount for withdraw \"))\n",
    "        if withdraw_amount<=account_balance[account_index]:\n",
    "            account_balance[account_index]-=withdraw_amount\n",
    "            print(\"transaction successfull \")\n",
    "        else:\n",
    "            print(\"insufficent balance please add some amount first\")\n",
    "    elif choice==2:\n",
    "        deposite_amount=float(input(\"enter total amount to deposite\"))\n",
    "        if deposite_amount>0:\n",
    "            account_balance[account_index]+=deposite_amount\n",
    "            print(\"deposite successfully\")\n",
    "        else:\n",
    "            print(\"invalid deposite\")\n",
    "            \n",
    "    elif choice==3:\n",
    "        print(\"account_balance: \",account_balance[account_index])\n",
    "    else:\n",
    "            print(\"invalid choice please select a valid option\" )\n",
    "        \n",
    "        \n",
    "    print(\"\\n account details\")\n",
    "    print(\"account number \",account_number[account_index])\n",
    "    print(\"account balance \", account_balance[account_index])\n",
    "\n",
    "else:\n",
    "    \n",
    "    print(\"enter correct account number and pin\")\n",
    "        \n",
    "    \n",
    "    \n"
   ]
  },
  {
   "cell_type": "code",
   "execution_count": null,
   "id": "b3f3a65d",
   "metadata": {},
   "outputs": [],
   "source": []
  }
 ],
 "metadata": {
  "kernelspec": {
   "display_name": "Python 3 (ipykernel)",
   "language": "python",
   "name": "python3"
  },
  "language_info": {
   "codemirror_mode": {
    "name": "ipython",
    "version": 3
   },
   "file_extension": ".py",
   "mimetype": "text/x-python",
   "name": "python",
   "nbconvert_exporter": "python",
   "pygments_lexer": "ipython3",
   "version": "3.9.7"
  }
 },
 "nbformat": 4,
 "nbformat_minor": 5
}
