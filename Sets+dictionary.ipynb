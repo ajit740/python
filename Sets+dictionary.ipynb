{
 "cells": [
  {
   "cell_type": "markdown",
   "id": "bc0bf216",
   "metadata": {},
   "source": [
    "# explain sets in python "
   ]
  },
  {
   "cell_type": "markdown",
   "id": "16362e60",
   "metadata": {},
   "source": [
    "1. A set is a built-in data type that represents an unordered collection of unique elements. The primary characteristics of sets in Python are:\n",
    "\n",
    "\n",
    "- Uniqueness: A set cannot contain duplicate elements. If you try to add an element that is already present, the set will not change.\n",
    "\n",
    "\n",
    "- Unordered: Elements in a set are not stored in any particular order, and you cannot access them by indexing or position. Therefore, sets do not support indexing, slicing, or other sequence-like behavior.\n",
    "\n",
    "\n",
    "- Mutable: Sets are mutable, meaning you can add and remove elements after the set is created."
   ]
  },
  {
   "cell_type": "markdown",
   "id": "389b7984",
   "metadata": {},
   "source": [
    "# Explain Dictionary in python"
   ]
  },
  {
   "cell_type": "markdown",
   "id": "a5e60bee",
   "metadata": {},
   "source": [
    "A dictionary in Python is a built-in data type that stores a collection of key-value pairs. It is also known as an associative array, map, or hash table in other programming languages. \n",
    "\n",
    "\n",
    "- Dictionaries are mutable, unordered, and dynamic, allowing you to store and retrieve values based on their associated keys.\n",
    "\n",
    "1. Key-Value Pairs:\n",
    "- Each key in a dictionary must be unique, and it is associated with a specific value. The key and value together form a key-value pair."
   ]
  },
  {
   "cell_type": "code",
   "execution_count": 2,
   "id": "12715cc6",
   "metadata": {},
   "outputs": [
    {
     "name": "stdout",
     "output_type": "stream",
     "text": [
      "{56, 2, 3, 7}\n"
     ]
    }
   ],
   "source": [
    "#creating a sets \n",
    "set={2,3,56,7}\n",
    "print(set)"
   ]
  },
  {
   "cell_type": "code",
   "execution_count": 3,
   "id": "f7cbdf47",
   "metadata": {},
   "outputs": [
    {
     "name": "stdout",
     "output_type": "stream",
     "text": [
      "{2, 3, 5, 7, 56}\n"
     ]
    }
   ],
   "source": [
    "#adding elements\n",
    "sets={2,3,56,7}\n",
    "sets.add(5)\n",
    "print(sets)"
   ]
  },
  {
   "cell_type": "code",
   "execution_count": 4,
   "id": "0970e9cb",
   "metadata": {},
   "outputs": [
    {
     "name": "stdout",
     "output_type": "stream",
     "text": [
      "{56, 2, 3}\n"
     ]
    }
   ],
   "source": [
    "#removing elements\n",
    "sets={2,3,56,7}\n",
    "sets.remove(7)\n",
    "print(sets)"
   ]
  },
  {
   "cell_type": "code",
   "execution_count": 12,
   "id": "3f9b299b",
   "metadata": {},
   "outputs": [
    {
     "name": "stdout",
     "output_type": "stream",
     "text": [
      "{32, 65, 2, 35, 3, 34, 69}\n",
      "{65, 2}\n",
      "{35}\n"
     ]
    }
   ],
   "source": [
    "#union and intersection \n",
    "set1={2,35,65,2}\n",
    "set2={32,3,2,65,34,69}\n",
    "union_set=set1.union(set2)\n",
    "print(union_set)\n",
    "intersection_set=set2.intersection(set1)\n",
    "print(intersection_set)\n",
    "\n",
    "differnce_set=set1.difference(set2)\n",
    "print(differnce_set)"
   ]
  },
  {
   "cell_type": "code",
   "execution_count": 2,
   "id": "50661433",
   "metadata": {},
   "outputs": [
    {
     "name": "stdout",
     "output_type": "stream",
     "text": [
      "{32, 65, 2, 3, 34, 69}\n"
     ]
    }
   ],
   "source": [
    "#unique values\n",
    "list=[32,3,2,2,65,65,34,69]\n",
    "unique_set=set(list)\n",
    "print(unique_set)\n"
   ]
  },
  {
   "cell_type": "code",
   "execution_count": 5,
   "id": "d50bdbfe",
   "metadata": {},
   "outputs": [
    {
     "name": "stdout",
     "output_type": "stream",
     "text": [
      "{67, 5, 56}\n"
     ]
    }
   ],
   "source": [
    "#symmetric differnce\n",
    "set1={3,4,67,5}\n",
    "set2={3,56,4}\n",
    "symmetric_diff=set1.symmetric_difference(set2)\n",
    "print(symmetric_diff)"
   ]
  },
  {
   "cell_type": "code",
   "execution_count": null,
   "id": "a5ff52e9",
   "metadata": {},
   "outputs": [],
   "source": []
  },
  {
   "cell_type": "markdown",
   "id": "ccbc66b7",
   "metadata": {},
   "source": [
    "# dictionary codes"
   ]
  },
  {
   "cell_type": "code",
   "execution_count": 15,
   "id": "4c20e790",
   "metadata": {},
   "outputs": [
    {
     "name": "stdout",
     "output_type": "stream",
     "text": [
      "{'name': 'ajit', 'age': 24, 'roll': 4, 'city': 'sonipat'}\n"
     ]
    }
   ],
   "source": [
    "dict={\n",
    "    \"name\":\"ajit\",\n",
    "    \"age\":24,\n",
    "    \"roll\":4,\n",
    "    \"city\":\"sonipat\"}\n",
    "print(dict)"
   ]
  },
  {
   "cell_type": "code",
   "execution_count": 18,
   "id": "d936bbf2",
   "metadata": {},
   "outputs": [
    {
     "name": "stdout",
     "output_type": "stream",
     "text": [
      "ajit\n",
      "24\n",
      "sonipat\n"
     ]
    }
   ],
   "source": [
    "#accessing key value\n",
    "print(dict[\"name\"])\n",
    "print(dict[\"age\"])\n",
    "print(dict[\"city\"])"
   ]
  },
  {
   "cell_type": "code",
   "execution_count": 19,
   "id": "860e455c",
   "metadata": {},
   "outputs": [
    {
     "name": "stdout",
     "output_type": "stream",
     "text": [
      "{'name': 'ajit', 'age': 24, 'roll': 4, 'city': 'sonipat', 'salary': '40000', 'class': 12}\n"
     ]
    }
   ],
   "source": [
    "#adding one more key and value\n",
    "dict[\"salary\"]=\"40000\"\n",
    "dict[\"class\"]=12\n",
    "print(dict)"
   ]
  },
  {
   "cell_type": "code",
   "execution_count": 21,
   "id": "94086577",
   "metadata": {},
   "outputs": [
    {
     "name": "stdout",
     "output_type": "stream",
     "text": [
      "dict_keys(['name', 'age', 'roll', 'city', 'salary', 'class'])\n"
     ]
    }
   ],
   "source": [
    "keys=dict.keys()\n",
    "print(keys)"
   ]
  },
  {
   "cell_type": "code",
   "execution_count": 22,
   "id": "a9e76f7e",
   "metadata": {},
   "outputs": [
    {
     "name": "stdout",
     "output_type": "stream",
     "text": [
      "dict_values(['ajit', 24, 4, 'sonipat', '40000', 12])\n"
     ]
    }
   ],
   "source": [
    "values=dict.values()\n",
    "print(values)"
   ]
  },
  {
   "cell_type": "code",
   "execution_count": 23,
   "id": "4cd0fc49",
   "metadata": {},
   "outputs": [
    {
     "name": "stdout",
     "output_type": "stream",
     "text": [
      "dict_items([('name', 'ajit'), ('age', 24), ('roll', 4), ('city', 'sonipat'), ('salary', '40000'), ('class', 12)])\n"
     ]
    }
   ],
   "source": [
    "items=dict.items()\n",
    "print(items)"
   ]
  },
  {
   "cell_type": "code",
   "execution_count": 24,
   "id": "cc1202c0",
   "metadata": {},
   "outputs": [
    {
     "name": "stdout",
     "output_type": "stream",
     "text": [
      "{'name': 'ajit', 'age': 27, 'roll': 4, 'city': 'sonipat', 'salary': '40000', 'class': 12}\n"
     ]
    }
   ],
   "source": [
    "#update your element\n",
    "dict[\"age\"]=27\n",
    "print(dict)"
   ]
  },
  {
   "cell_type": "code",
   "execution_count": 25,
   "id": "ac5e92f8",
   "metadata": {},
   "outputs": [
    {
     "name": "stdout",
     "output_type": "stream",
     "text": [
      "{'name': 'ajit', 'age': 27, 'roll': 4, 'city': 'ajmer', 'salary': '40000', 'class': 12}\n"
     ]
    }
   ],
   "source": [
    "dict[\"city\"]=\"ajmer\"\n",
    "print(dict)"
   ]
  },
  {
   "cell_type": "code",
   "execution_count": 26,
   "id": "db81f05b",
   "metadata": {},
   "outputs": [
    {
     "name": "stdout",
     "output_type": "stream",
     "text": [
      "{'name': 'ajit', 'age': 27, 'roll': 4, 'salary': '40000', 'class': 12}\n"
     ]
    }
   ],
   "source": [
    "#delete any specific key\n",
    "dict.pop(\"city\")\n",
    "print(dict)"
   ]
  },
  {
   "cell_type": "code",
   "execution_count": 28,
   "id": "ef983373",
   "metadata": {},
   "outputs": [
    {
     "name": "stdout",
     "output_type": "stream",
     "text": [
      "False\n"
     ]
    }
   ],
   "source": [
    "#check key is present or not \n",
    "print(\"city\" in dict)"
   ]
  },
  {
   "cell_type": "code",
   "execution_count": 39,
   "id": "1ded69bb",
   "metadata": {},
   "outputs": [
    {
     "data": {
      "text/plain": [
       "{'name': 'ajit',\n",
       " 'age': 27,\n",
       " 'roll': 4,\n",
       " 'salary': '40000',\n",
       " 'class': 12,\n",
       " 'class1': 1222}"
      ]
     },
     "execution_count": 39,
     "metadata": {},
     "output_type": "execute_result"
    }
   ],
   "source": [
    "import copy\n",
    "# copy_dict=dict.copy()\n",
    "# copy_dict\n",
    "deep_copy=copy.deepcopy(dict)\n",
    "deep_copy\n"
   ]
  },
  {
   "cell_type": "code",
   "execution_count": 40,
   "id": "8949c538",
   "metadata": {},
   "outputs": [
    {
     "name": "stdout",
     "output_type": "stream",
     "text": [
      "{'name': ['ajit', 'akash', 'aman', 'ankita'], 'age': [24, 34, 5, 67]}\n"
     ]
    }
   ],
   "source": [
    "dict1={\"name\":[\"ajit\",\"akash\",\"aman\",\"ankita\"],\n",
    "      \"age\":[24,34,5,67],\n",
    "      }\n",
    "print(dict1)"
   ]
  },
  {
   "cell_type": "code",
   "execution_count": 41,
   "id": "80ae90f6",
   "metadata": {},
   "outputs": [
    {
     "name": "stdout",
     "output_type": "stream",
     "text": [
      "{'name': ['ajit', 'akash', 'aman', 'ankita'], 'age': [24, 34, 5, 67]}\n"
     ]
    }
   ],
   "source": [
    "shallow_copy=dict1.copy()\n",
    "print(shallow_copy)"
   ]
  },
  {
   "cell_type": "code",
   "execution_count": 42,
   "id": "10b7cf80",
   "metadata": {},
   "outputs": [
    {
     "name": "stdout",
     "output_type": "stream",
     "text": [
      "{'name': ['ajit', 'akash', 'aman', 'ankita'], 'age': [24, 34, 5, 67]}\n"
     ]
    }
   ],
   "source": [
    "deep_copy=copy.deepcopy(dict1)\n",
    "print(deep_copy)"
   ]
  },
  {
   "cell_type": "code",
   "execution_count": 43,
   "id": "1b61135a",
   "metadata": {},
   "outputs": [
    {
     "data": {
      "text/plain": [
       "{'name': ['ajit', 'akash', 'aman', 'ankita'], 'age': [24, 34, 5, 67]}"
      ]
     },
     "execution_count": 43,
     "metadata": {},
     "output_type": "execute_result"
    }
   ],
   "source": [
    "dict1"
   ]
  },
  {
   "cell_type": "code",
   "execution_count": 44,
   "id": "87e99d61",
   "metadata": {},
   "outputs": [
    {
     "name": "stdout",
     "output_type": "stream",
     "text": [
      "{'name': ['ajit', 'akash', 'aman', 'ankita'], 'age': [24, 34, 5, 67], 'ag1': '40000'}\n"
     ]
    }
   ],
   "source": [
    "#adding one more key and value\n",
    "dict1[\"ag1\"]=\"40000\"\n",
    "dict[\"class1\"]=1222\n",
    "print(dict1)"
   ]
  },
  {
   "cell_type": "code",
   "execution_count": 45,
   "id": "86028251",
   "metadata": {},
   "outputs": [
    {
     "data": {
      "text/plain": [
       "{'name': ['ajit', 'akash', 'aman', 'ankita'], 'age': [24, 34, 5, 67]}"
      ]
     },
     "execution_count": 45,
     "metadata": {},
     "output_type": "execute_result"
    }
   ],
   "source": [
    "deep_copy"
   ]
  },
  {
   "cell_type": "code",
   "execution_count": 46,
   "id": "d2afebd3",
   "metadata": {},
   "outputs": [
    {
     "data": {
      "text/plain": [
       "{'name': ['ajit', 'akash', 'aman', 'ankita'], 'age': [24, 34, 5, 67]}"
      ]
     },
     "execution_count": 46,
     "metadata": {},
     "output_type": "execute_result"
    }
   ],
   "source": [
    "shallow_copy"
   ]
  },
  {
   "cell_type": "code",
   "execution_count": null,
   "id": "9ecf0689",
   "metadata": {},
   "outputs": [],
   "source": []
  },
  {
   "cell_type": "code",
   "execution_count": null,
   "id": "2dff6850",
   "metadata": {},
   "outputs": [],
   "source": []
  }
 ],
 "metadata": {
  "kernelspec": {
   "display_name": "Python 3 (ipykernel)",
   "language": "python",
   "name": "python3"
  },
  "language_info": {
   "codemirror_mode": {
    "name": "ipython",
    "version": 3
   },
   "file_extension": ".py",
   "mimetype": "text/x-python",
   "name": "python",
   "nbconvert_exporter": "python",
   "pygments_lexer": "ipython3",
   "version": "3.9.7"
  }
 },
 "nbformat": 4,
 "nbformat_minor": 5
}
