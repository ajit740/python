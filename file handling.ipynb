{
 "cells": [
  {
   "cell_type": "markdown",
   "id": "3cbfda50",
   "metadata": {},
   "source": [
    "# what do you mean by file handling in python programming"
   ]
  },
  {
   "cell_type": "markdown",
   "id": "d5fe7ea0",
   "metadata": {},
   "source": [
    "File handling in Python refers to the process of working with files on your computer's storage system. \n",
    "Python provides built-in functions and modules that allow you to create, read, write, and manipulate files."
   ]
  },
  {
   "cell_type": "markdown",
   "id": "34c46ef2",
   "metadata": {},
   "source": [
    "# Opening and Closing Files"
   ]
  },
  {
   "cell_type": "markdown",
   "id": "8f28c288",
   "metadata": {},
   "source": [
    "\n",
    "You can open a file using the open() function. \n",
    "\n",
    "It requires the file name and the mode in which you want to open the file (read, write, append, etc.). \n",
    "\n",
    "Once you're done working with the file, it's good practice to close it using the close() method"
   ]
  },
  {
   "cell_type": "code",
   "execution_count": 3,
   "id": "699f01fb",
   "metadata": {},
   "outputs": [],
   "source": [
    "# Opening a file in read mode\n",
    "file = open(r'C:\\Users\\Ajit\\Downloads\\bank\\name.txt', 'r')"
   ]
  },
  {
   "cell_type": "code",
   "execution_count": 4,
   "id": "c5c2fca2",
   "metadata": {},
   "outputs": [
    {
     "data": {
      "text/plain": [
       "<_io.TextIOWrapper name='C:\\\\Users\\\\Ajit\\\\Downloads\\\\bank\\\\name.txt' mode='r' encoding='cp1252'>"
      ]
     },
     "execution_count": 4,
     "metadata": {},
     "output_type": "execute_result"
    }
   ],
   "source": [
    "file"
   ]
  },
  {
   "cell_type": "markdown",
   "id": "a2c5ddc0",
   "metadata": {},
   "source": [
    "Modes for Opening Files\n",
    "'r': Read mode (default). Opens a file for reading.\n",
    "    \n",
    " 'w': Write mode. Opens a file for writing. Creates a new file or truncates the existing content.\n",
    "\n",
    "'a': Append mode. Opens a file for writing at the end. Creates a new file if it doesn't exist.\n",
    "\n",
    " 'b': Binary mode. Opens a file in binary mode (e.g., 'rb' for reading binary files)."
   ]
  },
  {
   "cell_type": "markdown",
   "id": "09a12c4c",
   "metadata": {},
   "source": [
    "# how to read content of a file"
   ]
  },
  {
   "cell_type": "code",
   "execution_count": 5,
   "id": "573bdea3",
   "metadata": {},
   "outputs": [
    {
     "name": "stdout",
     "output_type": "stream",
     "text": [
      "This is line 1.\n",
      "This is line 2.\n",
      "This is line 3.\n",
      "\n"
     ]
    }
   ],
   "source": [
    "content = file.read()  # Reads the entire content of the file\n",
    "print(content)"
   ]
  },
  {
   "cell_type": "code",
   "execution_count": 6,
   "id": "9a4822e3",
   "metadata": {},
   "outputs": [],
   "source": [
    "file.close()"
   ]
  },
  {
   "cell_type": "markdown",
   "id": "3202e0db",
   "metadata": {},
   "source": [
    "# Writing to a File"
   ]
  },
  {
   "cell_type": "code",
   "execution_count": 7,
   "id": "d19db0d5",
   "metadata": {},
   "outputs": [],
   "source": [
    "file = open(r'C:\\Users\\Ajit\\Downloads\\bank\\name.txt', 'w')\n",
    "file.write('Hello, this is a sample text.')\n",
    "file.close()"
   ]
  },
  {
   "cell_type": "code",
   "execution_count": 8,
   "id": "dd6630c4",
   "metadata": {},
   "outputs": [],
   "source": [
    "file=open(r'C:\\Users\\Ajit\\Downloads\\bank\\ajit.txt')"
   ]
  },
  {
   "cell_type": "code",
   "execution_count": 9,
   "id": "7af48502",
   "metadata": {},
   "outputs": [
    {
     "data": {
      "text/plain": [
       "<_io.TextIOWrapper name='C:\\\\Users\\\\Ajit\\\\Downloads\\\\bank\\\\ajit.txt' mode='r' encoding='cp1252'>"
      ]
     },
     "execution_count": 9,
     "metadata": {},
     "output_type": "execute_result"
    }
   ],
   "source": [
    "file"
   ]
  },
  {
   "cell_type": "code",
   "execution_count": 10,
   "id": "8e6a154e",
   "metadata": {},
   "outputs": [
    {
     "name": "stdout",
     "output_type": "stream",
     "text": [
      "my name is ajay kumar\n",
      " this the my next file\n",
      " this the my next file\n",
      " this the my next file\n",
      " this the my next file\n"
     ]
    }
   ],
   "source": [
    "content=file.read()\n",
    "print(content)"
   ]
  },
  {
   "cell_type": "code",
   "execution_count": 11,
   "id": "d4ea2a00",
   "metadata": {},
   "outputs": [],
   "source": [
    "file=open(r'C:\\Users\\Ajit\\Downloads\\bank\\ajit.txt','w')\n",
    "file.write('my name is ajay kumar')\n",
    "file.close()"
   ]
  },
  {
   "cell_type": "code",
   "execution_count": 12,
   "id": "47f18ec9",
   "metadata": {},
   "outputs": [
    {
     "data": {
      "text/plain": [
       "<_io.TextIOWrapper name='C:\\\\Users\\\\Ajit\\\\Downloads\\\\bank\\\\ajit.txt' mode='w' encoding='cp1252'>"
      ]
     },
     "execution_count": 12,
     "metadata": {},
     "output_type": "execute_result"
    }
   ],
   "source": [
    "file"
   ]
  },
  {
   "cell_type": "code",
   "execution_count": 13,
   "id": "0106e852",
   "metadata": {},
   "outputs": [
    {
     "name": "stdout",
     "output_type": "stream",
     "text": [
      "my name is ajay kumar\n",
      " this the my next file\n",
      " this the my next file\n",
      " this the my next file\n",
      " this the my next file\n"
     ]
    }
   ],
   "source": [
    "print(content)"
   ]
  },
  {
   "cell_type": "code",
   "execution_count": 14,
   "id": "775f6f48",
   "metadata": {},
   "outputs": [
    {
     "data": {
      "text/plain": [
       "<_io.TextIOWrapper name='C:\\\\Users\\\\Ajit\\\\Downloads\\\\bank\\\\ajit.txt' mode='w' encoding='cp1252'>"
      ]
     },
     "execution_count": 14,
     "metadata": {},
     "output_type": "execute_result"
    }
   ],
   "source": [
    "file"
   ]
  },
  {
   "cell_type": "code",
   "execution_count": 15,
   "id": "07990323",
   "metadata": {},
   "outputs": [
    {
     "name": "stdout",
     "output_type": "stream",
     "text": [
      "my name is ajay kumar\n",
      " this the my next file\n",
      " this the my next file\n",
      " this the my next file\n",
      " this the my next file\n"
     ]
    }
   ],
   "source": [
    "print(content)"
   ]
  },
  {
   "cell_type": "code",
   "execution_count": 16,
   "id": "4cfff2fa",
   "metadata": {},
   "outputs": [],
   "source": [
    "file= open(r'C:\\Users\\Ajit\\Downloads\\bank\\name.txt', 'a')\n",
    "file.write('\\n i am from sonipat.')\n",
    "file.close()\n"
   ]
  },
  {
   "cell_type": "code",
   "execution_count": 24,
   "id": "c0e2dad8",
   "metadata": {},
   "outputs": [
    {
     "data": {
      "text/plain": [
       "<_io.TextIOWrapper name='C:\\\\Users\\\\Ajit\\\\Downloads\\\\bank\\\\name.txt' mode='r' encoding='cp1252'>"
      ]
     },
     "execution_count": 24,
     "metadata": {},
     "output_type": "execute_result"
    }
   ],
   "source": [
    "file"
   ]
  },
  {
   "cell_type": "code",
   "execution_count": null,
   "id": "9d191fca",
   "metadata": {},
   "outputs": [],
   "source": [
    "print(content)"
   ]
  },
  {
   "cell_type": "markdown",
   "id": "6f107117",
   "metadata": {},
   "source": [
    "# Using with Statement (Context Managers)\n",
    "Python's with statement is used for automatically managing resources, such as files. It ensures that files are properly closed after their suite finishes."
   ]
  },
  {
   "cell_type": "code",
   "execution_count": 18,
   "id": "0b48b738",
   "metadata": {},
   "outputs": [
    {
     "name": "stdout",
     "output_type": "stream",
     "text": [
      "my name is ajay kumar\n"
     ]
    }
   ],
   "source": [
    "with open(r'C:\\Users\\Ajit\\Downloads\\bank\\ajit.txt') as file:\n",
    "          content=file.read()\n",
    "          print(content)"
   ]
  },
  {
   "cell_type": "code",
   "execution_count": 19,
   "id": "e72482fe",
   "metadata": {},
   "outputs": [],
   "source": [
    "with open(r'C:\\Users\\Ajit\\Downloads\\bank\\ajit.txt','a') as file:\n",
    "    file.write(\"\\n this the my next file\")\n",
    "    \n",
    "    \n",
    "    \n"
   ]
  },
  {
   "cell_type": "code",
   "execution_count": null,
   "id": "8fd2ba67",
   "metadata": {},
   "outputs": [],
   "source": []
  },
  {
   "cell_type": "markdown",
   "id": "1c55394d",
   "metadata": {},
   "source": [
    "# what is readline() method in file handling"
   ]
  },
  {
   "cell_type": "markdown",
   "id": "74da0cae",
   "metadata": {},
   "source": [
    "The readline() method in file handling is used to read a single line from a file. When you open a file in Python using the open() function and specify the mode as 'r' (read mode), you can use the readline() method to read individual lines within that file."
   ]
  },
  {
   "cell_type": "code",
   "execution_count": 20,
   "id": "0c882fed",
   "metadata": {},
   "outputs": [
    {
     "name": "stdout",
     "output_type": "stream",
     "text": [
      "Hello, this is a sample text.\n",
      "\n"
     ]
    }
   ],
   "source": [
    "# Opening a file in read mode using a raw string\n",
    "file_path = r'C:\\Users\\Ajit\\Downloads\\bank\\name.txt'\n",
    "\n",
    "with open(file_path, 'r') as file:\n",
    "    line = file.readline()  # Reads the first line\n",
    "    print(line)\n",
    "    \n",
    "\n"
   ]
  },
  {
   "cell_type": "code",
   "execution_count": 28,
   "id": "16092f64",
   "metadata": {},
   "outputs": [
    {
     "name": "stdout",
     "output_type": "stream",
     "text": [
      "This is line 1.\n",
      "This is line 2.\n",
      "This is line 3.\n"
     ]
    }
   ],
   "source": [
    "# Opening a file in read mode using a raw string\n",
    "file_path = r'C:\\Users\\Ajit\\Downloads\\bank\\name.txt'\n",
    "\n",
    "with open(file_path, 'r') as file:\n",
    "    line = file.readline()  # Reads the first line\n",
    "    while line:\n",
    "        print(line.strip())  # The line.strip() function in Python is used to remove \n",
    "        #any leading and trailing whitespace characters (such as spaces, tabs, newline characters, etc.)\n",
    "        #from a string.\n",
    "        line = file.readline()  # Reads the next line\n"
   ]
  },
  {
   "cell_type": "markdown",
   "id": "0943bb3a",
   "metadata": {},
   "source": [
    "file.readline() reads a single line from the file each time it's called.\n",
    "\n",
    "line stores the content of the currently read line.\n",
    "\n",
    "The while line: loop continues until the variable line is an empty string, which happens when there are no more lines to read.\n",
    "\n",
    "Inside the loop, print(line.strip()) displays the line content using print(). \n",
    "\n",
    ".strip() removes any leading or trailing whitespace characters (like spaces, tabs, or newline characters) from the line before printing it.\n",
    "\n",
    "line = file.readline() reads the next line, and the process continues until the end of the file is reached."
   ]
  },
  {
   "cell_type": "markdown",
   "id": "815449fd",
   "metadata": {},
   "source": [
    "# Writing to a File in readline()"
   ]
  },
  {
   "cell_type": "code",
   "execution_count": 22,
   "id": "359a8192",
   "metadata": {},
   "outputs": [],
   "source": [
    "file_path = r'C:\\Users\\Ajit\\Downloads\\bank\\name.txt'\n",
    "\n",
    "# Writing to a file\n",
    "with open(file_path, 'w') as file:\n",
    "    file.write(\"This is line 1.\\n\")\n",
    "    file.write(\"This is line 2.\\n\")\n",
    "    file.write(\"This is line 3.\\n\")\n"
   ]
  },
  {
   "cell_type": "code",
   "execution_count": 23,
   "id": "e46af98e",
   "metadata": {},
   "outputs": [
    {
     "name": "stdout",
     "output_type": "stream",
     "text": [
      "This is line 1.\n",
      "This is line 2.\n",
      "This is line 3.\n",
      "\n"
     ]
    }
   ],
   "source": [
    "file_path = r'C:\\Users\\Ajit\\Downloads\\bank\\name.txt'\n",
    "\n",
    "# Reading the entire file\n",
    "with open(file_path, 'r') as file:\n",
    "    content = file.read()\n",
    "    print(content)\n"
   ]
  },
  {
   "cell_type": "code",
   "execution_count": 27,
   "id": "46d0b719",
   "metadata": {},
   "outputs": [
    {
     "name": "stdout",
     "output_type": "stream",
     "text": [
      "<_io.TextIOWrapper name='C:\\\\Users\\\\Ajit\\\\Downloads\\\\bank\\\\name.txt' mode='r' encoding='cp1252'>\n",
      "This is line 2.\n",
      "This is line 3.\n",
      "\n"
     ]
    }
   ],
   "source": [
    "with open(r'C:\\Users\\Ajit\\Downloads\\bank\\name.txt','r') as file:\n",
    "    line=file.readline()\n",
    "    print(file)\n",
    "    content=file.read()\n",
    "    print(content)"
   ]
  },
  {
   "cell_type": "code",
   "execution_count": 31,
   "id": "40eacd6a",
   "metadata": {},
   "outputs": [
    {
     "name": "stdout",
     "output_type": "stream",
     "text": [
      "This is line 1.\n",
      "This is line 2.\n",
      "This is line 3.\n"
     ]
    }
   ],
   "source": [
    "\n",
    "with open(r'C:\\Users\\Ajit\\Downloads\\bank\\name.txt','r')as file:\n",
    "    \n",
    "    line=file.readline()\n",
    "    while line:\n",
    "        print(line.strip())\n",
    "        line=file.readline()"
   ]
  },
  {
   "cell_type": "code",
   "execution_count": null,
   "id": "8313f542",
   "metadata": {},
   "outputs": [],
   "source": []
  }
 ],
 "metadata": {
  "kernelspec": {
   "display_name": "Python 3 (ipykernel)",
   "language": "python",
   "name": "python3"
  },
  "language_info": {
   "codemirror_mode": {
    "name": "ipython",
    "version": 3
   },
   "file_extension": ".py",
   "mimetype": "text/x-python",
   "name": "python",
   "nbconvert_exporter": "python",
   "pygments_lexer": "ipython3",
   "version": "3.9.7"
  }
 },
 "nbformat": 4,
 "nbformat_minor": 5
}
