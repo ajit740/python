{
 "cells": [
  {
   "cell_type": "markdown",
   "id": "e74cd6ac",
   "metadata": {},
   "source": [
    "# What is list in python"
   ]
  },
  {
   "cell_type": "markdown",
   "id": "274b4250",
   "metadata": {},
   "source": [
    "In Python, a list is a versatile and widely used data structure that allows you to store and manipulate a collection of items. Here are the key features and operations associated with lists in Python:\n",
    "\n",
    "1. Ordered Collection: Lists maintain the order of elements as they are inserted. This means that the position of an element in a list is significant, and you can access elements based on their index.\n",
    "\n",
    "\n",
    "2. Mutable: Lists are mutable, which means you can modify their contents by adding, removing, or modifying elements. This mutability distinguishes lists from other data structures like tuples, which are immutable.\n",
    "\n",
    "\n",
    "3. Dynamic Sizing: Lists in many programming languages can dynamically resize to accommodate the changing number of elements. This means you can easily add or remove items without specifying the size beforehand."
   ]
  },
  {
   "cell_type": "markdown",
   "id": "1a975df3",
   "metadata": {},
   "source": [
    "List Methods:\n",
    "Python provides various built-in methods to manipulate lists. Some commonly used methods include:\n",
    "\n",
    "- append(): Adds an element to the end of the list.\n",
    "\n",
    "- extend(): Appends the elements of another iterable to the end of the list.\n",
    "\n",
    "- pop(): Removes and returns the last element of the list (or a specific index).\n",
    "\n",
    "- clear(): Removes all elements from the list.\n",
    "\n",
    "- index(): Returns the index of the first occurrence of a value.\n",
    "\n",
    "- count(): Returns the number of occurrences of a value.\n",
    "\n",
    "- reverse(): Reverses the order of elements in the list.\n",
    "    "
   ]
  },
  {
   "cell_type": "code",
   "execution_count": 1,
   "id": "adf71ba2",
   "metadata": {},
   "outputs": [
    {
     "name": "stdout",
     "output_type": "stream",
     "text": [
      "[2, 45, 667, 88]\n"
     ]
    }
   ],
   "source": [
    "#Creating a list\n",
    "list=[2,45,667,88]\n",
    "print(list)"
   ]
  },
  {
   "cell_type": "code",
   "execution_count": 4,
   "id": "3f89c35c",
   "metadata": {},
   "outputs": [
    {
     "name": "stdout",
     "output_type": "stream",
     "text": [
      "[2, 45, 16, 667, 88]\n"
     ]
    }
   ],
   "source": [
    "#insert operation\n",
    "list=[2,45,667,88]\n",
    "list.insert(2,16)\n",
    "print(list)"
   ]
  },
  {
   "cell_type": "code",
   "execution_count": 5,
   "id": "e7fa82f4",
   "metadata": {},
   "outputs": [
    {
     "name": "stdout",
     "output_type": "stream",
     "text": [
      "[2, 45, 667, 88, 16]\n"
     ]
    }
   ],
   "source": [
    "#append \n",
    "list=[2,45,667,88]\n",
    "list.append(16)\n",
    "print(list)"
   ]
  },
  {
   "cell_type": "code",
   "execution_count": 9,
   "id": "4359f7e6",
   "metadata": {},
   "outputs": [
    {
     "name": "stdout",
     "output_type": "stream",
     "text": [
      "4\n"
     ]
    }
   ],
   "source": [
    "#count\n",
    "list=[2,45,45,45,45,667,88]\n",
    "count=list.count(45)\n",
    "print(count)"
   ]
  },
  {
   "cell_type": "code",
   "execution_count": 16,
   "id": "76d323ed",
   "metadata": {},
   "outputs": [
    {
     "name": "stdout",
     "output_type": "stream",
     "text": [
      "[24, 64, 6]\n"
     ]
    }
   ],
   "source": [
    "#pop\n",
    "list=[23,24,64,6]\n",
    "list.pop(0)\n",
    "print(list)"
   ]
  },
  {
   "cell_type": "code",
   "execution_count": 21,
   "id": "3bbd9d9f",
   "metadata": {},
   "outputs": [
    {
     "data": {
      "text/plain": [
       "2"
      ]
     },
     "execution_count": 21,
     "metadata": {},
     "output_type": "execute_result"
    }
   ],
   "source": [
    "#index\n",
    "list=[23,24,64,6]\n",
    "list.index(64)"
   ]
  },
  {
   "cell_type": "code",
   "execution_count": 22,
   "id": "b0bef015",
   "metadata": {},
   "outputs": [
    {
     "name": "stdout",
     "output_type": "stream",
     "text": [
      "[2, 35, 6, 77, 8, 9]\n"
     ]
    }
   ],
   "source": [
    "#copy\n",
    "list=[2,35,6,77,8,9]\n",
    "cp=list.copy()\n",
    "print(cp)"
   ]
  },
  {
   "cell_type": "code",
   "execution_count": 23,
   "id": "891bd373",
   "metadata": {},
   "outputs": [
    {
     "name": "stdout",
     "output_type": "stream",
     "text": [
      "[]\n"
     ]
    }
   ],
   "source": [
    "#clear\n",
    "list=[2,35,6,77,8,9]\n",
    "list.clear()\n",
    "print(list)"
   ]
  },
  {
   "cell_type": "code",
   "execution_count": 24,
   "id": "7f154cb9",
   "metadata": {},
   "outputs": [
    {
     "name": "stdout",
     "output_type": "stream",
     "text": [
      "[2, 6, 8, 9, 35, 77]\n"
     ]
    }
   ],
   "source": [
    "#sort\n",
    "list=[2,35,6,77,8,9]\n",
    "list.sort()\n",
    "print(list)"
   ]
  },
  {
   "cell_type": "code",
   "execution_count": 25,
   "id": "39044c37",
   "metadata": {},
   "outputs": [
    {
     "name": "stdout",
     "output_type": "stream",
     "text": [
      "[2, 45, 6, 43, 46, 7]\n"
     ]
    }
   ],
   "source": [
    "#concatination\n",
    "list1=[2,45,6]\n",
    "list2=[43,46,7]\n",
    "result=list1+list2\n",
    "print(result)"
   ]
  },
  {
   "cell_type": "code",
   "execution_count": 27,
   "id": "9ccfa139",
   "metadata": {},
   "outputs": [
    {
     "name": "stdout",
     "output_type": "stream",
     "text": [
      "[7, 46, 43]\n"
     ]
    }
   ],
   "source": [
    "#reverse\n",
    "list2=[43,46,7]\n",
    "list2.reverse()\n",
    "print(list2)"
   ]
  },
  {
   "cell_type": "code",
   "execution_count": 29,
   "id": "a3339d1f",
   "metadata": {},
   "outputs": [
    {
     "name": "stdout",
     "output_type": "stream",
     "text": [
      "7\n"
     ]
    }
   ],
   "source": [
    "#length\n",
    "list1=[2,45,6,43,56,77,89]\n",
    "print(len(list1))"
   ]
  },
  {
   "cell_type": "code",
   "execution_count": 31,
   "id": "e8182082",
   "metadata": {},
   "outputs": [
    {
     "name": "stdout",
     "output_type": "stream",
     "text": [
      "[45, 6, 43, 56, 77, 89]\n"
     ]
    }
   ],
   "source": [
    "#remove\n",
    "list1=[2,45,6,43,56,77,89]\n",
    "list1.remove(2)\n",
    "print(list1)\n"
   ]
  },
  {
   "cell_type": "code",
   "execution_count": 33,
   "id": "c082438b",
   "metadata": {},
   "outputs": [
    {
     "name": "stdout",
     "output_type": "stream",
     "text": [
      "56\n"
     ]
    }
   ],
   "source": [
    "#accessing\n",
    "list1=[2,45,6,43,56,77,89]\n",
    "print(list1[4])"
   ]
  },
  {
   "cell_type": "code",
   "execution_count": 38,
   "id": "380d5a99",
   "metadata": {},
   "outputs": [
    {
     "name": "stdout",
     "output_type": "stream",
     "text": [
      "[6, 56, 89, 24]\n"
     ]
    }
   ],
   "source": [
    "#slicing\n",
    "list1=[2,45,6,43,56,77,89,3,24,5,67,78]\n",
    "li=(list1[2:10:2])\n",
    "print(li)"
   ]
  },
  {
   "cell_type": "code",
   "execution_count": 39,
   "id": "7ac0c355",
   "metadata": {},
   "outputs": [
    {
     "name": "stdout",
     "output_type": "stream",
     "text": [
      "emoclewolleh\n"
     ]
    }
   ],
   "source": [
    "#reverse using slicing\n",
    "string=\"hellowelcome\"\n",
    "reverse=(string[::-1])\n",
    "print(reverse)"
   ]
  },
  {
   "cell_type": "code",
   "execution_count": 43,
   "id": "99f33e5d",
   "metadata": {},
   "outputs": [
    {
     "name": "stdout",
     "output_type": "stream",
     "text": [
      "lwc\n"
     ]
    }
   ],
   "source": [
    "#slicing \n",
    "string=\"hellowelcome\"\n",
    "li=(string[2:10:3])\n",
    "print(li)"
   ]
  },
  {
   "cell_type": "markdown",
   "id": "33225e4c",
   "metadata": {},
   "source": [
    "# Tuple in python"
   ]
  },
  {
   "cell_type": "code",
   "execution_count": 45,
   "id": "62a89106",
   "metadata": {},
   "outputs": [
    {
     "name": "stdout",
     "output_type": "stream",
     "text": [
      "(2, 4, 67, 778, 5, 4)\n"
     ]
    }
   ],
   "source": [
    "#creating a tuple\n",
    "tuple=(2,4,67,778,5,4)\n",
    "print(tuple)"
   ]
  },
  {
   "cell_type": "code",
   "execution_count": 46,
   "id": "8ecfbbcf",
   "metadata": {},
   "outputs": [
    {
     "name": "stdout",
     "output_type": "stream",
     "text": [
      "67\n"
     ]
    }
   ],
   "source": [
    "#accessing element\n",
    "tuple=(2,4,67,778,5,4)\n",
    "print(tuple[2])"
   ]
  },
  {
   "cell_type": "code",
   "execution_count": 49,
   "id": "9a39262a",
   "metadata": {},
   "outputs": [
    {
     "name": "stdout",
     "output_type": "stream",
     "text": [
      "2\n",
      "3\n",
      "4\n"
     ]
    }
   ],
   "source": [
    "#tuple unpacking\n",
    "tuple=(2,3,4)\n",
    "x,y,z=tuple\n",
    "print(x)\n",
    "print(y)\n",
    "print(z)"
   ]
  },
  {
   "cell_type": "code",
   "execution_count": 52,
   "id": "6a2702c6",
   "metadata": {},
   "outputs": [
    {
     "name": "stdout",
     "output_type": "stream",
     "text": [
      "(2, 3, 5)\n"
     ]
    }
   ],
   "source": [
    "#packing a tuple\n",
    "x,y,z=2,3,5\n",
    "tuple=x,y,z\n",
    "print(tuple)"
   ]
  },
  {
   "cell_type": "code",
   "execution_count": 50,
   "id": "ab04dc77",
   "metadata": {},
   "outputs": [
    {
     "name": "stdout",
     "output_type": "stream",
     "text": [
      "(2, 4, 67, 778, 5, 4, 2, 3, 4)\n"
     ]
    }
   ],
   "source": [
    "#tuple concatination\n",
    "tuple1=(2,4,67,778,5,4)\n",
    "tuple2=(2,3,4)\n",
    "result=tuple1+tuple2\n",
    "print(result)"
   ]
  },
  {
   "cell_type": "code",
   "execution_count": 51,
   "id": "cdfe4c70",
   "metadata": {},
   "outputs": [
    {
     "name": "stdout",
     "output_type": "stream",
     "text": [
      "6\n"
     ]
    }
   ],
   "source": [
    "tuple=(2,4,67,778,5,4)\n",
    "print(len(tuple))"
   ]
  },
  {
   "cell_type": "code",
   "execution_count": 55,
   "id": "bde6d944",
   "metadata": {},
   "outputs": [
    {
     "name": "stdout",
     "output_type": "stream",
     "text": [
      "(2, 4, 67, 778, 5, 4, 2, 4, 67, 778, 5, 4)\n"
     ]
    }
   ],
   "source": [
    "#multiplication of a tuple\n",
    "tuple=(2,4,67,778,5,4)\n",
    "li=tuple*2\n",
    "print(li)"
   ]
  },
  {
   "cell_type": "code",
   "execution_count": null,
   "id": "f8d2ab38",
   "metadata": {},
   "outputs": [],
   "source": []
  }
 ],
 "metadata": {
  "kernelspec": {
   "display_name": "Python 3 (ipykernel)",
   "language": "python",
   "name": "python3"
  },
  "language_info": {
   "codemirror_mode": {
    "name": "ipython",
    "version": 3
   },
   "file_extension": ".py",
   "mimetype": "text/x-python",
   "name": "python",
   "nbconvert_exporter": "python",
   "pygments_lexer": "ipython3",
   "version": "3.9.7"
  }
 },
 "nbformat": 4,
 "nbformat_minor": 5
}
